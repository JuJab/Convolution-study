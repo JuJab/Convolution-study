{
 "cells": [
  {
   "cell_type": "markdown",
   "id": "43b1ca35",
   "metadata": {},
   "source": [
    "### 옵티마이저 (Optimizer)\n",
    "옵티마이저에는 대표적으로 SGD, Momentum, AdaGrad, RMSProp, Adam 등이 있다.\n",
    "\n",
    "- SGD는 **기본 경사 하강법**을 말하며, 일정한 정도만큼 경사를 내려가 최저치를 찾아나서는 알고리즘이다.\n",
    "- Momentum은 그레디언트(기울기)를 모멘텀(가속도)로 사용하여 경사를 내려가는 정도를 최적화하는 알고리즘이다.\n",
    "- "
   ]
  },
  {
   "cell_type": "markdown",
   "id": "09f07872",
   "metadata": {},
   "source": [
    "#### SGD\n",
    " <img src='op_img/sgd.png' width='450'> \n",
    " <img src='op_img/sgd_modify.png'> "
   ]
  },
  {
   "cell_type": "code",
   "execution_count": 1,
   "id": "16c8e06c",
   "metadata": {},
   "outputs": [],
   "source": [
    "# SGD\n",
    "class SGD:\n",
    "    def __init__(self, lr=0.01):\n",
    "        self.lr = lr\n",
    "    \n",
    "    def update(self, params, grads):\n",
    "        for key in params.keys():\n",
    "            params[key] -= self.lr * grads[key]"
   ]
  },
  {
   "cell_type": "markdown",
   "id": "a319d5c6",
   "metadata": {},
   "source": [
    "#### Momentum\n",
    " <img src='op_img/momentum.png' width='450'> \n",
    " <img src='op_img/momentum_modify.png'> \n",
    " 여기서 새로 등장하는 변수 V는 속도(velocity)를 말한다. momentum은 운동량 혹은 가속도로 쓰이며, "
   ]
  },
  {
   "cell_type": "code",
   "execution_count": null,
   "id": "62f05fee",
   "metadata": {},
   "outputs": [],
   "source": []
  }
 ],
 "metadata": {
  "kernelspec": {
   "display_name": "Python 3 (ipykernel)",
   "language": "python",
   "name": "python3"
  },
  "language_info": {
   "codemirror_mode": {
    "name": "ipython",
    "version": 3
   },
   "file_extension": ".py",
   "mimetype": "text/x-python",
   "name": "python",
   "nbconvert_exporter": "python",
   "pygments_lexer": "ipython3",
   "version": "3.9.12"
  }
 },
 "nbformat": 4,
 "nbformat_minor": 5
}
