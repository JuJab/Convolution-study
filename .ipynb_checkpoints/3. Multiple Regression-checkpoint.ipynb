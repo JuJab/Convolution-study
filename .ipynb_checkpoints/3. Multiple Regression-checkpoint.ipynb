{
 "cells": [
  {
   "cell_type": "markdown",
   "id": "4132705e",
   "metadata": {},
   "source": [
    "# *다중 회귀 (Multiple Regression)*\n",
    "\n",
    "# 1. 특성 공학 (Feature Engineering)"
   ]
  },
  {
   "cell_type": "code",
   "execution_count": 1,
   "id": "0b6002f0",
   "metadata": {},
   "outputs": [
    {
     "name": "stdout",
     "output_type": "stream",
     "text": [
      "[[ 8.4   2.11  1.41]\n",
      " [13.7   3.53  2.  ]\n",
      " [15.    3.82  2.43]\n",
      " [16.2   4.59  2.63]\n",
      " [17.4   4.59  2.94]\n",
      " [18.    5.22  3.32]\n",
      " [18.7   5.2   3.12]\n",
      " [19.    5.64  3.05]\n",
      " [19.6   5.14  3.04]\n",
      " [20.    5.08  2.77]\n",
      " [21.    5.69  3.56]\n",
      " [21.    5.92  3.31]\n",
      " [21.    5.69  3.67]\n",
      " [21.3   6.38  3.53]\n",
      " [22.    6.11  3.41]\n",
      " [22.    5.64  3.52]\n",
      " [22.    6.11  3.52]\n",
      " [22.    5.88  3.52]\n",
      " [22.    5.52  4.  ]\n",
      " [22.5   5.86  3.62]\n",
      " [22.5   6.79  3.62]\n",
      " [22.7   5.95  3.63]\n",
      " [23.    5.22  3.63]\n",
      " [23.5   6.28  3.72]\n",
      " [24.    7.29  3.72]\n",
      " [24.    6.38  3.82]\n",
      " [24.6   6.73  4.17]\n",
      " [25.    6.44  3.68]\n",
      " [25.6   6.56  4.24]\n",
      " [26.5   7.17  4.14]\n",
      " [27.3   8.32  5.14]\n",
      " [27.5   7.17  4.34]\n",
      " [27.5   7.05  4.34]\n",
      " [27.5   7.28  4.57]\n",
      " [28.    7.82  4.2 ]\n",
      " [28.7   7.59  4.64]\n",
      " [30.    7.62  4.77]\n",
      " [32.8  10.03  6.02]\n",
      " [34.5  10.26  6.39]\n",
      " [35.   11.49  7.8 ]\n",
      " [36.5  10.88  6.86]\n",
      " [36.   10.61  6.74]\n",
      " [37.   10.84  6.26]\n",
      " [37.   10.57  6.37]\n",
      " [39.   11.14  7.49]\n",
      " [39.   11.14  6.  ]\n",
      " [39.   12.43  7.35]\n",
      " [40.   11.93  7.11]\n",
      " [40.   11.73  7.22]\n",
      " [40.   12.38  7.46]\n",
      " [40.   11.14  6.63]\n",
      " [42.   12.8   6.87]\n",
      " [43.   11.93  7.28]\n",
      " [43.   12.51  7.42]\n",
      " [43.5  12.6   8.14]\n",
      " [44.   12.49  7.6 ]]\n"
     ]
    }
   ],
   "source": [
    "import pandas as pd\n",
    "import numpy as np\n",
    "\n",
    "df = pd.read_csv('https://bit.ly/perch_csv_data')\n",
    "perch_full = df.to_numpy() # dataframe 타입을 numpy 형태로 변환\n",
    "print(perch_full)"
   ]
  },
  {
   "cell_type": "code",
   "execution_count": 2,
   "id": "c9b3f9b1",
   "metadata": {},
   "outputs": [
    {
     "data": {
      "text/html": [
       "<div>\n",
       "<style scoped>\n",
       "    .dataframe tbody tr th:only-of-type {\n",
       "        vertical-align: middle;\n",
       "    }\n",
       "\n",
       "    .dataframe tbody tr th {\n",
       "        vertical-align: top;\n",
       "    }\n",
       "\n",
       "    .dataframe thead th {\n",
       "        text-align: right;\n",
       "    }\n",
       "</style>\n",
       "<table border=\"1\" class=\"dataframe\">\n",
       "  <thead>\n",
       "    <tr style=\"text-align: right;\">\n",
       "      <th></th>\n",
       "      <th>length</th>\n",
       "      <th>height</th>\n",
       "      <th>width</th>\n",
       "    </tr>\n",
       "  </thead>\n",
       "  <tbody>\n",
       "    <tr>\n",
       "      <th>0</th>\n",
       "      <td>8.4</td>\n",
       "      <td>2.11</td>\n",
       "      <td>1.41</td>\n",
       "    </tr>\n",
       "    <tr>\n",
       "      <th>1</th>\n",
       "      <td>13.7</td>\n",
       "      <td>3.53</td>\n",
       "      <td>2.00</td>\n",
       "    </tr>\n",
       "    <tr>\n",
       "      <th>2</th>\n",
       "      <td>15.0</td>\n",
       "      <td>3.82</td>\n",
       "      <td>2.43</td>\n",
       "    </tr>\n",
       "    <tr>\n",
       "      <th>3</th>\n",
       "      <td>16.2</td>\n",
       "      <td>4.59</td>\n",
       "      <td>2.63</td>\n",
       "    </tr>\n",
       "    <tr>\n",
       "      <th>4</th>\n",
       "      <td>17.4</td>\n",
       "      <td>4.59</td>\n",
       "      <td>2.94</td>\n",
       "    </tr>\n",
       "    <tr>\n",
       "      <th>5</th>\n",
       "      <td>18.0</td>\n",
       "      <td>5.22</td>\n",
       "      <td>3.32</td>\n",
       "    </tr>\n",
       "    <tr>\n",
       "      <th>6</th>\n",
       "      <td>18.7</td>\n",
       "      <td>5.20</td>\n",
       "      <td>3.12</td>\n",
       "    </tr>\n",
       "    <tr>\n",
       "      <th>7</th>\n",
       "      <td>19.0</td>\n",
       "      <td>5.64</td>\n",
       "      <td>3.05</td>\n",
       "    </tr>\n",
       "    <tr>\n",
       "      <th>8</th>\n",
       "      <td>19.6</td>\n",
       "      <td>5.14</td>\n",
       "      <td>3.04</td>\n",
       "    </tr>\n",
       "    <tr>\n",
       "      <th>9</th>\n",
       "      <td>20.0</td>\n",
       "      <td>5.08</td>\n",
       "      <td>2.77</td>\n",
       "    </tr>\n",
       "    <tr>\n",
       "      <th>10</th>\n",
       "      <td>21.0</td>\n",
       "      <td>5.69</td>\n",
       "      <td>3.56</td>\n",
       "    </tr>\n",
       "    <tr>\n",
       "      <th>11</th>\n",
       "      <td>21.0</td>\n",
       "      <td>5.92</td>\n",
       "      <td>3.31</td>\n",
       "    </tr>\n",
       "    <tr>\n",
       "      <th>12</th>\n",
       "      <td>21.0</td>\n",
       "      <td>5.69</td>\n",
       "      <td>3.67</td>\n",
       "    </tr>\n",
       "    <tr>\n",
       "      <th>13</th>\n",
       "      <td>21.3</td>\n",
       "      <td>6.38</td>\n",
       "      <td>3.53</td>\n",
       "    </tr>\n",
       "    <tr>\n",
       "      <th>14</th>\n",
       "      <td>22.0</td>\n",
       "      <td>6.11</td>\n",
       "      <td>3.41</td>\n",
       "    </tr>\n",
       "    <tr>\n",
       "      <th>15</th>\n",
       "      <td>22.0</td>\n",
       "      <td>5.64</td>\n",
       "      <td>3.52</td>\n",
       "    </tr>\n",
       "    <tr>\n",
       "      <th>16</th>\n",
       "      <td>22.0</td>\n",
       "      <td>6.11</td>\n",
       "      <td>3.52</td>\n",
       "    </tr>\n",
       "    <tr>\n",
       "      <th>17</th>\n",
       "      <td>22.0</td>\n",
       "      <td>5.88</td>\n",
       "      <td>3.52</td>\n",
       "    </tr>\n",
       "    <tr>\n",
       "      <th>18</th>\n",
       "      <td>22.0</td>\n",
       "      <td>5.52</td>\n",
       "      <td>4.00</td>\n",
       "    </tr>\n",
       "    <tr>\n",
       "      <th>19</th>\n",
       "      <td>22.5</td>\n",
       "      <td>5.86</td>\n",
       "      <td>3.62</td>\n",
       "    </tr>\n",
       "    <tr>\n",
       "      <th>20</th>\n",
       "      <td>22.5</td>\n",
       "      <td>6.79</td>\n",
       "      <td>3.62</td>\n",
       "    </tr>\n",
       "    <tr>\n",
       "      <th>21</th>\n",
       "      <td>22.7</td>\n",
       "      <td>5.95</td>\n",
       "      <td>3.63</td>\n",
       "    </tr>\n",
       "    <tr>\n",
       "      <th>22</th>\n",
       "      <td>23.0</td>\n",
       "      <td>5.22</td>\n",
       "      <td>3.63</td>\n",
       "    </tr>\n",
       "    <tr>\n",
       "      <th>23</th>\n",
       "      <td>23.5</td>\n",
       "      <td>6.28</td>\n",
       "      <td>3.72</td>\n",
       "    </tr>\n",
       "    <tr>\n",
       "      <th>24</th>\n",
       "      <td>24.0</td>\n",
       "      <td>7.29</td>\n",
       "      <td>3.72</td>\n",
       "    </tr>\n",
       "    <tr>\n",
       "      <th>25</th>\n",
       "      <td>24.0</td>\n",
       "      <td>6.38</td>\n",
       "      <td>3.82</td>\n",
       "    </tr>\n",
       "    <tr>\n",
       "      <th>26</th>\n",
       "      <td>24.6</td>\n",
       "      <td>6.73</td>\n",
       "      <td>4.17</td>\n",
       "    </tr>\n",
       "    <tr>\n",
       "      <th>27</th>\n",
       "      <td>25.0</td>\n",
       "      <td>6.44</td>\n",
       "      <td>3.68</td>\n",
       "    </tr>\n",
       "    <tr>\n",
       "      <th>28</th>\n",
       "      <td>25.6</td>\n",
       "      <td>6.56</td>\n",
       "      <td>4.24</td>\n",
       "    </tr>\n",
       "    <tr>\n",
       "      <th>29</th>\n",
       "      <td>26.5</td>\n",
       "      <td>7.17</td>\n",
       "      <td>4.14</td>\n",
       "    </tr>\n",
       "    <tr>\n",
       "      <th>30</th>\n",
       "      <td>27.3</td>\n",
       "      <td>8.32</td>\n",
       "      <td>5.14</td>\n",
       "    </tr>\n",
       "    <tr>\n",
       "      <th>31</th>\n",
       "      <td>27.5</td>\n",
       "      <td>7.17</td>\n",
       "      <td>4.34</td>\n",
       "    </tr>\n",
       "    <tr>\n",
       "      <th>32</th>\n",
       "      <td>27.5</td>\n",
       "      <td>7.05</td>\n",
       "      <td>4.34</td>\n",
       "    </tr>\n",
       "    <tr>\n",
       "      <th>33</th>\n",
       "      <td>27.5</td>\n",
       "      <td>7.28</td>\n",
       "      <td>4.57</td>\n",
       "    </tr>\n",
       "    <tr>\n",
       "      <th>34</th>\n",
       "      <td>28.0</td>\n",
       "      <td>7.82</td>\n",
       "      <td>4.20</td>\n",
       "    </tr>\n",
       "    <tr>\n",
       "      <th>35</th>\n",
       "      <td>28.7</td>\n",
       "      <td>7.59</td>\n",
       "      <td>4.64</td>\n",
       "    </tr>\n",
       "    <tr>\n",
       "      <th>36</th>\n",
       "      <td>30.0</td>\n",
       "      <td>7.62</td>\n",
       "      <td>4.77</td>\n",
       "    </tr>\n",
       "    <tr>\n",
       "      <th>37</th>\n",
       "      <td>32.8</td>\n",
       "      <td>10.03</td>\n",
       "      <td>6.02</td>\n",
       "    </tr>\n",
       "    <tr>\n",
       "      <th>38</th>\n",
       "      <td>34.5</td>\n",
       "      <td>10.26</td>\n",
       "      <td>6.39</td>\n",
       "    </tr>\n",
       "    <tr>\n",
       "      <th>39</th>\n",
       "      <td>35.0</td>\n",
       "      <td>11.49</td>\n",
       "      <td>7.80</td>\n",
       "    </tr>\n",
       "    <tr>\n",
       "      <th>40</th>\n",
       "      <td>36.5</td>\n",
       "      <td>10.88</td>\n",
       "      <td>6.86</td>\n",
       "    </tr>\n",
       "    <tr>\n",
       "      <th>41</th>\n",
       "      <td>36.0</td>\n",
       "      <td>10.61</td>\n",
       "      <td>6.74</td>\n",
       "    </tr>\n",
       "    <tr>\n",
       "      <th>42</th>\n",
       "      <td>37.0</td>\n",
       "      <td>10.84</td>\n",
       "      <td>6.26</td>\n",
       "    </tr>\n",
       "    <tr>\n",
       "      <th>43</th>\n",
       "      <td>37.0</td>\n",
       "      <td>10.57</td>\n",
       "      <td>6.37</td>\n",
       "    </tr>\n",
       "    <tr>\n",
       "      <th>44</th>\n",
       "      <td>39.0</td>\n",
       "      <td>11.14</td>\n",
       "      <td>7.49</td>\n",
       "    </tr>\n",
       "    <tr>\n",
       "      <th>45</th>\n",
       "      <td>39.0</td>\n",
       "      <td>11.14</td>\n",
       "      <td>6.00</td>\n",
       "    </tr>\n",
       "    <tr>\n",
       "      <th>46</th>\n",
       "      <td>39.0</td>\n",
       "      <td>12.43</td>\n",
       "      <td>7.35</td>\n",
       "    </tr>\n",
       "    <tr>\n",
       "      <th>47</th>\n",
       "      <td>40.0</td>\n",
       "      <td>11.93</td>\n",
       "      <td>7.11</td>\n",
       "    </tr>\n",
       "    <tr>\n",
       "      <th>48</th>\n",
       "      <td>40.0</td>\n",
       "      <td>11.73</td>\n",
       "      <td>7.22</td>\n",
       "    </tr>\n",
       "    <tr>\n",
       "      <th>49</th>\n",
       "      <td>40.0</td>\n",
       "      <td>12.38</td>\n",
       "      <td>7.46</td>\n",
       "    </tr>\n",
       "    <tr>\n",
       "      <th>50</th>\n",
       "      <td>40.0</td>\n",
       "      <td>11.14</td>\n",
       "      <td>6.63</td>\n",
       "    </tr>\n",
       "    <tr>\n",
       "      <th>51</th>\n",
       "      <td>42.0</td>\n",
       "      <td>12.80</td>\n",
       "      <td>6.87</td>\n",
       "    </tr>\n",
       "    <tr>\n",
       "      <th>52</th>\n",
       "      <td>43.0</td>\n",
       "      <td>11.93</td>\n",
       "      <td>7.28</td>\n",
       "    </tr>\n",
       "    <tr>\n",
       "      <th>53</th>\n",
       "      <td>43.0</td>\n",
       "      <td>12.51</td>\n",
       "      <td>7.42</td>\n",
       "    </tr>\n",
       "    <tr>\n",
       "      <th>54</th>\n",
       "      <td>43.5</td>\n",
       "      <td>12.60</td>\n",
       "      <td>8.14</td>\n",
       "    </tr>\n",
       "    <tr>\n",
       "      <th>55</th>\n",
       "      <td>44.0</td>\n",
       "      <td>12.49</td>\n",
       "      <td>7.60</td>\n",
       "    </tr>\n",
       "  </tbody>\n",
       "</table>\n",
       "</div>"
      ],
      "text/plain": [
       "    length   height   width\n",
       "0      8.4     2.11    1.41\n",
       "1     13.7     3.53    2.00\n",
       "2     15.0     3.82    2.43\n",
       "3     16.2     4.59    2.63\n",
       "4     17.4     4.59    2.94\n",
       "5     18.0     5.22    3.32\n",
       "6     18.7     5.20    3.12\n",
       "7     19.0     5.64    3.05\n",
       "8     19.6     5.14    3.04\n",
       "9     20.0     5.08    2.77\n",
       "10    21.0     5.69    3.56\n",
       "11    21.0     5.92    3.31\n",
       "12    21.0     5.69    3.67\n",
       "13    21.3     6.38    3.53\n",
       "14    22.0     6.11    3.41\n",
       "15    22.0     5.64    3.52\n",
       "16    22.0     6.11    3.52\n",
       "17    22.0     5.88    3.52\n",
       "18    22.0     5.52    4.00\n",
       "19    22.5     5.86    3.62\n",
       "20    22.5     6.79    3.62\n",
       "21    22.7     5.95    3.63\n",
       "22    23.0     5.22    3.63\n",
       "23    23.5     6.28    3.72\n",
       "24    24.0     7.29    3.72\n",
       "25    24.0     6.38    3.82\n",
       "26    24.6     6.73    4.17\n",
       "27    25.0     6.44    3.68\n",
       "28    25.6     6.56    4.24\n",
       "29    26.5     7.17    4.14\n",
       "30    27.3     8.32    5.14\n",
       "31    27.5     7.17    4.34\n",
       "32    27.5     7.05    4.34\n",
       "33    27.5     7.28    4.57\n",
       "34    28.0     7.82    4.20\n",
       "35    28.7     7.59    4.64\n",
       "36    30.0     7.62    4.77\n",
       "37    32.8    10.03    6.02\n",
       "38    34.5    10.26    6.39\n",
       "39    35.0    11.49    7.80\n",
       "40    36.5    10.88    6.86\n",
       "41    36.0    10.61    6.74\n",
       "42    37.0    10.84    6.26\n",
       "43    37.0    10.57    6.37\n",
       "44    39.0    11.14    7.49\n",
       "45    39.0    11.14    6.00\n",
       "46    39.0    12.43    7.35\n",
       "47    40.0    11.93    7.11\n",
       "48    40.0    11.73    7.22\n",
       "49    40.0    12.38    7.46\n",
       "50    40.0    11.14    6.63\n",
       "51    42.0    12.80    6.87\n",
       "52    43.0    11.93    7.28\n",
       "53    43.0    12.51    7.42\n",
       "54    43.5    12.60    8.14\n",
       "55    44.0    12.49    7.60"
      ]
     },
     "execution_count": 2,
     "metadata": {},
     "output_type": "execute_result"
    }
   ],
   "source": [
    "df"
   ]
  },
  {
   "cell_type": "code",
   "execution_count": 3,
   "id": "75d19176",
   "metadata": {},
   "outputs": [],
   "source": [
    "perch_length = np.array([8.4, 13.7, 15.0, 16.2, 17.4, 18.0, 18.7, 19.0, 19.6, 20.0, 21.0,\n",
    "       21.0, 21.0, 21.3, 22.0, 22.0, 22.0, 22.0, 22.0, 22.5, 22.5, 22.7,\n",
    "       23.0, 23.5, 24.0, 24.0, 24.6, 25.0, 25.6, 26.5, 27.3, 27.5, 27.5,\n",
    "       27.5, 28.0, 28.7, 30.0, 32.8, 34.5, 35.0, 36.5, 36.0, 37.0, 37.0,\n",
    "       39.0, 39.0, 39.0, 40.0, 40.0, 40.0, 40.0, 42.0, 43.0, 43.0, 43.5,\n",
    "       44.0])\n",
    "perch_weight = np.array([5.9, 32.0, 40.0, 51.5, 70.0, 100.0, 78.0, 80.0, 85.0, 85.0, 110.0,\n",
    "       115.0, 125.0, 130.0, 120.0, 120.0, 130.0, 135.0, 110.0, 130.0,\n",
    "       150.0, 145.0, 150.0, 170.0, 225.0, 145.0, 188.0, 180.0, 197.0,\n",
    "       218.0, 300.0, 260.0, 265.0, 250.0, 250.0, 300.0, 320.0, 514.0,\n",
    "       556.0, 840.0, 685.0, 700.0, 700.0, 690.0, 900.0, 650.0, 820.0,\n",
    "       850.0, 900.0, 1015.0, 820.0, 1100.0, 1000.0, 1100.0, 1000.0,\n",
    "       1000.0])"
   ]
  },
  {
   "cell_type": "code",
   "execution_count": 4,
   "id": "418f32a2",
   "metadata": {},
   "outputs": [],
   "source": [
    "from sklearn.model_selection import train_test_split\n",
    "\n",
    "train_input, test_input, train_target, test_target = train_test_split(perch_full, perch_weight, random_state=42)"
   ]
  },
  {
   "cell_type": "code",
   "execution_count": 5,
   "id": "5bf2b666",
   "metadata": {},
   "outputs": [
    {
     "name": "stdout",
     "output_type": "stream",
     "text": [
      "[[1. 2. 3. 4. 6. 9.]]\n"
     ]
    }
   ],
   "source": [
    "from sklearn.preprocessing import PolynomialFeatures\n",
    "\n",
    "poly = PolynomialFeatures()\n",
    "poly.fit([[2, 3]])\n",
    "print(poly.transform([[2,3]]))"
   ]
  },
  {
   "cell_type": "code",
   "execution_count": 6,
   "id": "8bffdc0e",
   "metadata": {},
   "outputs": [
    {
     "name": "stdout",
     "output_type": "stream",
     "text": [
      "[[2. 3. 4. 6. 9.]]\n"
     ]
    }
   ],
   "source": [
    "poly = PolynomialFeatures(include_bias=False) # include_bais 절편의 여부(default=False)\n",
    "print(poly.fit_transform([[2,3]]))"
   ]
  },
  {
   "cell_type": "code",
   "execution_count": 7,
   "id": "07f9ff10",
   "metadata": {},
   "outputs": [
    {
     "name": "stdout",
     "output_type": "stream",
     "text": [
      "(42, 9)\n"
     ]
    }
   ],
   "source": [
    "poly = PolynomialFeatures(include_bias=False)\n",
    "poly.fit(train_input)\n",
    "train_poly = poly.transform(train_input)\n",
    "\n",
    "print(train_poly.shape)"
   ]
  },
  {
   "cell_type": "code",
   "execution_count": 8,
   "id": "2f610390",
   "metadata": {},
   "outputs": [
    {
     "name": "stderr",
     "output_type": "stream",
     "text": [
      "C:\\Users\\hsmin\\anaconda3\\lib\\site-packages\\sklearn\\utils\\deprecation.py:87: FutureWarning: Function get_feature_names is deprecated; get_feature_names is deprecated in 1.0 and will be removed in 1.2. Please use get_feature_names_out instead.\n",
      "  warnings.warn(msg, category=FutureWarning)\n"
     ]
    },
    {
     "data": {
      "text/plain": [
       "['x0', 'x1', 'x2', 'x0^2', 'x0 x1', 'x0 x2', 'x1^2', 'x1 x2', 'x2^2']"
      ]
     },
     "execution_count": 8,
     "metadata": {},
     "output_type": "execute_result"
    }
   ],
   "source": [
    "poly.get_feature_names()"
   ]
  },
  {
   "cell_type": "code",
   "execution_count": 9,
   "id": "82941b3f",
   "metadata": {},
   "outputs": [],
   "source": [
    "test_poly = poly.transform(test_input)"
   ]
  },
  {
   "cell_type": "code",
   "execution_count": 10,
   "id": "3cb94b24",
   "metadata": {},
   "outputs": [
    {
     "name": "stdout",
     "output_type": "stream",
     "text": [
      "0.9903183436982124\n"
     ]
    }
   ],
   "source": [
    "from sklearn.linear_model import LinearRegression\n",
    "\n",
    "lr = LinearRegression()\n",
    "lr.fit(train_poly, train_target)\n",
    "\n",
    "print(lr.score(train_poly, train_target))"
   ]
  },
  {
   "cell_type": "code",
   "execution_count": 11,
   "id": "c5e1bf20",
   "metadata": {},
   "outputs": [
    {
     "data": {
      "text/plain": [
       "0.9714559911594203"
      ]
     },
     "execution_count": 11,
     "metadata": {},
     "output_type": "execute_result"
    }
   ],
   "source": [
    "lr.score(test_poly, test_target)"
   ]
  },
  {
   "cell_type": "code",
   "execution_count": 12,
   "id": "b7037f90",
   "metadata": {},
   "outputs": [],
   "source": [
    "poly = PolynomialFeatures(degree=5, include_bias=False)\n",
    "poly.fit(train_input)\n",
    "train_poly = poly.transform(train_input)\n",
    "test_poly = poly.transform(test_input)"
   ]
  },
  {
   "cell_type": "code",
   "execution_count": 13,
   "id": "e00a2e19",
   "metadata": {},
   "outputs": [
    {
     "data": {
      "text/plain": [
       "0.999999999997515"
      ]
     },
     "execution_count": 13,
     "metadata": {},
     "output_type": "execute_result"
    }
   ],
   "source": [
    "lr.fit(train_poly, train_target)\n",
    "lr.score(train_poly, train_target)"
   ]
  },
  {
   "cell_type": "code",
   "execution_count": 14,
   "id": "31d926db",
   "metadata": {},
   "outputs": [
    {
     "data": {
      "text/plain": [
       "-144.40196592191958"
      ]
     },
     "execution_count": 14,
     "metadata": {},
     "output_type": "execute_result"
    }
   ],
   "source": [
    "lr.score(test_poly, test_target) # 과대적합"
   ]
  },
  {
   "cell_type": "markdown",
   "id": "409752fa",
   "metadata": {},
   "source": [
    "# 2. 규제 (Regularization)"
   ]
  },
  {
   "cell_type": "code",
   "execution_count": 15,
   "id": "c938b98d",
   "metadata": {},
   "outputs": [],
   "source": [
    "from sklearn.preprocessing import StandardScaler\n",
    "\n",
    "ss = StandardScaler() # 평균 ss.mean_, 표준편차 ss.scale_ 속성에 저장\n",
    "ss.fit(train_poly)\n",
    "train_scaled = ss.transform(train_poly)\n",
    "test_scaled = ss.transform(test_poly)\n",
    "\n",
    "# 훈련, 테스트 데이터 각각 표준점수로 스케일링"
   ]
  },
  {
   "cell_type": "code",
   "execution_count": 16,
   "id": "8b67d790",
   "metadata": {},
   "outputs": [
    {
     "data": {
      "text/plain": [
       "array([2.84452381e+01, 8.04238095e+00, 4.82047619e+00, 8.85315000e+02,\n",
       "       2.53486881e+02, 1.51959000e+02, 7.29365000e+01, 4.36999452e+01,\n",
       "       2.62868381e+01, 2.97326070e+04, 8.59817581e+03, 5.15200651e+03,\n",
       "       2.49680043e+03, 1.49567194e+03, 8.99184494e+02, 7.27945149e+02,\n",
       "       4.36019840e+02, 2.62115117e+02, 1.58141990e+02, 1.05917983e+06,\n",
       "       3.08429517e+05, 1.84644673e+05, 9.01239554e+04, 5.39478286e+04,\n",
       "       3.23998082e+04, 2.64224658e+04, 1.58167367e+04, 9.49991053e+03,\n",
       "       5.72489005e+03, 7.77162422e+03, 4.65285399e+03, 2.79521756e+03,\n",
       "       1.68494739e+03, 1.01911272e+03, 3.93876111e+07, 1.15192532e+07,\n",
       "       6.88842737e+06, 3.37865413e+06, 2.02034307e+06, 1.21184517e+06,\n",
       "       9.93774754e+05, 5.94291271e+05, 3.56516573e+05, 2.14541208e+05,\n",
       "       2.93110780e+05, 1.75313851e+05, 1.05196649e+05, 6.33244641e+04,\n",
       "       3.82394901e+04, 8.66870097e+04, 5.18625239e+04, 3.11308026e+04,\n",
       "       1.87477065e+04, 1.13270112e+04, 6.86569419e+03])"
      ]
     },
     "execution_count": 16,
     "metadata": {},
     "output_type": "execute_result"
    }
   ],
   "source": [
    "ss.mean_"
   ]
  },
  {
   "cell_type": "markdown",
   "id": "4093df6d",
   "metadata": {},
   "source": [
    "선형회귀 모델에서 규제를 추가한 모델을 **릿지 (ridge)** 와 **라쏘 (lasso)** 라고 부른다.\n",
    "\n",
    "규제란 특성에 곱해지는 계수(또는 기울기)의 크기를 작게 하는 일이다.\n",
    "\n",
    "1. 릿지는 계수를 제곱한 값을 기준으로 규제를 적용\n",
    "\n",
    "1. 라쏘는 계수의 절댓값을 기준으로 규제를 적용\n",
    "\n",
    "일반적으로 릿지를 조금 더 선호. 라쏘의 경우 계수의 크기를 아예 0으로 만들어버리기도 하여 우려가 존재. 다음은 릿지(ridge) 이미지이다.\n",
    "\n",
    "<img src='img/ridge regularization.png' style=\"width: 300px;\"/>"
   ]
  },
  {
   "cell_type": "markdown",
   "id": "41d998a8",
   "metadata": {},
   "source": [
    "### 2-1. 릿지 회귀(Ridge Regression)"
   ]
  },
  {
   "cell_type": "code",
   "execution_count": 21,
   "id": "580a6de0",
   "metadata": {},
   "outputs": [
    {
     "data": {
      "text/plain": [
       "0.9896101671037343"
      ]
     },
     "execution_count": 21,
     "metadata": {},
     "output_type": "execute_result"
    }
   ],
   "source": [
    "from sklearn.linear_model import Ridge\n",
    "\n",
    "ridge = Ridge() \n",
    "# alpha 매개변수로 규제의 강도를 조절\n",
    "# alpha ↑ 는 규제 강도 ↑\n",
    "# alpha ↓ 는 규제 강도 ↓\n",
    "# alpha 가 작아져 계수가 너무 낮아지면 일반 선형 회귀 모델과 유사해지므로 과대적합될 가능성이 ↑\n",
    "ridge.fit(train_scaled, train_target)\n",
    "ridge.score(train_scaled, train_target)"
   ]
  },
  {
   "cell_type": "code",
   "execution_count": 20,
   "id": "331186de",
   "metadata": {},
   "outputs": [
    {
     "data": {
      "text/plain": [
       "0.9790693977615376"
      ]
     },
     "execution_count": 20,
     "metadata": {},
     "output_type": "execute_result"
    }
   ],
   "source": [
    "ridge.score(test_scaled, test_target)"
   ]
  },
  {
   "cell_type": "markdown",
   "id": "b2ae9889",
   "metadata": {},
   "source": [
    "### 다중 회귀 그래프 (Multiple Regression Graph)"
   ]
  },
  {
   "cell_type": "code",
   "execution_count": 22,
   "id": "e9abceb2",
   "metadata": {},
   "outputs": [],
   "source": [
    "import matplotlib.pyplot as plt\n",
    "train_score = []\n",
    "test_score = []"
   ]
  },
  {
   "cell_type": "code",
   "execution_count": 23,
   "id": "52b925e9",
   "metadata": {},
   "outputs": [],
   "source": [
    "alpha_list = [0.001, 0.01, 0.1, 1, 10, 100]\n",
    "for alpha in alpha_list:\n",
    "    ridge = Ridge(alpha=alpha)\n",
    "    ridge.fit(train_scaled, train_target)\n",
    "    train_score.append(ridge.score(train_scaled, train_target))\n",
    "    test_score.append(ridge.score(test_scaled, test_target))"
   ]
  },
  {
   "cell_type": "code",
   "execution_count": 25,
   "id": "4ddaada4",
   "metadata": {},
   "outputs": [
    {
     "name": "stdout",
     "output_type": "stream",
     "text": [
      "[0.9930455252088376, 0.9917809981250515, 0.9903815817570366, 0.9896101671037343, 0.988728468997471, 0.9841843235774494] \n",
      " [0.956938896147935, 0.9800187936871864, 0.9827976465386965, 0.9790693977615376, 0.9725329582461569, 0.9627042641050291]\n"
     ]
    }
   ],
   "source": [
    "print(train_score, '\\n', test_score)"
   ]
  },
  {
   "cell_type": "code",
   "execution_count": 28,
   "id": "921c977e",
   "metadata": {},
   "outputs": [
    {
     "data": {
      "image/png": "[encoded data removed]",
      "text/plain": [
       "<Figure size 432x288 with 1 Axes>"
      ]
     },
     "metadata": {
      "needs_background": "light"
     },
     "output_type": "display_data"
    }
   ],
   "source": [
    "plt.plot(alpha_list, train_score)\n",
    "plt.plot(alpha_list, test_score)\n",
    "plt.xlabel('alpha')\n",
    "plt.ylabel('R^2')\n",
    "plt.show()"
   ]
  },
  {
   "cell_type": "code",
   "execution_count": 29,
   "id": "b2456be2",
   "metadata": {},
   "outputs": [
    {
     "data": {
      "image/png": "[encoded data removed]",
      "text/plain": [
       "<Figure size 432x288 with 1 Axes>"
      ]
     },
     "metadata": {
      "needs_background": "light"
     },
     "output_type": "display_data"
    }
   ],
   "source": [
    "# 위 그래프의 문제점 수정\n",
    "alpha_log = np.log10(alpha_list)\n",
    "\n",
    "plt.plot(alpha_log, train_score)\n",
    "plt.plot(alpha_log, test_score)\n",
    "plt.xlabel('alpha')\n",
    "plt.ylabel('R^2')\n",
    "plt.show()"
   ]
  },
  {
   "cell_type": "code",
   "execution_count": 32,
   "id": "440031fe",
   "metadata": {},
   "outputs": [
    {
     "name": "stdout",
     "output_type": "stream",
     "text": [
      "0.9903815817570366 0.9827976465386965\n"
     ]
    }
   ],
   "source": [
    "ridge = Ridge(alpha=0.1)\n",
    "ridge.fit(train_scaled, train_target)\n",
    "print(ridge.score(train_scaled, train_target), ridge.score(test_scaled, test_target))"
   ]
  },
  {
   "cell_type": "code",
   "execution_count": 40,
   "id": "eb85c469",
   "metadata": {},
   "outputs": [
    {
     "data": {
      "text/plain": [
       "array([ 27.61933479,  -1.64022156, -19.73256036,  30.0306195 ,\n",
       "        16.99800255,  17.83247301,   4.46928273,   3.87258547,\n",
       "        22.8351822 ,  19.50417483,  17.75985317,  14.53122144,\n",
       "        13.34875736,   7.57294011,  19.2573194 ,   5.12766348,\n",
       "        -2.05671393,  10.62376405,  41.72322888,   5.90722851,\n",
       "        14.93389276,  -0.4506018 ,  19.86035413,   1.27084276,\n",
       "        -1.00708878,  19.69043816,  -1.15817017,  -3.57357468,\n",
       "        11.96629206,  13.68484378,  -8.41738209,  -9.97919956,\n",
       "         8.42421045,  45.51544903,  -6.23828569,  13.36080282,\n",
       "       -17.64759601,  28.23566212,  -6.56619234, -25.89115813,\n",
       "        37.3785331 ,  -0.39779345, -20.82275921, -23.80607786,\n",
       "        39.96650626,   0.10569722, -20.49768851, -21.74712923,\n",
       "        -4.12579289,  35.39224119,  -5.59195   , -25.3889504 ,\n",
       "       -23.93962265,  -1.89229971,  39.44235556])"
      ]
     },
     "execution_count": 40,
     "metadata": {},
     "output_type": "execute_result"
    }
   ],
   "source": [
    "ridge.coef_ # 계수"
   ]
  },
  {
   "cell_type": "markdown",
   "id": "d2dea764",
   "metadata": {},
   "source": [
    "### 2-2. 라쏘 회귀 (Lasso Regression)"
   ]
  },
  {
   "cell_type": "code",
   "execution_count": 33,
   "id": "de90f88d",
   "metadata": {},
   "outputs": [
    {
     "data": {
      "text/plain": [
       "0.989789897208096"
      ]
     },
     "execution_count": 33,
     "metadata": {},
     "output_type": "execute_result"
    }
   ],
   "source": [
    "from sklearn.linear_model import Lasso\n",
    "lasso = Lasso()\n",
    "lasso.fit(train_scaled, train_target)\n",
    "lasso.score(train_scaled, train_target)"
   ]
  },
  {
   "cell_type": "code",
   "execution_count": 34,
   "id": "9e21488e",
   "metadata": {},
   "outputs": [
    {
     "data": {
      "text/plain": [
       "0.9800593698421886"
      ]
     },
     "execution_count": 34,
     "metadata": {},
     "output_type": "execute_result"
    }
   ],
   "source": [
    "lasso.score(test_scaled, test_target)"
   ]
  },
  {
   "cell_type": "code",
   "execution_count": 36,
   "id": "d6bfe26d",
   "metadata": {},
   "outputs": [
    {
     "name": "stderr",
     "output_type": "stream",
     "text": [
      "C:\\Users\\hsmin\\anaconda3\\lib\\site-packages\\sklearn\\linear_model\\_coordinate_descent.py:647: ConvergenceWarning: Objective did not converge. You might want to increase the number of iterations, check the scale of the features or consider increasing regularisation. Duality gap: 1.878e+04, tolerance: 5.183e+02\n",
      "  model = cd_fast.enet_coordinate_descent(\n",
      "C:\\Users\\hsmin\\anaconda3\\lib\\site-packages\\sklearn\\linear_model\\_coordinate_descent.py:647: ConvergenceWarning: Objective did not converge. You might want to increase the number of iterations, check the scale of the features or consider increasing regularisation. Duality gap: 1.297e+04, tolerance: 5.183e+02\n",
      "  model = cd_fast.enet_coordinate_descent(\n"
     ]
    }
   ],
   "source": [
    "train_score = []\n",
    "test_score = []\n",
    "\n",
    "alpha_list = [0.001, 0.01, 0.1, 1, 10, 100]\n",
    "for alpha in alpha_list:\n",
    "    lasso = Lasso(alpha=alpha, max_iter=10000)\n",
    "    lasso.fit(train_scaled, train_target)\n",
    "    train_score.append(lasso.score(train_scaled, train_target))\n",
    "    test_score.append(lasso.score(test_scaled, test_target))\n",
    "    \n",
    "# ConvergenceWarning : 라쏘 모델이 최적의 계수를 찾기 위해 반복 계산을 수행하는데, 지정한 반복횟수가 부족할 때 발생\n",
    "# 이를 충분히 늘리기 위해 max_iter 매개변수의 값을 10000으로 지정. 필요 시 더 증가시킬 수 있지만 이 문제에서는 큰 영향 X"
   ]
  },
  {
   "cell_type": "code",
   "execution_count": 37,
   "id": "e3c69458",
   "metadata": {},
   "outputs": [
    {
     "data": {
      "image/png": "[encoded data removed]",
      "text/plain": [
       "<Figure size 432x288 with 1 Axes>"
      ]
     },
     "metadata": {
      "needs_background": "light"
     },
     "output_type": "display_data"
    }
   ],
   "source": [
    "alpha_log = np.log10(alpha_list)\n",
    "\n",
    "plt.plot(alpha_log, train_score)\n",
    "plt.plot(alpha_log, test_score)\n",
    "plt.xlabel('alpha')\n",
    "plt.ylabel('R^2')\n",
    "plt.show()"
   ]
  },
  {
   "cell_type": "code",
   "execution_count": 38,
   "id": "c647ab09",
   "metadata": {},
   "outputs": [
    {
     "name": "stdout",
     "output_type": "stream",
     "text": [
      "0.9888067471131867 0.9824470598706695\n"
     ]
    }
   ],
   "source": [
    "lasso = Lasso(alpha=10)\n",
    "lasso.fit(train_scaled, train_target)\n",
    "print(lasso.score(train_scaled, train_target), lasso.score(test_scaled, test_target))"
   ]
  },
  {
   "cell_type": "code",
   "execution_count": 39,
   "id": "7361791e",
   "metadata": {},
   "outputs": [
    {
     "data": {
      "text/plain": [
       "array([ 0.        ,  0.        ,  0.        , 12.14852453, 55.44856399,\n",
       "       42.23100799,  0.        ,  0.        , 13.70596191,  0.        ,\n",
       "       43.2185952 ,  5.7033775 , 47.46254536,  7.42309425, 11.85823365,\n",
       "        0.        ,  0.        , 13.53038193, 21.22111356,  0.        ,\n",
       "        0.        ,  0.        ,  0.        ,  0.        ,  0.        ,\n",
       "       18.66993032,  0.        ,  0.        ,  0.        , 15.81041778,\n",
       "        0.        ,  0.        ,  0.        ,  0.        ,  0.        ,\n",
       "        0.        ,  0.        ,  0.        ,  0.        ,  0.        ,\n",
       "        0.        ,  0.        ,  0.        ,  0.        , 18.14672268,\n",
       "        0.        ,  0.        ,  0.        ,  0.        , 15.51272953,\n",
       "        0.        ,  0.        ,  0.        ,  0.        ,  0.        ])"
      ]
     },
     "execution_count": 39,
     "metadata": {},
     "output_type": "execute_result"
    }
   ],
   "source": [
    "lasso.coef_ # 계수"
   ]
  }
 ],
 "metadata": {
  "kernelspec": {
   "display_name": "Python 3 (ipykernel)",
   "language": "python",
   "name": "python3"
  },
  "language_info": {
   "codemirror_mode": {
    "name": "ipython",
    "version": 3
   },
   "file_extension": ".py",
   "mimetype": "text/x-python",
   "name": "python",
   "nbconvert_exporter": "python",
   "pygments_lexer": "ipython3",
   "version": "3.9.12"
  }
 },
 "nbformat": 4,
 "nbformat_minor": 5
}
