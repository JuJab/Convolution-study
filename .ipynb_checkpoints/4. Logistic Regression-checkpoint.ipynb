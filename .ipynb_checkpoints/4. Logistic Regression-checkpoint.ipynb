{
 "cells": [
  {
   "cell_type": "markdown",
   "id": "9d2c8cfc",
   "metadata": {},
   "source": [
    "# 1. Logistic Regression"
   ]
  },
  {
   "cell_type": "code",
   "execution_count": 1,
   "id": "6ba99f61",
   "metadata": {},
   "outputs": [
    {
     "data": {
      "text/html": [
       "<div>\n",
       "<style scoped>\n",
       "    .dataframe tbody tr th:only-of-type {\n",
       "        vertical-align: middle;\n",
       "    }\n",
       "\n",
       "    .dataframe tbody tr th {\n",
       "        vertical-align: top;\n",
       "    }\n",
       "\n",
       "    .dataframe thead th {\n",
       "        text-align: right;\n",
       "    }\n",
       "</style>\n",
       "<table border=\"1\" class=\"dataframe\">\n",
       "  <thead>\n",
       "    <tr style=\"text-align: right;\">\n",
       "      <th></th>\n",
       "      <th>Species</th>\n",
       "      <th>Weight</th>\n",
       "      <th>Length</th>\n",
       "      <th>Diagonal</th>\n",
       "      <th>Height</th>\n",
       "      <th>Width</th>\n",
       "    </tr>\n",
       "  </thead>\n",
       "  <tbody>\n",
       "    <tr>\n",
       "      <th>0</th>\n",
       "      <td>Bream</td>\n",
       "      <td>242.0</td>\n",
       "      <td>25.4</td>\n",
       "      <td>30.0</td>\n",
       "      <td>11.5200</td>\n",
       "      <td>4.0200</td>\n",
       "    </tr>\n",
       "    <tr>\n",
       "      <th>1</th>\n",
       "      <td>Bream</td>\n",
       "      <td>290.0</td>\n",
       "      <td>26.3</td>\n",
       "      <td>31.2</td>\n",
       "      <td>12.4800</td>\n",
       "      <td>4.3056</td>\n",
       "    </tr>\n",
       "    <tr>\n",
       "      <th>2</th>\n",
       "      <td>Bream</td>\n",
       "      <td>340.0</td>\n",
       "      <td>26.5</td>\n",
       "      <td>31.1</td>\n",
       "      <td>12.3778</td>\n",
       "      <td>4.6961</td>\n",
       "    </tr>\n",
       "    <tr>\n",
       "      <th>3</th>\n",
       "      <td>Bream</td>\n",
       "      <td>363.0</td>\n",
       "      <td>29.0</td>\n",
       "      <td>33.5</td>\n",
       "      <td>12.7300</td>\n",
       "      <td>4.4555</td>\n",
       "    </tr>\n",
       "    <tr>\n",
       "      <th>4</th>\n",
       "      <td>Bream</td>\n",
       "      <td>430.0</td>\n",
       "      <td>29.0</td>\n",
       "      <td>34.0</td>\n",
       "      <td>12.4440</td>\n",
       "      <td>5.1340</td>\n",
       "    </tr>\n",
       "  </tbody>\n",
       "</table>\n",
       "</div>"
      ],
      "text/plain": [
       "  Species  Weight  Length  Diagonal   Height   Width\n",
       "0   Bream   242.0    25.4      30.0  11.5200  4.0200\n",
       "1   Bream   290.0    26.3      31.2  12.4800  4.3056\n",
       "2   Bream   340.0    26.5      31.1  12.3778  4.6961\n",
       "3   Bream   363.0    29.0      33.5  12.7300  4.4555\n",
       "4   Bream   430.0    29.0      34.0  12.4440  5.1340"
      ]
     },
     "execution_count": 1,
     "metadata": {},
     "output_type": "execute_result"
    }
   ],
   "source": [
    "import pandas as pd\n",
    "\n",
    "fish = pd.read_csv('https://bit.ly/fish_csv_data')\n",
    "fish.head()"
   ]
  },
  {
   "cell_type": "code",
   "execution_count": 5,
   "id": "47d49d83",
   "metadata": {},
   "outputs": [
    {
     "data": {
      "text/plain": [
       "array(['Bream', 'Roach', 'Whitefish', 'Parkki', 'Perch', 'Pike', 'Smelt'],\n",
       "      dtype=object)"
      ]
     },
     "execution_count": 5,
     "metadata": {},
     "output_type": "execute_result"
    }
   ],
   "source": [
    "pd.unique(fish['Species'])"
   ]
  },
  {
   "cell_type": "code",
   "execution_count": 9,
   "id": "52c7666e",
   "metadata": {},
   "outputs": [
    {
     "data": {
      "text/plain": [
       "array([[242.    ,  25.4   ,  30.    ,  11.52  ,   4.02  ],\n",
       "       [290.    ,  26.3   ,  31.2   ,  12.48  ,   4.3056],\n",
       "       [340.    ,  26.5   ,  31.1   ,  12.3778,   4.6961],\n",
       "       [363.    ,  29.    ,  33.5   ,  12.73  ,   4.4555],\n",
       "       [430.    ,  29.    ,  34.    ,  12.444 ,   5.134 ]])"
      ]
     },
     "execution_count": 9,
     "metadata": {},
     "output_type": "execute_result"
    }
   ],
   "source": [
    "fish_input = fish[['Weight','Length','Diagonal','Height','Width']].to_numpy() # .values 도 동일한 결과\n",
    "fish_input[:5]"
   ]
  },
  {
   "cell_type": "code",
   "execution_count": 14,
   "id": "eef0e829",
   "metadata": {},
   "outputs": [
    {
     "data": {
      "text/plain": [
       "array(['Bream', 'Bream', 'Bream', 'Bream', 'Bream', 'Bream', 'Bream',\n",
       "       'Bream', 'Bream', 'Bream', 'Bream', 'Bream', 'Bream', 'Bream',\n",
       "       'Bream', 'Bream', 'Bream', 'Bream', 'Bream', 'Bream', 'Bream',\n",
       "       'Bream', 'Bream', 'Bream', 'Bream', 'Bream', 'Bream', 'Bream',\n",
       "       'Bream', 'Bream', 'Bream', 'Bream', 'Bream', 'Bream', 'Bream',\n",
       "       'Roach', 'Roach', 'Roach', 'Roach', 'Roach', 'Roach', 'Roach',\n",
       "       'Roach', 'Roach', 'Roach', 'Roach', 'Roach', 'Roach', 'Roach',\n",
       "       'Roach', 'Roach', 'Roach', 'Roach', 'Roach', 'Roach', 'Whitefish',\n",
       "       'Whitefish', 'Whitefish', 'Whitefish', 'Whitefish', 'Whitefish',\n",
       "       'Parkki', 'Parkki', 'Parkki', 'Parkki', 'Parkki', 'Parkki',\n",
       "       'Parkki', 'Parkki', 'Parkki', 'Parkki', 'Parkki', 'Perch', 'Perch',\n",
       "       'Perch', 'Perch', 'Perch', 'Perch', 'Perch', 'Perch', 'Perch',\n",
       "       'Perch', 'Perch', 'Perch', 'Perch', 'Perch', 'Perch', 'Perch',\n",
       "       'Perch', 'Perch', 'Perch', 'Perch', 'Perch', 'Perch', 'Perch',\n",
       "       'Perch', 'Perch', 'Perch', 'Perch', 'Perch', 'Perch', 'Perch',\n",
       "       'Perch', 'Perch', 'Perch', 'Perch', 'Perch', 'Perch', 'Perch',\n",
       "       'Perch', 'Perch', 'Perch', 'Perch', 'Perch', 'Perch', 'Perch',\n",
       "       'Perch', 'Perch', 'Perch', 'Perch', 'Perch', 'Perch', 'Perch',\n",
       "       'Perch', 'Perch', 'Perch', 'Perch', 'Perch', 'Pike', 'Pike',\n",
       "       'Pike', 'Pike', 'Pike', 'Pike', 'Pike', 'Pike', 'Pike', 'Pike',\n",
       "       'Pike', 'Pike', 'Pike', 'Pike', 'Pike', 'Pike', 'Pike', 'Smelt',\n",
       "       'Smelt', 'Smelt', 'Smelt', 'Smelt', 'Smelt', 'Smelt', 'Smelt',\n",
       "       'Smelt', 'Smelt', 'Smelt', 'Smelt', 'Smelt', 'Smelt'], dtype=object)"
      ]
     },
     "execution_count": 14,
     "metadata": {},
     "output_type": "execute_result"
    }
   ],
   "source": [
    "fish_target = fish['Species'].to_numpy()\n",
    "fish_target"
   ]
  },
  {
   "cell_type": "code",
   "execution_count": 15,
   "id": "5aa4d29e",
   "metadata": {},
   "outputs": [],
   "source": [
    "from sklearn.model_selection import train_test_split\n",
    "train_input, test_input, train_target, test_target = train_test_split(fish_input, fish_target, random_state=42)"
   ]
  },
  {
   "cell_type": "code",
   "execution_count": 16,
   "id": "c957e749",
   "metadata": {},
   "outputs": [],
   "source": [
    "from sklearn.preprocessing import StandardScaler\n",
    "ss = StandardScaler()\n",
    "ss.fit(train_input)\n",
    "train_scaled = ss.transform(train_input)\n",
    "test_scaled = ss.transform(test_input)"
   ]
  },
  {
   "cell_type": "code",
   "execution_count": 19,
   "id": "b8386601",
   "metadata": {},
   "outputs": [
    {
     "name": "stdout",
     "output_type": "stream",
     "text": [
      "0.8907563025210085\n",
      "0.85\n"
     ]
    }
   ],
   "source": [
    "from sklearn.neighbors import KNeighborsClassifier\n",
    "kn = KNeighborsClassifier(n_neighbors=3)\n",
    "kn.fit(train_scaled, train_target)\n",
    "print(kn.score(train_scaled, train_target))\n",
    "print(kn.score(test_scaled, test_target))"
   ]
  },
  {
   "cell_type": "markdown",
   "id": "2e43ed5c",
   "metadata": {},
   "source": [
    "데이터에는 7개의 생선 데이터가 존재.\n",
    "이렇게 타깃 데이터에 2개 이상의 클래스가 포함된 문제를 **다중 분류 (multi-class classification)** 라고 칭함."
   ]
  },
  {
   "cell_type": "code",
   "execution_count": 34,
   "id": "9a6ab97e",
   "metadata": {},
   "outputs": [
    {
     "name": "stdout",
     "output_type": "stream",
     "text": [
      "['Bream' 'Parkki' 'Perch' 'Pike' 'Roach' 'Smelt' 'Whitefish']\n"
     ]
    }
   ],
   "source": [
    "print(kn.classes_) # 정렬된 타겟값"
   ]
  },
  {
   "cell_type": "code",
   "execution_count": 35,
   "id": "62077471",
   "metadata": {},
   "outputs": [
    {
     "data": {
      "text/plain": [
       "array(['Perch', 'Smelt', 'Pike', 'Perch', 'Perch'], dtype=object)"
      ]
     },
     "execution_count": 35,
     "metadata": {},
     "output_type": "execute_result"
    }
   ],
   "source": [
    "kn.predict(test_scaled[:5])"
   ]
  },
  {
   "cell_type": "code",
   "execution_count": 37,
   "id": "1705814c",
   "metadata": {},
   "outputs": [
    {
     "name": "stdout",
     "output_type": "stream",
     "text": [
      "[[0.     0.     1.     0.     0.     0.     0.    ]\n",
      " [0.     0.     0.     0.     0.     1.     0.    ]\n",
      " [0.     0.     0.     1.     0.     0.     0.    ]\n",
      " [0.     0.     0.6667 0.     0.3333 0.     0.    ]\n",
      " [0.     0.     0.6667 0.     0.3333 0.     0.    ]]\n"
     ]
    }
   ],
   "source": [
    "import numpy as np\n",
    "proba = kn.predict_proba(test_scaled[:5]) # classes_ 와 속성 순서 동일\n",
    "print(np.round(proba, decimals=4)) # 소수점 넷째 자리까지 표기 (다섯째 자리 반올림ㅁ)"
   ]
  },
  {
   "cell_type": "code",
   "execution_count": 40,
   "id": "e78ae4da",
   "metadata": {},
   "outputs": [
    {
     "name": "stdout",
     "output_type": "stream",
     "text": [
      "[['Roach' 'Perch' 'Perch']]\n"
     ]
    }
   ],
   "source": [
    "distance, indexes = kn.kneighbors(test_scaled[3:4]) # test_scaled[3:4] 에서 가장 가까운 데이터 3개의 거리와 index를 가져옴\n",
    "print(train_target[indexes])"
   ]
  },
  {
   "cell_type": "code",
   "execution_count": 41,
   "id": "d9f4a457",
   "metadata": {},
   "outputs": [
    {
     "name": "stdout",
     "output_type": "stream",
     "text": [
      "[[0.20774583 0.24862983 0.33682411]] [[104 115 106]]\n"
     ]
    }
   ],
   "source": [
    "print(distance, indexes)"
   ]
  },
  {
   "cell_type": "code",
   "execution_count": 42,
   "id": "c5103294",
   "metadata": {},
   "outputs": [
    {
     "data": {
      "text/plain": [
       "array(['Whitefish'], dtype=object)"
      ]
     },
     "execution_count": 42,
     "metadata": {},
     "output_type": "execute_result"
    }
   ],
   "source": [
    "test_target[3:4]"
   ]
  },
  {
   "cell_type": "markdown",
   "id": "200d314b",
   "metadata": {},
   "source": [
    "### 1-1. Logistic Regression (Sigmoid Function)\n",
    "\n",
    "회귀(regression)의 이름을 가지지만 분류 모델이다. 선형 회귀처럼 선형 방정식을 학습하며, 다음의 예시와 같다.\n",
    "\n",
    "$χ = a ×(Weight) + b ×(Length) + c ×(Diagonal) + d ×(Height) + e ×(Width) + f$\n",
    "\n",
    "*a, b, c, d, e* 는 가중치 혹은 계수이다. χ는 어떤 값이어도 가능하지만, 확률이 되기 위해 0 ~ 1 (또는 0 ~ 100%) 사이 값이 되어야 한다.\n",
    "\n",
    "χ가 아주 큰 음수일 때 0이 되고, χ가 아주 큰 양수일 때 1이 되도록 바꾸는 것은 바로 **시그모이드 함수(Sigmoid Function) / 또는 로지스틱 함수(Logistic Fuction)** 을 사용하면 가능하다.\n",
    "\n",
    "<img src='img/sigmoid function.jpg'>"
   ]
  },
  {
   "cell_type": "code",
   "execution_count": 57,
   "id": "ca23c865",
   "metadata": {},
   "outputs": [
    {
     "data": {
      "image/png": "[encoded data removed]",
      "text/plain": [
       "<Figure size 432x288 with 1 Axes>"
      ]
     },
     "metadata": {
      "needs_background": "light"
     },
     "output_type": "display_data"
    }
   ],
   "source": [
    "import numpy as np\n",
    "import matplotlib.pyplot as plt\n",
    "\n",
    "x = np.arange(-5, 5, 0.1) # -5 ~ 5 를 0.1 단위의 값으로 나열\n",
    "phi = 1 / (1+np.exp(-x))\n",
    "\n",
    "# np.exp() = e^x\n",
    "# np.log() / np.log10() / np.log2()\n",
    "\n",
    "plt.plot(x, phi)\n",
    "plt.xlabel('x')\n",
    "plt.ylabel('phi')\n",
    "plt.show()"
   ]
  },
  {
   "cell_type": "code",
   "execution_count": 45,
   "id": "3c1e9d29",
   "metadata": {},
   "outputs": [
    {
     "name": "stdout",
     "output_type": "stream",
     "text": [
      "['A' 'C']\n"
     ]
    }
   ],
   "source": [
    "# 시그모이드 함수에서 0.5보다 크면 양성 클래스, 0.5보다 작으면 음성 클래스로 판단\n",
    "char_arr = np.array(['A','B','C','D','E'])\n",
    "print(char_arr[[True, False, True, False, False]]) # 이를 불리언 인덱싱(boolean indexing) 이라 함"
   ]
  },
  {
   "cell_type": "code",
   "execution_count": 46,
   "id": "1d6e2212",
   "metadata": {},
   "outputs": [],
   "source": [
    "bream_smelt_indexes = (train_target == 'Bream') | (train_target == 'Smelt') # train_target 에서 'Bream' 과 'Smelt' 인덱스를 수집\n",
    "train_bream_smelt = train_scaled[bream_smelt_indexes]\n",
    "target_bream_smelt = train_target[bream_smelt_indexes]"
   ]
  },
  {
   "cell_type": "code",
   "execution_count": 50,
   "id": "8e7d45d6",
   "metadata": {},
   "outputs": [
    {
     "data": {
      "text/plain": [
       "LogisticRegression()"
      ]
     },
     "execution_count": 50,
     "metadata": {},
     "output_type": "execute_result"
    }
   ],
   "source": [
    "from sklearn.linear_model import LogisticRegression\n",
    "lr = LogisticRegression()\n",
    "lr.fit(train_bream_smelt, target_bream_smelt)"
   ]
  },
  {
   "cell_type": "code",
   "execution_count": 51,
   "id": "de0d87ce",
   "metadata": {},
   "outputs": [
    {
     "data": {
      "text/plain": [
       "array(['Bream', 'Smelt', 'Bream', 'Bream', 'Bream'], dtype=object)"
      ]
     },
     "execution_count": 51,
     "metadata": {},
     "output_type": "execute_result"
    }
   ],
   "source": [
    "lr.predict(train_bream_smelt[:5])"
   ]
  },
  {
   "cell_type": "code",
   "execution_count": 52,
   "id": "9334d7bf",
   "metadata": {},
   "outputs": [
    {
     "data": {
      "text/plain": [
       "array([[0.99759855, 0.00240145],\n",
       "       [0.02735183, 0.97264817],\n",
       "       [0.99486072, 0.00513928],\n",
       "       [0.98584202, 0.01415798],\n",
       "       [0.99767269, 0.00232731]])"
      ]
     },
     "execution_count": 52,
     "metadata": {},
     "output_type": "execute_result"
    }
   ],
   "source": [
    "lr.predict_proba(train_bream_smelt[:5])"
   ]
  },
  {
   "cell_type": "code",
   "execution_count": 53,
   "id": "067fab75",
   "metadata": {},
   "outputs": [
    {
     "data": {
      "text/plain": [
       "array(['Bream', 'Smelt'], dtype=object)"
      ]
     },
     "execution_count": 53,
     "metadata": {},
     "output_type": "execute_result"
    }
   ],
   "source": [
    "lr.classes_"
   ]
  },
  {
   "cell_type": "code",
   "execution_count": 55,
   "id": "42a11558",
   "metadata": {},
   "outputs": [
    {
     "name": "stdout",
     "output_type": "stream",
     "text": [
      "[[-0.4037798  -0.57620209 -0.66280298 -1.01290277 -0.73168947]] [-2.16155132]\n"
     ]
    }
   ],
   "source": [
    "print(lr.coef_, lr.intercept_) # 계수, Y절편"
   ]
  },
  {
   "cell_type": "markdown",
   "id": "68eda49a",
   "metadata": {},
   "source": [
    "이 로지스틱 회귀 모델의 학습 방정식은 다음과 같다.\n",
    "\n",
    "$χ = -0.404 ×(Weight) - 0.576 ×(Length) - 0.663 ×(Diagonal) - 1.013 ×(Height) - 0.732 ×(Width) - 2.162$"
   ]
  },
  {
   "cell_type": "code",
   "execution_count": 59,
   "id": "8176e149",
   "metadata": {},
   "outputs": [
    {
     "name": "stdout",
     "output_type": "stream",
     "text": [
      "[-6.02927744  3.57123907 -5.26568906 -4.24321775 -6.0607117 ]\n"
     ]
    }
   ],
   "source": [
    "decisions = lr.decision_function(train_bream_smelt[:5]) # decision_fuction : χ값을 얻을 수 있는 메서드\n",
    "decisions # 해당 값을 시그모이드 함수에 통과시키면 확률을 얻을 수 있다"
   ]
  },
  {
   "cell_type": "code",
   "execution_count": 60,
   "id": "b2ac7655",
   "metadata": {},
   "outputs": [
    {
     "name": "stdout",
     "output_type": "stream",
     "text": [
      "[0.00240145 0.97264817 0.00513928 0.01415798 0.00232731]\n"
     ]
    }
   ],
   "source": [
    "from scipy.special import expit\n",
    "print(expit(decisions)) # expit 은 scipy(사이파이) 라이브러리에서 시그모이드 함수를 지원하는 메서드이다\n",
    "\n",
    "# 결과를 보면 lr.predict_proba 에서 얻은 2번째 값과 동일하다\n",
    "# 즉 predict_proba 는 음성 클래스와 양성 클래스에 대한 확률을 출력한다는 것을 알 수 있다"
   ]
  },
  {
   "cell_type": "markdown",
   "id": "d5d2fbf4",
   "metadata": {},
   "source": [
    "### 1-2. Logistic Regression : Multiple Classification\n",
    "\n",
    "LogisticRegression 은 반복적인 알고리즘을 사용한다. max_iter 매개변수는 반복 횟수 지정으로 default 100 이다. 우리가 준비한 데이터의 경우 반복 횟수가 부족하다는 경고가 발생하기에 1,000으로 늘려서 실행한다.\n",
    "\n",
    "또한 릿지 회귀(Ridge Regression)와 같이 계수의 제곱을 규제하며, 이런 규제를 L2 규제라고 부른다. 릿지 회귀의 경우 alpha 매개변수로 조절했으며, LogisticRegression의 경우 매개변수 C로 제어한다.\n",
    "\n",
    "1. alpha 값이 ↑, 규제가 ↑\n",
    "\n",
    "1. C 값이 ↑, 규제가 ↓\n",
    "\n",
    "1. C 의 default 값은 1\n",
    "\n",
    "여기서는 규제 완화를 위해 C 값을 20으로 지정한다."
   ]
  },
  {
   "cell_type": "code",
   "execution_count": 62,
   "id": "677e845b",
   "metadata": {},
   "outputs": [
    {
     "name": "stdout",
     "output_type": "stream",
     "text": [
      "훈련 점수 : 0.9327731092436975\n",
      "시험 점수 : 0.925\n"
     ]
    }
   ],
   "source": [
    "lr = LogisticRegression(C=20, max_iter=1000)\n",
    "lr.fit(train_scaled, train_target)\n",
    "print(\"훈련 점수 :\", lr.score(train_scaled, train_target))\n",
    "print(\"시험 점수 :\", lr.score(test_scaled, test_target))"
   ]
  },
  {
   "cell_type": "code",
   "execution_count": 63,
   "id": "91dfdc2c",
   "metadata": {},
   "outputs": [
    {
     "name": "stdout",
     "output_type": "stream",
     "text": [
      "['Perch' 'Smelt' 'Pike' 'Roach' 'Perch']\n"
     ]
    }
   ],
   "source": [
    "print(lr.predict(test_scaled[:5]))"
   ]
  },
  {
   "cell_type": "code",
   "execution_count": 64,
   "id": "fb6ec159",
   "metadata": {},
   "outputs": [
    {
     "name": "stdout",
     "output_type": "stream",
     "text": [
      "[[0.    0.014 0.841 0.    0.136 0.007 0.003]\n",
      " [0.    0.003 0.044 0.    0.007 0.946 0.   ]\n",
      " [0.    0.    0.034 0.935 0.015 0.016 0.   ]\n",
      " [0.011 0.034 0.306 0.007 0.567 0.    0.076]\n",
      " [0.    0.    0.904 0.002 0.089 0.002 0.001]]\n"
     ]
    }
   ],
   "source": [
    "proba = lr.predict_proba(test_scaled[:5])\n",
    "print(np.round(proba, decimals=3)) # decimlas=3 소수점 셋째자리까지 표시"
   ]
  },
  {
   "cell_type": "code",
   "execution_count": 66,
   "id": "65bf3e63",
   "metadata": {},
   "outputs": [
    {
     "data": {
      "text/plain": [
       "array(['Bream', 'Parkki', 'Perch', 'Pike', 'Roach', 'Smelt', 'Whitefish'],\n",
       "      dtype=object)"
      ]
     },
     "execution_count": 66,
     "metadata": {},
     "output_type": "execute_result"
    }
   ],
   "source": [
    "lr.classes_"
   ]
  },
  {
   "cell_type": "code",
   "execution_count": 67,
   "id": "ff8094df",
   "metadata": {},
   "outputs": [
    {
     "name": "stdout",
     "output_type": "stream",
     "text": [
      "(7, 5) (7,)\n"
     ]
    }
   ],
   "source": [
    "print(lr.coef_.shape, lr.intercept_.shape) # (행, 열)"
   ]
  },
  {
   "cell_type": "markdown",
   "id": "4531fac9",
   "metadata": {},
   "source": [
    "- 다중 분류는 이진 분류에서 보았던 χ값을 7개나 계산한다.\n",
    "- 즉, 다중 분류는 클래스마다 χ값을 하나씩 계산하게 된다.\n",
    "- 이진 분류에서는 시그모이드 함수를 이용해 χ값을 0 ~ 1 사이값으로 변환한다,\n",
    "- 다중 분류는 **소프트맥스(Softmax)** 함수를 사용하여 χ값을 확률로 변환한다.\n",
    "\n",
    "> 소프트맥스 함수(Softmax Function) 의 경우, 여러 선형 방정식의 출력값을 0 ~ 1 사이값으로 압축하고, 전체 합이 1이 되도록 한다. 이를 위해 지수 함수를 사용하기 때문에 **정규화된 지수 함수** 라고도 부른다."
   ]
  },
  {
   "cell_type": "markdown",
   "id": "79c2deab",
   "metadata": {},
   "source": [
    "### 1-3. Softmax Function\n",
    "\n",
    "1. 7개의 χ 값을 χ1 ~ χ7 이라 칭한다.\n",
    "1. 각각의 값을 이용해 지수 함수 e^χ1 ~ e^χ7 을 계산해 모두 더한다.\n",
    "1. 이를 e_sum 이라 칭한다.\n",
    "\n",
    "$esum = e^χ1 + e^χ2 + e^χ3 + e^χ4 + e^χ5 + e^χ6 + e^χ7$\n",
    "\n",
    "1. 그 다음 e^χ1 ~ e^χ7 을 각각 e_sum 으로 나누어 준다.\n",
    "\n",
    "$s1 = e^χ1/esum, s2 = e^χ2/esum, ... , s7 = e^χ3/esum$\n",
    "\n",
    "1. s1 에서 s7 까지 모두 더하면 분자와 분모가 같아지므로 1이 된다."
   ]
  },
  {
   "cell_type": "code",
   "execution_count": 69,
   "id": "2d2ba08d",
   "metadata": {},
   "outputs": [
    {
     "name": "stdout",
     "output_type": "stream",
     "text": [
      "[[ -6.5    1.03   5.16  -2.73   3.34   0.33  -0.63]\n",
      " [-10.86   1.93   4.77  -2.4    2.98   7.84  -4.26]\n",
      " [ -4.34  -6.23   3.17   6.49   2.36   2.42  -3.87]\n",
      " [ -0.68   0.45   2.65  -1.19   3.26  -5.75   1.26]\n",
      " [ -6.4   -1.99   5.82  -0.11   3.5   -0.11  -0.71]]\n"
     ]
    }
   ],
   "source": [
    "decision = lr.decision_function(test_scaled[:5])\n",
    "print(np.round(decision, decimals=2))"
   ]
  },
  {
   "cell_type": "code",
   "execution_count": 70,
   "id": "acd0fbf9",
   "metadata": {},
   "outputs": [
    {
     "name": "stdout",
     "output_type": "stream",
     "text": [
      "[[0.    0.014 0.841 0.    0.136 0.007 0.003]\n",
      " [0.    0.003 0.044 0.    0.007 0.946 0.   ]\n",
      " [0.    0.    0.034 0.935 0.015 0.016 0.   ]\n",
      " [0.011 0.034 0.306 0.007 0.567 0.    0.076]\n",
      " [0.    0.    0.904 0.002 0.089 0.002 0.001]]\n"
     ]
    }
   ],
   "source": [
    "from scipy.special import softmax # scipy(사이파이) 라이브러리에서 소프트맥스 함수도 제공한다\n",
    "proba = softmax(decision, axis=1) # axis=1 로 각 행을 계산\n",
    "print(np.round(proba, decimals=3))\n",
    "# 앞서 구한 proba 배열과 정확히 일치한다는 것을 확인할 수 있다"
   ]
  },
  {
   "cell_type": "markdown",
   "id": "0ccae2fb",
   "metadata": {},
   "source": [
    "# 2. 경사 하강법 (Gradient Descent)"
   ]
  },
  {
   "cell_type": "markdown",
   "id": "f10e2e27",
   "metadata": {},
   "source": [
    "### 2-1. 확률적 경사 하강법 (Stochastic Gradient Descent)\n",
    " 하나의 데이터를 무작위로 샘플링하여 목표값에 다가간다. 그렇게 모든 데이터를 사용하였을 때 1사이클이 종료되어, 목표값의 도달하지 못했을 시 처음부터 다시 시작한다. 이 때 1사이클을 **1 에포크(epoch)**라고 한다.\n",
    "\n",
    " 일반적으로 경사하강법은 수십, 수백 번 이상의 에포크를 수행한다.\n",
    "### 2-2. 미니 경사 하강법 (Minibatch Gradient Descent)\n",
    " 데이터를 하나가 아닌 무작위로 몇 개의 샘플링을 하여 경사 하강법을 수행한다.\n",
    "### 2-3. 배치 경사 하강법 (Batch Gradient Descent)\n",
    " 모든 데이터를 한 번에 가져와 사용하며, 전체 데이터를 사용하는 만큼 가장 안정적인 방법이라 할 수 있다. 하지만 그렇기에 컴퓨터 자원을 많이 사용하기 때문에 주의해야한다.\n",
    "\n",
    "> 확률적 경사 하강법 시 신경망 알고리즘을 반드시 사용한다. 신경망은 일반적으로 많은 데이터를 사용하기에 모든 데이터를 한 번에 사용하기 어렵고, 매우 복잡하여 수학적인 방법으로 해답을 얻기 어렵다. 확률적, 미니배치 경사 하강법 모두 신경망 모델을 사용한다."
   ]
  },
  {
   "cell_type": "markdown",
   "id": "7872944e",
   "metadata": {},
   "source": [
    "### 2-4. 손실 함수 (Loss Function)\n",
    "\n",
    " 머신러닝 알고리즘이 얼마나 엉터리인지 측정하는 기준이다.\n",
    "\n",
    " 손실 함수의 값 ↓, 좋은 모델. 다만 어떤 값이 최솟값인지는 알 수 없다.\n",
    " \n",
    "> **비용 함수(Cost Function)** 은 손실 함수의 다른 말이다. 손실 함수는 샘플 하나에 대한 손실을 정의, 비용 함수는 훈련 세트 모든 샘플에 대한 손실 함수의 합을 의미한다."
   ]
  },
  {
   "cell_type": "markdown",
   "id": "113c9ba0",
   "metadata": {},
   "source": [
    " 예측 확률이 각각 [0.9, 0.3, 0.2, 0.8] 이고 타깃이 [1, 1, 0, 0] 일 때, 예측이 1 에 가까울 수록 좋은 모델이다.\n",
    "\n",
    " 1 에 가까울 수록 예측과 타깃의 곱의 음수는 점점 작아진다.\n",
    "\n",
    "$0.9(예측) × 1(타깃) → -0.9$\n",
    "\n",
    "$0.3(예측) × 1(타깃) → -0.3$\n",
    "\n",
    " 0.2 확률의 경우 1이 될 확률로 바꾸어 사용한다. 즉, $1 - 0.2 = 0.8$ 로 사용한다.\n",
    "\n",
    "$0.2 → 0.8 × 1 → -0.8$\n",
    "\n",
    "$0.8 → 0.2 × 1 → -0.2$\n",
    "\n",
    " 여기서 첫 번째와 세 번째는 낮은 손실을 갖고, 두 번째와 네 번째는 높은 손실을 갖는다."
   ]
  },
  {
   "cell_type": "markdown",
   "id": "36c5aeef",
   "metadata": {},
   "source": [
    " 위의 손실 함수도 나쁘지 않지만 여기에서 예측 확률에 로그 함수를 적용하면 더 좋다.\n",
    " \n",
    " $logχ = γ$ 에서 γ에 해당 손실을 취했을 때, 음수여도 χ는 양수의 값을 가지며 0 ~ 1 사이의 예측 값을 가지게 된다. 또한 큰 음수일 수록 0 에 가까워지기 때문에 손실 모델에 아주 적합하다.\n",
    " \n",
    " 타깃이 1 일 때 → -log(예측 확률)\n",
    " \n",
    " 타깃이 0 일 때 → -log(1 - 예측 확률)\n",
    " \n",
    " 이 때 예측 확률이 0 에서 멀어질수록 손실은 아주 큰 양수가 된다. 이렇게 정의한 손실 함수를 **로지스틱 손실 함수(Logistic Loss Function)** 이라고 부르며, 또는 **이진 크로스엔트로피 손실 함수(Binary Cross-Entropy Loss Function)** 라고도 부른다.\n",
    "> 로지스틱 손실 함수를 사용하면 로지스틱 회귀 모델이 만들어진다.\n",
    "\n",
    " 다중 분류에서 사용하는 손실 함수를 **크로스엔트로피 손실 함수(Cross-Entropy Loss Function)** 이라고 한다.\n",
    " > 회귀의 손실 함수로 $(|target - predict|) / n$ 의 값인 **평균 절대값 오차**를 사용할 수 있다. 또는 $(target - predict)^2 / n$ 의 값인 **평균 제곱 오차(Mean Squared Error)** 를 많이 사용한다."
   ]
  },
  {
   "cell_type": "markdown",
   "id": "c34d44c0",
   "metadata": {},
   "source": [
    "### 2-5. SGDClassifier"
   ]
  },
  {
   "cell_type": "code",
   "execution_count": 1,
   "id": "93bfdd2a",
   "metadata": {},
   "outputs": [],
   "source": [
    "import pandas as pd\n",
    "\n",
    "fish = pd.read_csv('https://bit.ly/fish_csv_data')"
   ]
  },
  {
   "cell_type": "code",
   "execution_count": 2,
   "id": "959983b5",
   "metadata": {},
   "outputs": [],
   "source": [
    "fish_input = fish[['Weight','Length','Diagonal','Height','Width']].to_numpy() # == .values()\n",
    "fish_target = fish['Species'].to_numpy()"
   ]
  },
  {
   "cell_type": "code",
   "execution_count": 3,
   "id": "3854b817",
   "metadata": {},
   "outputs": [],
   "source": [
    "from sklearn.model_selection import train_test_split\n",
    "\n",
    "train_input, test_input, train_target, test_target = train_test_split(fish_input, fish_target, random_state=42)"
   ]
  },
  {
   "cell_type": "code",
   "execution_count": 4,
   "id": "211e1925",
   "metadata": {},
   "outputs": [],
   "source": [
    "from sklearn.preprocessing import StandardScaler\n",
    "\n",
    "ss = StandardScaler()\n",
    "ss.fit(train_input)\n",
    "train_scaled = ss.transform(train_input)\n",
    "test_scaled = ss.transform(test_input)"
   ]
  },
  {
   "cell_type": "code",
   "execution_count": 5,
   "id": "a7dc18ec",
   "metadata": {},
   "outputs": [],
   "source": [
    "from sklearn.linear_model import SGDClassifier # 확률적 경사 하강법, 사이킷런의 분류용 클래스"
   ]
  },
  {
   "cell_type": "code",
   "execution_count": 6,
   "id": "f3d2d6ed",
   "metadata": {},
   "outputs": [
    {
     "name": "stdout",
     "output_type": "stream",
     "text": [
      "0.773109243697479\n",
      "0.775\n"
     ]
    },
    {
     "name": "stderr",
     "output_type": "stream",
     "text": [
      "C:\\Users\\hsmin\\anaconda3\\lib\\site-packages\\sklearn\\linear_model\\_stochastic_gradient.py:696: ConvergenceWarning: Maximum number of iteration reached before convergence. Consider increasing max_iter to improve the fit.\n",
      "  warnings.warn(\n"
     ]
    }
   ],
   "source": [
    "sc = SGDClassifier(loss='log', max_iter=10, random_state=42) \n",
    "# loss='log' 로 하면 클래스마다 이진 분류 모델을 만들어줌. 로지스틱 손실함수를 의미\n",
    "sc.fit(train_scaled, train_target)\n",
    "print(sc.score(train_scaled, train_target))\n",
    "print(sc.score(test_scaled, test_target))\n",
    "\n",
    "# ConvergenceWarning : 모델이 충분히 수렴하지 않았다는 경고이다. 즉 max_iter 매개변수의 값이 작다는 것을 의미한다."
   ]
  },
  {
   "cell_type": "code",
   "execution_count": 7,
   "id": "85856311",
   "metadata": {},
   "outputs": [
    {
     "name": "stdout",
     "output_type": "stream",
     "text": [
      "0.8151260504201681\n",
      "0.85\n"
     ]
    }
   ],
   "source": [
    "sc.partial_fit(train_scaled, train_target) # 이미 훈련된 모델을 가져와 호출할 때마다 1 에포크씩 이어서 훈련한다\n",
    "print(sc.score(train_scaled, train_target))\n",
    "print(sc.score(test_scaled, test_target))"
   ]
  },
  {
   "cell_type": "markdown",
   "id": "4a979bb1",
   "metadata": {},
   "source": [
    " 훈련 세트를 한꺼번에 사용했으니 배치 경사 하강법이 아닌가?\n",
    "\n",
    " 우리는 SGDClassifier 객체에 훈련 세트 전체를 한 번에 전달했지만, 알고리즘은 훈련 세트에서 1개씩 샘플링 하는 경사 하강법을 수행한다. SGDClassifier 은 미니배치 경사 하강법이나 배치 하강법을 제공하지 않는다."
   ]
  },
  {
   "cell_type": "markdown",
   "id": "055c2e9b",
   "metadata": {},
   "source": [
    " 모델은 에포크 횟수가 충분하면 훈련 세트를 완전히 학습하여 훈련 세트에 매우 적합한 모델이 완성된다. \n",
    " \n",
    " 적은 에포크 횟수에는 훈련 세트, 테스트 세트에 잘 맞지 않은 과소적합 모델일 가능성이 높다. 반대로 너무 많은 에포크 횟수는 훈련 세트에만 너무 잘 맞아, 테스트 세트에는 점수가 나쁜 과대적합 모델일 가능성이 높다.\n",
    " \n",
    " 에포크가 진행될수록 훈련 세트 점수는 꾸준히 증가하나, 테스트 세트 점수는 어느 순간 감소하기 시작한다. 바로 이 지점이 과대적합이 시작되는 시점이며, 이 직전에 훈련을 멈추는 것을 **조기 종료(Early Stopping)** 라고 한다."
   ]
  },
  {
   "cell_type": "code",
   "execution_count": 8,
   "id": "3aed282d",
   "metadata": {},
   "outputs": [],
   "source": [
    "import numpy as np\n",
    "\n",
    "sc = SGDClassifier(loss='log', random_state=42)\n",
    "train_score = []\n",
    "test_score = []\n",
    "classes = np.unique(train_target)"
   ]
  },
  {
   "cell_type": "code",
   "execution_count": 9,
   "id": "64f78077",
   "metadata": {},
   "outputs": [
    {
     "data": {
      "text/plain": [
       "array(['Bream', 'Parkki', 'Perch', 'Pike', 'Roach', 'Smelt', 'Whitefish'],\n",
       "      dtype=object)"
      ]
     },
     "execution_count": 9,
     "metadata": {},
     "output_type": "execute_result"
    }
   ],
   "source": [
    "classes"
   ]
  },
  {
   "cell_type": "code",
   "execution_count": 10,
   "id": "0aca4365",
   "metadata": {},
   "outputs": [],
   "source": [
    "for _ in range(0, 300): # epoch 300회 # '_' 는 사용하지 않고 버리는 용도의 변수이다\n",
    "    sc.partial_fit(train_scaled, train_target, classes=classes)\n",
    "    train_score.append(sc.score(train_scaled, train_target))\n",
    "    test_score.append(sc.score(test_scaled, test_target))"
   ]
  },
  {
   "cell_type": "code",
   "execution_count": 11,
   "id": "aab6352b",
   "metadata": {},
   "outputs": [
    {
     "data": {
      "image/png": "[encoded data removed]",
      "text/plain": [
       "<Figure size 432x288 with 1 Axes>"
      ]
     },
     "metadata": {
      "needs_background": "light"
     },
     "output_type": "display_data"
    }
   ],
   "source": [
    "import matplotlib.pyplot as plt\n",
    "plt.plot(train_score)\n",
    "plt.plot(test_score)\n",
    "plt.xlabel('epoch')\n",
    "plt.ylabel('accuracy')\n",
    "plt.show()"
   ]
  },
  {
   "cell_type": "code",
   "execution_count": 12,
   "id": "734f8734",
   "metadata": {},
   "outputs": [
    {
     "name": "stdout",
     "output_type": "stream",
     "text": [
      "0.957983193277311\n",
      "0.925\n"
     ]
    }
   ],
   "source": [
    "sc = SGDClassifier(loss='log', max_iter=100, tol=None, random_state=42)\n",
    "# tol 은 향상될 최솟값, None 지정으로 epoch 100까지 채우도록 설정한다\n",
    "sc.fit(train_scaled, train_target)\n",
    "print(sc.score(train_scaled, train_target))\n",
    "print(sc.score(test_scaled, test_target))"
   ]
  },
  {
   "cell_type": "markdown",
   "id": "1a47ef10",
   "metadata": {},
   "source": [
    " loss 매개변수의 default 는 'hinge' 이다.\n",
    "\n",
    " **힌지 손실(Hinge Loss)** 은 **서포트 벡터 머신(Support Vector Machine)** 이라 불리는 또 다른 머신러닝  알고리즘을 위한 손실 함수이다."
   ]
  },
  {
   "cell_type": "code",
   "execution_count": 13,
   "id": "177838ce",
   "metadata": {},
   "outputs": [
    {
     "name": "stdout",
     "output_type": "stream",
     "text": [
      "0.9495798319327731\n",
      "0.925\n"
     ]
    }
   ],
   "source": [
    "# 힌지 손실(Hinge Loss) 예시\n",
    "sc = SGDClassifier(loss='hinge',max_iter=100, tol=None, random_state=42)\n",
    "sc.fit(train_scaled, train_target)\n",
    "print(sc.score(train_scaled, train_target))\n",
    "print(sc.score(test_scaled, test_target))"
   ]
  }
 ],
 "metadata": {
  "kernelspec": {
   "display_name": "Python 3 (ipykernel)",
   "language": "python",
   "name": "python3"
  },
  "language_info": {
   "codemirror_mode": {
    "name": "ipython",
    "version": 3
   },
   "file_extension": ".py",
   "mimetype": "text/x-python",
   "name": "python",
   "nbconvert_exporter": "python",
   "pygments_lexer": "ipython3",
   "version": "3.9.12"
  }
 },
 "nbformat": 4,
 "nbformat_minor": 5
}
