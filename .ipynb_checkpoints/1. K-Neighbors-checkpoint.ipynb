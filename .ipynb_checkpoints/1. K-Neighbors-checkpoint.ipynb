{
 "cells": [
  {
   "cell_type": "markdown",
   "id": "33ce3f70",
   "metadata": {},
   "source": [
    "# K-최근접 이웃 분류 (K-Neighbors Classifier)"
   ]
  },
  {
   "cell_type": "code",
   "execution_count": 1,
   "id": "970b986c",
   "metadata": {},
   "outputs": [],
   "source": [
    "import pandas as pd\n",
    "import numpy as np\n",
    "import matplotlib.pyplot as plt"
   ]
  },
  {
   "cell_type": "code",
   "execution_count": 2,
   "id": "0ff6c6e1",
   "metadata": {},
   "outputs": [
    {
     "data": {
      "text/html": [
       "<div>\n",
       "<style scoped>\n",
       "    .dataframe tbody tr th:only-of-type {\n",
       "        vertical-align: middle;\n",
       "    }\n",
       "\n",
       "    .dataframe tbody tr th {\n",
       "        vertical-align: top;\n",
       "    }\n",
       "\n",
       "    .dataframe thead th {\n",
       "        text-align: right;\n",
       "    }\n",
       "</style>\n",
       "<table border=\"1\" class=\"dataframe\">\n",
       "  <thead>\n",
       "    <tr style=\"text-align: right;\">\n",
       "      <th></th>\n",
       "      <th>Species</th>\n",
       "      <th>Weight</th>\n",
       "      <th>Length1</th>\n",
       "      <th>Length2</th>\n",
       "      <th>Length3</th>\n",
       "      <th>Height</th>\n",
       "      <th>Width</th>\n",
       "    </tr>\n",
       "  </thead>\n",
       "  <tbody>\n",
       "    <tr>\n",
       "      <th>0</th>\n",
       "      <td>Bream</td>\n",
       "      <td>242.0</td>\n",
       "      <td>23.2</td>\n",
       "      <td>25.4</td>\n",
       "      <td>30.0</td>\n",
       "      <td>11.5200</td>\n",
       "      <td>4.0200</td>\n",
       "    </tr>\n",
       "    <tr>\n",
       "      <th>1</th>\n",
       "      <td>Bream</td>\n",
       "      <td>290.0</td>\n",
       "      <td>24.0</td>\n",
       "      <td>26.3</td>\n",
       "      <td>31.2</td>\n",
       "      <td>12.4800</td>\n",
       "      <td>4.3056</td>\n",
       "    </tr>\n",
       "    <tr>\n",
       "      <th>2</th>\n",
       "      <td>Bream</td>\n",
       "      <td>340.0</td>\n",
       "      <td>23.9</td>\n",
       "      <td>26.5</td>\n",
       "      <td>31.1</td>\n",
       "      <td>12.3778</td>\n",
       "      <td>4.6961</td>\n",
       "    </tr>\n",
       "    <tr>\n",
       "      <th>3</th>\n",
       "      <td>Bream</td>\n",
       "      <td>363.0</td>\n",
       "      <td>26.3</td>\n",
       "      <td>29.0</td>\n",
       "      <td>33.5</td>\n",
       "      <td>12.7300</td>\n",
       "      <td>4.4555</td>\n",
       "    </tr>\n",
       "    <tr>\n",
       "      <th>4</th>\n",
       "      <td>Bream</td>\n",
       "      <td>430.0</td>\n",
       "      <td>26.5</td>\n",
       "      <td>29.0</td>\n",
       "      <td>34.0</td>\n",
       "      <td>12.4440</td>\n",
       "      <td>5.1340</td>\n",
       "    </tr>\n",
       "    <tr>\n",
       "      <th>...</th>\n",
       "      <td>...</td>\n",
       "      <td>...</td>\n",
       "      <td>...</td>\n",
       "      <td>...</td>\n",
       "      <td>...</td>\n",
       "      <td>...</td>\n",
       "      <td>...</td>\n",
       "    </tr>\n",
       "    <tr>\n",
       "      <th>154</th>\n",
       "      <td>Smelt</td>\n",
       "      <td>12.2</td>\n",
       "      <td>11.5</td>\n",
       "      <td>12.2</td>\n",
       "      <td>13.4</td>\n",
       "      <td>2.0904</td>\n",
       "      <td>1.3936</td>\n",
       "    </tr>\n",
       "    <tr>\n",
       "      <th>155</th>\n",
       "      <td>Smelt</td>\n",
       "      <td>13.4</td>\n",
       "      <td>11.7</td>\n",
       "      <td>12.4</td>\n",
       "      <td>13.5</td>\n",
       "      <td>2.4300</td>\n",
       "      <td>1.2690</td>\n",
       "    </tr>\n",
       "    <tr>\n",
       "      <th>156</th>\n",
       "      <td>Smelt</td>\n",
       "      <td>12.2</td>\n",
       "      <td>12.1</td>\n",
       "      <td>13.0</td>\n",
       "      <td>13.8</td>\n",
       "      <td>2.2770</td>\n",
       "      <td>1.2558</td>\n",
       "    </tr>\n",
       "    <tr>\n",
       "      <th>157</th>\n",
       "      <td>Smelt</td>\n",
       "      <td>19.7</td>\n",
       "      <td>13.2</td>\n",
       "      <td>14.3</td>\n",
       "      <td>15.2</td>\n",
       "      <td>2.8728</td>\n",
       "      <td>2.0672</td>\n",
       "    </tr>\n",
       "    <tr>\n",
       "      <th>158</th>\n",
       "      <td>Smelt</td>\n",
       "      <td>19.9</td>\n",
       "      <td>13.8</td>\n",
       "      <td>15.0</td>\n",
       "      <td>16.2</td>\n",
       "      <td>2.9322</td>\n",
       "      <td>1.8792</td>\n",
       "    </tr>\n",
       "  </tbody>\n",
       "</table>\n",
       "<p>159 rows × 7 columns</p>\n",
       "</div>"
      ],
      "text/plain": [
       "    Species  Weight  Length1  Length2  Length3   Height   Width\n",
       "0     Bream   242.0     23.2     25.4     30.0  11.5200  4.0200\n",
       "1     Bream   290.0     24.0     26.3     31.2  12.4800  4.3056\n",
       "2     Bream   340.0     23.9     26.5     31.1  12.3778  4.6961\n",
       "3     Bream   363.0     26.3     29.0     33.5  12.7300  4.4555\n",
       "4     Bream   430.0     26.5     29.0     34.0  12.4440  5.1340\n",
       "..      ...     ...      ...      ...      ...      ...     ...\n",
       "154   Smelt    12.2     11.5     12.2     13.4   2.0904  1.3936\n",
       "155   Smelt    13.4     11.7     12.4     13.5   2.4300  1.2690\n",
       "156   Smelt    12.2     12.1     13.0     13.8   2.2770  1.2558\n",
       "157   Smelt    19.7     13.2     14.3     15.2   2.8728  2.0672\n",
       "158   Smelt    19.9     13.8     15.0     16.2   2.9322  1.8792\n",
       "\n",
       "[159 rows x 7 columns]"
      ]
     },
     "execution_count": 2,
     "metadata": {},
     "output_type": "execute_result"
    }
   ],
   "source": [
    "domi = pd.read_csv('fish.csv')\n",
    "domi"
   ]
  },
  {
   "cell_type": "code",
   "execution_count": 3,
   "id": "bce014c3",
   "metadata": {},
   "outputs": [],
   "source": [
    "bream_length = domi[domi.Species == 'Bream'].Length2.values\n",
    "bream_weight = domi[domi.Species == 'Bream'].Weight.values"
   ]
  },
  {
   "cell_type": "code",
   "execution_count": 4,
   "id": "c0f7363d",
   "metadata": {},
   "outputs": [
    {
     "name": "stdout",
     "output_type": "stream",
     "text": [
      "[25.4 26.3 26.5 29.  29.  29.7 29.7 30.  30.  30.7 31.  31.  31.5 32.\n",
      " 32.  32.  33.  33.  33.5 33.5 34.  34.  34.5 35.  35.  35.  35.  36.\n",
      " 36.  37.  38.5 38.5 39.5 41.  41. ]\n"
     ]
    }
   ],
   "source": [
    "print(bream_length)"
   ]
  },
  {
   "cell_type": "code",
   "execution_count": 5,
   "id": "f569a6c8",
   "metadata": {},
   "outputs": [
    {
     "data": {
      "image/png": "[encoded data removed]",
      "text/plain": [
       "<Figure size 432x288 with 1 Axes>"
      ]
     },
     "metadata": {
      "needs_background": "light"
     },
     "output_type": "display_data"
    }
   ],
   "source": [
    "plt.scatter(bream_length, bream_weight, color='blue')\n",
    "plt.title('Bream')\n",
    "plt.xlabel('length')\n",
    "plt.ylabel('weight')\n",
    "plt.show()"
   ]
  },
  {
   "cell_type": "code",
   "execution_count": 6,
   "id": "b0cadd26",
   "metadata": {},
   "outputs": [
    {
     "data": {
      "text/plain": [
       "array([[25.4],\n",
       "       [26.3],\n",
       "       [26.5],\n",
       "       [29. ],\n",
       "       [29. ],\n",
       "       [29.7],\n",
       "       [29.7],\n",
       "       [30. ],\n",
       "       [30. ],\n",
       "       [30.7],\n",
       "       [31. ],\n",
       "       [31. ],\n",
       "       [31.5],\n",
       "       [32. ],\n",
       "       [32. ],\n",
       "       [32. ],\n",
       "       [33. ],\n",
       "       [33. ],\n",
       "       [33.5],\n",
       "       [33.5],\n",
       "       [34. ],\n",
       "       [34. ],\n",
       "       [34.5],\n",
       "       [35. ],\n",
       "       [35. ],\n",
       "       [35. ],\n",
       "       [35. ],\n",
       "       [36. ],\n",
       "       [36. ],\n",
       "       [37. ],\n",
       "       [38.5],\n",
       "       [38.5],\n",
       "       [39.5],\n",
       "       [41. ],\n",
       "       [41. ]])"
      ]
     },
     "execution_count": 6,
     "metadata": {},
     "output_type": "execute_result"
    }
   ],
   "source": [
    "bream_length.reshape(-1, 1)"
   ]
  },
  {
   "cell_type": "code",
   "execution_count": 7,
   "id": "aa2192ed",
   "metadata": {},
   "outputs": [],
   "source": [
    "smelt_length = domi[domi.Species == 'Smelt'].Length2.values\n",
    "smelt_weight = domi[domi.Species == 'Smelt'].Weight.values"
   ]
  },
  {
   "cell_type": "code",
   "execution_count": 8,
   "id": "8beb0608",
   "metadata": {},
   "outputs": [
    {
     "data": {
      "image/png": "[encoded data removed]",
      "text/plain": [
       "<Figure size 432x288 with 1 Axes>"
      ]
     },
     "metadata": {
      "needs_background": "light"
     },
     "output_type": "display_data"
    }
   ],
   "source": [
    "plt.scatter(bream_length, bream_weight)\n",
    "plt.scatter(smelt_length, smelt_weight)\n",
    "plt.title('Fish')\n",
    "plt.xlabel('length')\n",
    "plt.ylabel('weight')\n",
    "plt.show()"
   ]
  },
  {
   "cell_type": "code",
   "execution_count": 9,
   "id": "cde87cff",
   "metadata": {},
   "outputs": [],
   "source": [
    "length = list(bream_length) + list(smelt_length)\n",
    "weight = list(bream_weight) + list(smelt_weight)"
   ]
  },
  {
   "cell_type": "code",
   "execution_count": 10,
   "id": "a3813e2e",
   "metadata": {},
   "outputs": [],
   "source": [
    "fish_data = [[l, w] for l, w in zip(length, weight)]\n",
    "fish_target = [1]*35 + [0]*14\n",
    "fish_data = np.array(fish_data)\n",
    "fish_target = np.array(fish_target)"
   ]
  },
  {
   "cell_type": "code",
   "execution_count": 11,
   "id": "22c6ccb5",
   "metadata": {},
   "outputs": [
    {
     "data": {
      "text/plain": [
       "array([[  25.4,  242. ],\n",
       "       [  26.3,  290. ],\n",
       "       [  26.5,  340. ],\n",
       "       [  29. ,  363. ],\n",
       "       [  29. ,  430. ],\n",
       "       [  29.7,  450. ],\n",
       "       [  29.7,  500. ],\n",
       "       [  30. ,  390. ],\n",
       "       [  30. ,  450. ],\n",
       "       [  30.7,  500. ],\n",
       "       [  31. ,  475. ],\n",
       "       [  31. ,  500. ],\n",
       "       [  31.5,  500. ],\n",
       "       [  32. ,  340. ],\n",
       "       [  32. ,  600. ],\n",
       "       [  32. ,  600. ],\n",
       "       [  33. ,  700. ],\n",
       "       [  33. ,  700. ],\n",
       "       [  33.5,  610. ],\n",
       "       [  33.5,  650. ],\n",
       "       [  34. ,  575. ],\n",
       "       [  34. ,  685. ],\n",
       "       [  34.5,  620. ],\n",
       "       [  35. ,  680. ],\n",
       "       [  35. ,  700. ],\n",
       "       [  35. ,  725. ],\n",
       "       [  35. ,  720. ],\n",
       "       [  36. ,  714. ],\n",
       "       [  36. ,  850. ],\n",
       "       [  37. , 1000. ],\n",
       "       [  38.5,  920. ],\n",
       "       [  38.5,  955. ],\n",
       "       [  39.5,  925. ],\n",
       "       [  41. ,  975. ],\n",
       "       [  41. ,  950. ],\n",
       "       [   9.8,    6.7],\n",
       "       [  10.5,    7.5],\n",
       "       [  10.6,    7. ],\n",
       "       [  11. ,    9.7],\n",
       "       [  11.2,    9.8],\n",
       "       [  11.3,    8.7],\n",
       "       [  11.8,   10. ],\n",
       "       [  11.8,    9.9],\n",
       "       [  12. ,    9.8],\n",
       "       [  12.2,   12.2],\n",
       "       [  12.4,   13.4],\n",
       "       [  13. ,   12.2],\n",
       "       [  14.3,   19.7],\n",
       "       [  15. ,   19.9]])"
      ]
     },
     "execution_count": 11,
     "metadata": {},
     "output_type": "execute_result"
    }
   ],
   "source": [
    "fish_data"
   ]
  },
  {
   "cell_type": "code",
   "execution_count": 12,
   "id": "810b75b1",
   "metadata": {},
   "outputs": [
    {
     "data": {
      "text/plain": [
       "array([1, 1, 1, 1, 1, 1, 1, 1, 1, 1, 1, 1, 1, 1, 1, 1, 1, 1, 1, 1, 1, 1,\n",
       "       1, 1, 1, 1, 1, 1, 1, 1, 1, 1, 1, 1, 1, 0, 0, 0, 0, 0, 0, 0, 0, 0,\n",
       "       0, 0, 0, 0, 0])"
      ]
     },
     "execution_count": 12,
     "metadata": {},
     "output_type": "execute_result"
    }
   ],
   "source": [
    "fish_target"
   ]
  },
  {
   "cell_type": "code",
   "execution_count": 13,
   "id": "3d767713",
   "metadata": {},
   "outputs": [],
   "source": [
    "import numpy as np\n",
    "\n",
    "input_arr = np.array(fish_data)\n",
    "target_arr = np.array(fish_target)\n",
    "\n",
    "np.random.seed(42) # seed를 지정하여 동일한 결과가 나오도록 섞는다\n",
    "index = np.arange(49) # 0 ~ n-1 까지 1씩 증가하는 배열을 생성\n",
    "np.random.shuffle(index)\n",
    "\n",
    "# 배열 인덱싱(array indexing) 을 사용하여 index 순서대로 나열\n",
    "train_input = input_arr[index[:35]]\n",
    "train_target = target_arr[index[:35]]\n",
    "test_input = input_arr[index[35:]]\n",
    "test_target = target_arr[index[35:]]"
   ]
  },
  {
   "cell_type": "code",
   "execution_count": 19,
   "id": "149a88ad",
   "metadata": {},
   "outputs": [
    {
     "data": {
      "image/png": "[encoded data removed]",
      "text/plain": [
       "<Figure size 432x288 with 1 Axes>"
      ]
     },
     "metadata": {
      "needs_background": "light"
     },
     "output_type": "display_data"
    }
   ],
   "source": [
    "import matplotlib.pyplot as plt\n",
    "\n",
    "plt.scatter(train_input[:,0], train_input[:,1])\n",
    "plt.scatter(test_input[:,0], test_input[:,1])\n",
    "plt.xlabel('length')\n",
    "plt.ylabel('weight')\n",
    "plt.show()"
   ]
  },
  {
   "cell_type": "code",
   "execution_count": 27,
   "id": "e37f2b03",
   "metadata": {},
   "outputs": [
    {
     "data": {
      "text/plain": [
       "1.0"
      ]
     },
     "execution_count": 27,
     "metadata": {},
     "output_type": "execute_result"
    }
   ],
   "source": [
    "from sklearn.neighbors import KNeighborsClassifier\n",
    "\n",
    "kn = KNeighborsClassifier(n_neighbors=5)\n",
    "\n",
    "kn.fit(train_input, train_target)\n",
    "kn.score(test_input, test_target)"
   ]
  },
  {
   "cell_type": "code",
   "execution_count": 28,
   "id": "29eee79f",
   "metadata": {},
   "outputs": [
    {
     "data": {
      "text/plain": [
       "array([0, 0, 1, 0, 1, 1, 1, 0, 1, 1, 0, 1, 1, 0])"
      ]
     },
     "execution_count": 28,
     "metadata": {},
     "output_type": "execute_result"
    }
   ],
   "source": [
    "kn.predict(test_input)"
   ]
  },
  {
   "cell_type": "code",
   "execution_count": 29,
   "id": "d7014b2c",
   "metadata": {},
   "outputs": [
    {
     "name": "stdout",
     "output_type": "stream",
     "text": [
      "[0 0 1 0 1 1 1 0 1 1 0 1 1 0]\n"
     ]
    }
   ],
   "source": [
    "print(test_target)"
   ]
  },
  {
   "cell_type": "code",
   "execution_count": 16,
   "id": "5fea4c93",
   "metadata": {},
   "outputs": [
    {
     "name": "stdout",
     "output_type": "stream",
     "text": [
      "[[  32.   340. ]\n",
      " [  12.4   13.4]\n",
      " [  14.3   19.7]\n",
      " [  12.2   12.2]\n",
      " [  33.   700. ]\n",
      " [  36.   714. ]\n",
      " [  35.   720. ]\n",
      " [  35.   725. ]\n",
      " [  38.5  955. ]\n",
      " [  33.5  650. ]\n",
      " [  31.5  500. ]\n",
      " [  29.   430. ]\n",
      " [  41.   950. ]\n",
      " [  30.   450. ]\n",
      " [  29.   363. ]\n",
      " [  29.7  500. ]\n",
      " [  11.3    8.7]\n",
      " [  11.8   10. ]\n",
      " [  13.    12.2]\n",
      " [  32.   600. ]\n",
      " [  30.7  500. ]\n",
      " [  33.   700. ]\n",
      " [  35.   700. ]\n",
      " [  41.   975. ]\n",
      " [  38.5  920. ]\n",
      " [  25.4  242. ]\n",
      " [  12.     9.8]\n",
      " [  39.5  925. ]\n",
      " [  29.7  450. ]\n",
      " [  37.  1000. ]\n",
      " [  31.   500. ]\n",
      " [  10.5    7.5]\n",
      " [  26.3  290. ]\n",
      " [  34.   685. ]\n",
      " [  26.5  340. ]]\n"
     ]
    }
   ],
   "source": [
    "print(train_input)"
   ]
  },
  {
   "cell_type": "code",
   "execution_count": 30,
   "id": "a4b0e15a",
   "metadata": {},
   "outputs": [],
   "source": [
    "from sklearn.model_selection import train_test_split\n",
    "\n",
    "i_train, i_test, t_train, t_test = train_test_split(fish_data, fish_target, test_size=0.25, random_state=42)"
   ]
  },
  {
   "cell_type": "code",
   "execution_count": 31,
   "id": "08bb03bd",
   "metadata": {},
   "outputs": [
    {
     "name": "stdout",
     "output_type": "stream",
     "text": [
      "[1 0 0 0 1 1 1 1 1 1 1 1 1]\n"
     ]
    }
   ],
   "source": [
    "print(t_test)"
   ]
  },
  {
   "cell_type": "code",
   "execution_count": 32,
   "id": "e0f01e07",
   "metadata": {},
   "outputs": [],
   "source": [
    "i_train, i_test, t_train, t_test = train_test_split(fish_data, fish_target, test_size=0.25, stratify=fish_target, random_state=42)"
   ]
  },
  {
   "cell_type": "code",
   "execution_count": 33,
   "id": "853b3022",
   "metadata": {},
   "outputs": [
    {
     "name": "stdout",
     "output_type": "stream",
     "text": [
      "[0 0 1 0 1 0 1 1 1 1 1 1 1]\n"
     ]
    }
   ],
   "source": [
    "print(t_test)"
   ]
  },
  {
   "cell_type": "code",
   "execution_count": 36,
   "id": "97bd44aa",
   "metadata": {},
   "outputs": [
    {
     "data": {
      "text/plain": [
       "1.0"
      ]
     },
     "execution_count": 36,
     "metadata": {},
     "output_type": "execute_result"
    }
   ],
   "source": [
    "from sklearn.neighbors import KNeighborsClassifier\n",
    "kn = KNeighborsClassifier()\n",
    "kn.fit(i_train, t_train)\n",
    "kn.score(i_test, t_test)"
   ]
  },
  {
   "cell_type": "code",
   "execution_count": 34,
   "id": "7a9cb262",
   "metadata": {},
   "outputs": [
    {
     "data": {
      "image/png": "[encoded data removed]",
      "text/plain": [
       "<Figure size 432x288 with 1 Axes>"
      ]
     },
     "metadata": {
      "needs_background": "light"
     },
     "output_type": "display_data"
    }
   ],
   "source": [
    "plt.scatter(i_train[:,0], i_train[:,1])\n",
    "plt.scatter(25, 150, marker='^')\n",
    "plt.xlabel('length')\n",
    "plt.ylabel('weight')\n",
    "plt.show()"
   ]
  },
  {
   "cell_type": "code",
   "execution_count": 37,
   "id": "1c347956",
   "metadata": {},
   "outputs": [
    {
     "data": {
      "image/png": "[encoded data removed]",
      "text/plain": [
       "<Figure size 432x288 with 1 Axes>"
      ]
     },
     "metadata": {
      "needs_background": "light"
     },
     "output_type": "display_data"
    }
   ],
   "source": [
    "distances, indexes = kn.kneighbors([[25, 150]])\n",
    "\n",
    "plt.scatter(i_train[:, 0], i_train[:, 1])\n",
    "plt.scatter(25, 150, marker='^')\n",
    "plt.scatter(i_train[indexes, 0], i_train[indexes, 1], marker='D')\n",
    "plt.xlabel('length')\n",
    "plt.ylabel('weight')\n",
    "plt.show()"
   ]
  },
  {
   "cell_type": "code",
   "execution_count": 38,
   "id": "873f90d5",
   "metadata": {},
   "outputs": [
    {
     "name": "stdout",
     "output_type": "stream",
     "text": [
      "[[ 92.00086956 130.48375378 130.73859415 138.32150953 138.39320793]]\n"
     ]
    }
   ],
   "source": [
    "print(distances)"
   ]
  },
  {
   "cell_type": "code",
   "execution_count": 39,
   "id": "4d66f5e4",
   "metadata": {},
   "outputs": [
    {
     "data": {
      "image/png": "[encoded data removed]",
      "text/plain": [
       "<Figure size 432x288 with 1 Axes>"
      ]
     },
     "metadata": {
      "needs_background": "light"
     },
     "output_type": "display_data"
    }
   ],
   "source": [
    "plt.scatter(i_train[:, 0], i_train[:, 1])\n",
    "plt.scatter(25, 150, marker='^')\n",
    "plt.scatter(i_train[indexes, 0], i_train[indexes, 1], marker='D')\n",
    "plt.xlim((0, 1000))\n",
    "plt.xlabel('length')\n",
    "plt.ylabel('weight')\n",
    "plt.show()"
   ]
  },
  {
   "cell_type": "code",
   "execution_count": null,
   "id": "4d98c04d",
   "metadata": {},
   "outputs": [],
   "source": []
  },
  {
   "cell_type": "code",
   "execution_count": null,
   "id": "88719aa4",
   "metadata": {},
   "outputs": [],
   "source": []
  },
  {
   "cell_type": "markdown",
   "id": "28792801",
   "metadata": {},
   "source": [
    "### 쉽게 합치는 방법"
   ]
  },
  {
   "cell_type": "code",
   "execution_count": 10,
   "id": "689d8451",
   "metadata": {},
   "outputs": [
    {
     "data": {
      "text/plain": [
       "array([[  23.2,  242. ],\n",
       "       [  24. ,  290. ],\n",
       "       [  23.9,  340. ],\n",
       "       [  26.3,  363. ],\n",
       "       [  26.5,  430. ],\n",
       "       [  26.8,  450. ],\n",
       "       [  26.8,  500. ],\n",
       "       [  27.6,  390. ],\n",
       "       [  27.6,  450. ],\n",
       "       [  28.5,  500. ],\n",
       "       [  28.4,  475. ],\n",
       "       [  28.7,  500. ],\n",
       "       [  29.1,  500. ],\n",
       "       [  29.5,  340. ],\n",
       "       [  29.4,  600. ],\n",
       "       [  29.4,  600. ],\n",
       "       [  30.4,  700. ],\n",
       "       [  30.4,  700. ],\n",
       "       [  30.9,  610. ],\n",
       "       [  31. ,  650. ],\n",
       "       [  31.3,  575. ],\n",
       "       [  31.4,  685. ],\n",
       "       [  31.5,  620. ],\n",
       "       [  31.8,  680. ],\n",
       "       [  31.9,  700. ],\n",
       "       [  31.8,  725. ],\n",
       "       [  32. ,  720. ],\n",
       "       [  32.7,  714. ],\n",
       "       [  32.8,  850. ],\n",
       "       [  33.5, 1000. ],\n",
       "       [  35. ,  920. ],\n",
       "       [  35. ,  955. ],\n",
       "       [  36.2,  925. ],\n",
       "       [  37.4,  975. ],\n",
       "       [  38. ,  950. ],\n",
       "       [   9.3,    6.7],\n",
       "       [  10. ,    7.5],\n",
       "       [  10.1,    7. ],\n",
       "       [  10.4,    9.7],\n",
       "       [  10.7,    9.8],\n",
       "       [  10.8,    8.7],\n",
       "       [  11.3,   10. ],\n",
       "       [  11.3,    9.9],\n",
       "       [  11.4,    9.8],\n",
       "       [  11.5,   12.2],\n",
       "       [  11.7,   13.4],\n",
       "       [  12.1,   12.2],\n",
       "       [  13.2,   19.7],\n",
       "       [  13.8,   19.9]])"
      ]
     },
     "execution_count": 10,
     "metadata": {},
     "output_type": "execute_result"
    }
   ],
   "source": [
    "fish_data = np.column_stack((length, weight))\n",
    "# np.columns_stack 은 두 리스트를 (n, 2) 형태의 2차원 배열로 생성\n",
    "fish_data"
   ]
  },
  {
   "cell_type": "code",
   "execution_count": 11,
   "id": "07cabd40",
   "metadata": {},
   "outputs": [
    {
     "data": {
      "text/plain": [
       "array([1., 1., 1., 1., 1., 1., 1., 1., 1., 1., 1., 1., 1., 1., 1., 1., 1.,\n",
       "       1., 1., 1., 1., 1., 1., 1., 1., 1., 1., 1., 1., 1., 1., 1., 1., 1.,\n",
       "       1., 0., 0., 0., 0., 0., 0., 0., 0., 0., 0., 0., 0., 0., 0.])"
      ]
     },
     "execution_count": 11,
     "metadata": {},
     "output_type": "execute_result"
    }
   ],
   "source": [
    "fish_target = np.concatenate((np.ones(35), np.zeros(14)))\n",
    "# np.concatenate 는 두 리스트를 (n, ) 의 형태로 생성\n",
    "fish_target"
   ]
  },
  {
   "cell_type": "code",
   "execution_count": 45,
   "id": "d31e9bd3",
   "metadata": {},
   "outputs": [
    {
     "name": "stdout",
     "output_type": "stream",
     "text": [
      "[[  23.2  242. ]\n",
      " [  24.   290. ]\n",
      " [  23.9  340. ]\n",
      " [  26.3  363. ]\n",
      " [  26.5  430. ]\n",
      " [  26.8  450. ]\n",
      " [  26.8  500. ]\n",
      " [  27.6  390. ]\n",
      " [  27.6  450. ]\n",
      " [  28.5  500. ]\n",
      " [  28.4  475. ]\n",
      " [  28.7  500. ]\n",
      " [  29.1  500. ]\n",
      " [  29.5  340. ]\n",
      " [  29.4  600. ]\n",
      " [  29.4  600. ]\n",
      " [  30.4  700. ]\n",
      " [  30.4  700. ]\n",
      " [  30.9  610. ]\n",
      " [  31.   650. ]\n",
      " [  31.3  575. ]\n",
      " [  31.4  685. ]\n",
      " [  31.5  620. ]\n",
      " [  31.8  680. ]\n",
      " [  31.9  700. ]\n",
      " [  31.8  725. ]\n",
      " [  32.   720. ]\n",
      " [  32.7  714. ]\n",
      " [  32.8  850. ]\n",
      " [  33.5 1000. ]\n",
      " [  35.   920. ]\n",
      " [  35.   955. ]\n",
      " [  36.2  925. ]\n",
      " [  37.4  975. ]\n",
      " [  38.   950. ]\n",
      " [   9.3    6.7]\n",
      " [  10.     7.5]\n",
      " [  10.1    7. ]\n",
      " [  10.4    9.7]\n",
      " [  10.7    9.8]\n",
      " [  10.8    8.7]\n",
      " [  11.3   10. ]\n",
      " [  11.3    9.9]\n",
      " [  11.4    9.8]\n",
      " [  11.5   12.2]\n",
      " [  11.7   13.4]\n",
      " [  12.1   12.2]\n",
      " [  13.2   19.7]\n",
      " [  13.8   19.9]]\n"
     ]
    }
   ],
   "source": [
    "print(fish_data)"
   ]
  },
  {
   "cell_type": "code",
   "execution_count": 46,
   "id": "d821f660",
   "metadata": {},
   "outputs": [
    {
     "name": "stdout",
     "output_type": "stream",
     "text": [
      "[1. 1. 1. 1. 1. 1. 1. 1. 1. 1. 1. 1. 1. 1. 1. 1. 1. 1. 1. 1. 1. 1. 1. 1.\n",
      " 1. 1. 1. 1. 1. 1. 1. 1. 1. 1. 1. 0. 0. 0. 0. 0. 0. 0. 0. 0. 0. 0. 0. 0.\n",
      " 0.]\n"
     ]
    }
   ],
   "source": [
    "print(fish_target)"
   ]
  },
  {
   "cell_type": "code",
   "execution_count": 12,
   "id": "554f6864",
   "metadata": {},
   "outputs": [
    {
     "data": {
      "text/plain": [
       "(49, 2)"
      ]
     },
     "execution_count": 12,
     "metadata": {},
     "output_type": "execute_result"
    }
   ],
   "source": [
    "fish_data.shape"
   ]
  },
  {
   "cell_type": "markdown",
   "id": "3dd3e2ae",
   "metadata": {},
   "source": [
    "### K-최근접 이웃 알고리즘"
   ]
  },
  {
   "cell_type": "code",
   "execution_count": 13,
   "id": "0e1d4892",
   "metadata": {},
   "outputs": [],
   "source": [
    "from sklearn.neighbors import KNeighborsClassifier\n",
    "from sklearn.model_selection import train_test_split"
   ]
  },
  {
   "cell_type": "code",
   "execution_count": 14,
   "id": "64d3eb19",
   "metadata": {},
   "outputs": [
    {
     "data": {
      "text/plain": [
       "KNeighborsClassifier()"
      ]
     },
     "execution_count": 14,
     "metadata": {},
     "output_type": "execute_result"
    }
   ],
   "source": [
    "kn = KNeighborsClassifier(n_neighbors=5)\n",
    "# n_neighbors의 default 값은 5\n",
    "# n_neighbors는 새로운 데이터 입력 시 근접하는 데이터를 참고하는 개수\n",
    "i_train, i_test, t_train, t_test = train_test_split(fish_data, fish_target, test_size=0.3)\n",
    "kn.fit(i_train, t_train)"
   ]
  },
  {
   "cell_type": "code",
   "execution_count": 15,
   "id": "b7e891ee",
   "metadata": {},
   "outputs": [
    {
     "data": {
      "text/plain": [
       "array([[  11.7,   13.4],\n",
       "       [  26.5,  430. ],\n",
       "       [  38. ,  950. ],\n",
       "       [  30.4,  700. ],\n",
       "       [  31.5,  620. ],\n",
       "       [  35. ,  955. ],\n",
       "       [  29.5,  340. ],\n",
       "       [  23.9,  340. ],\n",
       "       [  29.1,  500. ],\n",
       "       [  26.3,  363. ],\n",
       "       [   9.3,    6.7],\n",
       "       [  10.4,    9.7],\n",
       "       [  32. ,  720. ],\n",
       "       [  10. ,    7.5],\n",
       "       [  31. ,  650. ],\n",
       "       [  11.5,   12.2],\n",
       "       [  28.4,  475. ],\n",
       "       [  29.4,  600. ],\n",
       "       [  32.7,  714. ],\n",
       "       [  31.8,  725. ],\n",
       "       [  36.2,  925. ],\n",
       "       [  33.5, 1000. ],\n",
       "       [  28.7,  500. ],\n",
       "       [  31.4,  685. ],\n",
       "       [  37.4,  975. ],\n",
       "       [  10.7,    9.8],\n",
       "       [  11.3,    9.9],\n",
       "       [  12.1,   12.2],\n",
       "       [  30.4,  700. ],\n",
       "       [  35. ,  920. ],\n",
       "       [  32.8,  850. ],\n",
       "       [  29.4,  600. ],\n",
       "       [  27.6,  450. ],\n",
       "       [  13.2,   19.7]])"
      ]
     },
     "execution_count": 15,
     "metadata": {},
     "output_type": "execute_result"
    }
   ],
   "source": [
    "i_train"
   ]
  },
  {
   "cell_type": "code",
   "execution_count": 16,
   "id": "33991396",
   "metadata": {},
   "outputs": [
    {
     "data": {
      "text/plain": [
       "array([0., 1., 1., 1., 1., 1., 1., 1., 1., 1., 0., 0., 1., 0., 1., 0., 1.,\n",
       "       1., 1., 1., 1., 1., 1., 1., 1., 0., 0., 0., 1., 1., 1., 1., 1., 0.])"
      ]
     },
     "execution_count": 16,
     "metadata": {},
     "output_type": "execute_result"
    }
   ],
   "source": [
    "t_train"
   ]
  },
  {
   "cell_type": "code",
   "execution_count": 17,
   "id": "70d20a92",
   "metadata": {
    "scrolled": true
   },
   "outputs": [
    {
     "data": {
      "image/png": "[encoded data removed]",
      "text/plain": [
       "<Figure size 432x288 with 1 Axes>"
      ]
     },
     "metadata": {
      "needs_background": "light"
     },
     "output_type": "display_data"
    }
   ],
   "source": [
    "plt.scatter(i_train[:,0], i_train[:,1])\n",
    "plt.scatter(i_test[:,0], i_test[:,1])\n",
    "plt.title('Fish')\n",
    "plt.xlabel('length')\n",
    "plt.ylabel('weight')\n",
    "plt.show()"
   ]
  },
  {
   "cell_type": "code",
   "execution_count": 18,
   "id": "a42bd6fa",
   "metadata": {},
   "outputs": [
    {
     "data": {
      "text/plain": [
       "array([11.7, 26.5, 38. , 30.4, 31.5, 35. , 29.5, 23.9, 29.1, 26.3,  9.3,\n",
       "       10.4, 32. , 10. , 31. , 11.5, 28.4, 29.4, 32.7, 31.8, 36.2, 33.5,\n",
       "       28.7, 31.4, 37.4, 10.7, 11.3, 12.1, 30.4, 35. , 32.8, 29.4, 27.6,\n",
       "       13.2])"
      ]
     },
     "execution_count": 18,
     "metadata": {},
     "output_type": "execute_result"
    }
   ],
   "source": [
    "d_train[:, 0]"
   ]
  },
  {
   "cell_type": "code",
   "execution_count": 19,
   "id": "a3efa668",
   "metadata": {},
   "outputs": [
    {
     "data": {
      "text/plain": [
       "array([0., 1., 1., 1., 1., 1., 1., 1., 1., 1., 0., 0., 1., 0., 1., 0., 1.,\n",
       "       1., 1., 1., 1., 1., 1., 1., 1., 0., 0., 0., 1., 1., 1., 1., 1., 0.])"
      ]
     },
     "execution_count": 19,
     "metadata": {},
     "output_type": "execute_result"
    }
   ],
   "source": [
    "t_train"
   ]
  },
  {
   "cell_type": "code",
   "execution_count": 20,
   "id": "f1121dd4",
   "metadata": {},
   "outputs": [
    {
     "data": {
      "text/plain": [
       "array([[  11.7,   13.4],\n",
       "       [  26.5,  430. ],\n",
       "       [  38. ,  950. ],\n",
       "       [  30.4,  700. ],\n",
       "       [  31.5,  620. ],\n",
       "       [  35. ,  955. ],\n",
       "       [  29.5,  340. ],\n",
       "       [  23.9,  340. ],\n",
       "       [  29.1,  500. ],\n",
       "       [  26.3,  363. ],\n",
       "       [   9.3,    6.7],\n",
       "       [  10.4,    9.7],\n",
       "       [  32. ,  720. ],\n",
       "       [  10. ,    7.5],\n",
       "       [  31. ,  650. ],\n",
       "       [  11.5,   12.2],\n",
       "       [  28.4,  475. ],\n",
       "       [  29.4,  600. ],\n",
       "       [  32.7,  714. ],\n",
       "       [  31.8,  725. ],\n",
       "       [  36.2,  925. ],\n",
       "       [  33.5, 1000. ],\n",
       "       [  28.7,  500. ],\n",
       "       [  31.4,  685. ],\n",
       "       [  37.4,  975. ],\n",
       "       [  10.7,    9.8],\n",
       "       [  11.3,    9.9],\n",
       "       [  12.1,   12.2],\n",
       "       [  30.4,  700. ],\n",
       "       [  35. ,  920. ],\n",
       "       [  32.8,  850. ],\n",
       "       [  29.4,  600. ],\n",
       "       [  27.6,  450. ],\n",
       "       [  13.2,   19.7]])"
      ]
     },
     "execution_count": 20,
     "metadata": {},
     "output_type": "execute_result"
    }
   ],
   "source": [
    "d_train\n",
    "# numpy 없이도 2차원 배열을 구성할 수는 있으나 shape은 적용되지 않음."
   ]
  },
  {
   "cell_type": "code",
   "execution_count": 21,
   "id": "93e5eb20",
   "metadata": {},
   "outputs": [
    {
     "data": {
      "text/plain": [
       "1.0"
      ]
     },
     "execution_count": 21,
     "metadata": {},
     "output_type": "execute_result"
    }
   ],
   "source": [
    "kn.score(d_train, t_train)"
   ]
  },
  {
   "cell_type": "code",
   "execution_count": 22,
   "id": "5f442990",
   "metadata": {},
   "outputs": [
    {
     "data": {
      "text/plain": [
       "1.0"
      ]
     },
     "execution_count": 22,
     "metadata": {},
     "output_type": "execute_result"
    }
   ],
   "source": [
    "kn.score(d_test, t_test)"
   ]
  },
  {
   "cell_type": "markdown",
   "id": "de3f31be",
   "metadata": {},
   "source": [
    "### 데이터 섞기 (sklearn 함수 없이)"
   ]
  },
  {
   "cell_type": "code",
   "execution_count": 23,
   "id": "7ef44f10",
   "metadata": {},
   "outputs": [
    {
     "data": {
      "text/plain": [
       "array([13, 45, 47, 44, 17, 27, 26, 25, 31, 19, 12,  4, 34,  8,  3,  6, 40,\n",
       "       41, 46, 15,  9, 16, 24, 33, 30,  0, 43, 32,  5, 29, 11, 36,  1, 21,\n",
       "        2, 37, 35, 23, 39, 10, 22, 18, 48, 20,  7, 42, 14, 28, 38])"
      ]
     },
     "execution_count": 23,
     "metadata": {},
     "output_type": "execute_result"
    }
   ],
   "source": [
    "np.random.seed(42) # 일정한 결과를 얻기 위해 랜덤 시드 지정\n",
    "index = np.arange(49)\n",
    "np.random.shuffle(index)\n",
    "index"
   ]
  },
  {
   "cell_type": "code",
   "execution_count": 24,
   "id": "b556c20c",
   "metadata": {},
   "outputs": [],
   "source": [
    "train_input = fish_data[index[:35]]\n",
    "train_target = fish_target[index[:35]]\n",
    "test_input = fish_data[index[35:]]\n",
    "test_target = fish_target[index[35:]]"
   ]
  },
  {
   "cell_type": "code",
   "execution_count": 25,
   "id": "6d1a9484",
   "metadata": {},
   "outputs": [
    {
     "data": {
      "text/plain": [
       "(35, 2)"
      ]
     },
     "execution_count": 25,
     "metadata": {},
     "output_type": "execute_result"
    }
   ],
   "source": [
    "train_input.shape"
   ]
  },
  {
   "cell_type": "code",
   "execution_count": 26,
   "id": "385ee03f",
   "metadata": {},
   "outputs": [
    {
     "data": {
      "text/plain": [
       "(14, 2)"
      ]
     },
     "execution_count": 26,
     "metadata": {},
     "output_type": "execute_result"
    }
   ],
   "source": [
    "test_input.shape"
   ]
  },
  {
   "cell_type": "code",
   "execution_count": 27,
   "id": "17460967",
   "metadata": {},
   "outputs": [
    {
     "data": {
      "image/png": "[encoded data removed]",
      "text/plain": [
       "<Figure size 432x288 with 1 Axes>"
      ]
     },
     "metadata": {
      "needs_background": "light"
     },
     "output_type": "display_data"
    }
   ],
   "source": [
    "plt.scatter(train_input[:,0], train_input[:,1])\n",
    "plt.scatter(25, 150, marker='^')\n",
    "plt.xlabel('length')\n",
    "plt.ylabel('weight')\n",
    "plt.show()"
   ]
  },
  {
   "cell_type": "code",
   "execution_count": 28,
   "id": "9f86d2c5",
   "metadata": {},
   "outputs": [
    {
     "name": "stdout",
     "output_type": "stream",
     "text": [
      "[0.]\n"
     ]
    }
   ],
   "source": [
    "kn = KNeighborsClassifier()\n",
    "kn.fit(train_input, train_target)\n",
    "kn.score(test_input, test_target)\n",
    "\n",
    "print(kn.predict([[25, 150]]))"
   ]
  },
  {
   "cell_type": "code",
   "execution_count": 29,
   "id": "29545319",
   "metadata": {},
   "outputs": [],
   "source": [
    "distance, indexes = kn.kneighbors([[25,150]]) # 가장 가까운 샘플 5개의 거리와 인덱스를 출력"
   ]
  },
  {
   "cell_type": "code",
   "execution_count": 30,
   "id": "b77b8493",
   "metadata": {},
   "outputs": [
    {
     "data": {
      "text/plain": [
       "array([[25,  2,  1, 18,  3]], dtype=int64)"
      ]
     },
     "execution_count": 30,
     "metadata": {},
     "output_type": "execute_result"
    }
   ],
   "source": [
    "indexes"
   ]
  },
  {
   "cell_type": "code",
   "execution_count": 31,
   "id": "3e29bdb9",
   "metadata": {},
   "outputs": [
    {
     "data": {
      "image/png": "[encoded data removed]",
      "text/plain": [
       "<Figure size 432x288 with 1 Axes>"
      ]
     },
     "metadata": {
      "needs_background": "light"
     },
     "output_type": "display_data"
    }
   ],
   "source": [
    "plt.scatter(train_input[:,0], train_input[:,1])\n",
    "plt.scatter(25, 150, marker='^')\n",
    "plt.scatter(train_input[indexes,0], train_input[indexes,1], marker='D')\n",
    "plt.xlabel('length')\n",
    "plt.ylabel('weight')\n",
    "plt.show()"
   ]
  },
  {
   "cell_type": "code",
   "execution_count": 32,
   "id": "542e8714",
   "metadata": {},
   "outputs": [
    {
     "name": "stdout",
     "output_type": "stream",
     "text": [
      "[[[ 23.2 242. ]\n",
      "  [ 13.2  19.7]\n",
      "  [ 11.7  13.4]\n",
      "  [ 12.1  12.2]\n",
      "  [ 11.5  12.2]]]\n"
     ]
    }
   ],
   "source": [
    "print(train_input[indexes])"
   ]
  },
  {
   "cell_type": "code",
   "execution_count": 33,
   "id": "07de0d75",
   "metadata": {},
   "outputs": [
    {
     "name": "stdout",
     "output_type": "stream",
     "text": [
      "[[1. 0. 0. 0. 0.]]\n"
     ]
    }
   ],
   "source": [
    "print(train_target[indexes])"
   ]
  },
  {
   "cell_type": "code",
   "execution_count": 34,
   "id": "208f0654",
   "metadata": {},
   "outputs": [
    {
     "name": "stdout",
     "output_type": "stream",
     "text": [
      "\n"
     ]
    }
   ],
   "source": [
    "print()"
   ]
  },
  {
   "cell_type": "code",
   "execution_count": 35,
   "id": "0a07b44f",
   "metadata": {},
   "outputs": [
    {
     "name": "stdout",
     "output_type": "stream",
     "text": [
      "[[ 92.01760701 130.83321444 137.24594712 138.40249275 138.45970533]]\n"
     ]
    }
   ],
   "source": [
    "print(distance)"
   ]
  },
  {
   "cell_type": "markdown",
   "id": "186adc30",
   "metadata": {},
   "source": [
    "### 스케일링 (데이터 전처리 data preprocessing)"
   ]
  },
  {
   "cell_type": "code",
   "execution_count": 36,
   "id": "99230dda",
   "metadata": {},
   "outputs": [],
   "source": [
    "mean = np.mean(train_input, axis=0)\n",
    "std = np.std(train_input, axis=0)"
   ]
  },
  {
   "cell_type": "code",
   "execution_count": 37,
   "id": "3c6af327",
   "metadata": {},
   "outputs": [],
   "source": [
    "train_scaled = (train_input - mean) / std\n",
    "# 행렬에 사칙연산이 모두 적용되는 넘파이 기능을 브로드캐스팅(Broadcasting) 이라 함"
   ]
  },
  {
   "cell_type": "code",
   "execution_count": 38,
   "id": "8d47f706",
   "metadata": {},
   "outputs": [
    {
     "data": {
      "text/plain": [
       "array([[ 0.40987871, -0.44317902],\n",
       "       [-1.65776856, -1.45284109],\n",
       "       [-1.48352862, -1.43336506],\n",
       "       [-1.68100055, -1.45655081],\n",
       "       [ 0.51442268,  0.66973691],\n",
       "       [ 0.78159058,  0.71301697],\n",
       "       [ 0.70027861,  0.73156557],\n",
       "       [ 0.67704662,  0.74702274],\n",
       "       [ 1.04875849,  1.45805236],\n",
       "       [ 0.58411865,  0.51516525],\n",
       "       [ 0.36341473,  0.05145028],\n",
       "       [ 0.06139884, -0.16495004],\n",
       "       [ 1.39723837,  1.4425952 ],\n",
       "       [ 0.18917479, -0.10312138],\n",
       "       [ 0.03816684, -0.37207606],\n",
       "       [ 0.09624682,  0.05145028],\n",
       "       [-1.76231252, -1.46737083],\n",
       "       [-1.70423254, -1.46335196],\n",
       "       [-1.61130458, -1.45655081],\n",
       "       [ 0.39826272,  0.3605936 ],\n",
       "       [ 0.29371875,  0.05145028],\n",
       "       [ 0.51442268,  0.66973691],\n",
       "       [ 0.68866262,  0.66973691],\n",
       "       [ 1.32754239,  1.51988103],\n",
       "       [ 1.04875849,  1.3498522 ],\n",
       "       [-0.32192903, -0.74613947],\n",
       "       [-1.69261655, -1.46397025],\n",
       "       [ 1.18815044,  1.36530937],\n",
       "       [ 0.09624682, -0.10312138],\n",
       "       [ 0.87451855,  1.59716686],\n",
       "       [ 0.31695075,  0.05145028],\n",
       "       [-1.85524049, -1.47108055],\n",
       "       [-0.22900106, -0.59775068],\n",
       "       [ 0.63058264,  0.62336541],\n",
       "       [-0.24061706, -0.44317902]])"
      ]
     },
     "execution_count": 38,
     "metadata": {},
     "output_type": "execute_result"
    }
   ],
   "source": [
    "train_scaled"
   ]
  },
  {
   "cell_type": "code",
   "execution_count": 39,
   "id": "79551e68",
   "metadata": {},
   "outputs": [],
   "source": [
    "new = ([25,150] - mean) / std"
   ]
  },
  {
   "cell_type": "code",
   "execution_count": 40,
   "id": "b1958b3f",
   "metadata": {},
   "outputs": [
    {
     "data": {
      "image/png": "[encoded data removed]",
      "text/plain": [
       "<Figure size 432x288 with 1 Axes>"
      ]
     },
     "metadata": {
      "needs_background": "light"
     },
     "output_type": "display_data"
    }
   ],
   "source": [
    "plt.scatter(train_scaled[:,0], train_scaled[:,1])\n",
    "#plt.scatter(25, 150, marker='^') # 해당 샘플도 스케일링을 해줘야 됨.\n",
    "plt.scatter(new[0], new[1], marker='^')\n",
    "plt.xlabel('length')\n",
    "plt.ylabel('weight')\n",
    "plt.show()"
   ]
  },
  {
   "cell_type": "code",
   "execution_count": 41,
   "id": "e11a8157",
   "metadata": {},
   "outputs": [
    {
     "data": {
      "text/plain": [
       "KNeighborsClassifier()"
      ]
     },
     "execution_count": 41,
     "metadata": {},
     "output_type": "execute_result"
    }
   ],
   "source": [
    "kn.fit(train_scaled, train_target)"
   ]
  },
  {
   "cell_type": "code",
   "execution_count": 42,
   "id": "ef10a465",
   "metadata": {},
   "outputs": [
    {
     "data": {
      "text/plain": [
       "1.0"
      ]
     },
     "execution_count": 42,
     "metadata": {},
     "output_type": "execute_result"
    }
   ],
   "source": [
    "test_scaled = (test_input - mean) / std\n",
    "kn.score(test_scaled, test_target)"
   ]
  },
  {
   "cell_type": "code",
   "execution_count": 43,
   "id": "f08024ec",
   "metadata": {},
   "outputs": [
    {
     "data": {
      "text/plain": [
       "array([1.])"
      ]
     },
     "execution_count": 43,
     "metadata": {},
     "output_type": "execute_result"
    }
   ],
   "source": [
    "kn.predict([new])"
   ]
  },
  {
   "cell_type": "code",
   "execution_count": 44,
   "id": "7fba8fb8",
   "metadata": {},
   "outputs": [
    {
     "data": {
      "image/png": "[encoded data removed]",
      "text/plain": [
       "<Figure size 360x360 with 1 Axes>"
      ]
     },
     "metadata": {
      "needs_background": "light"
     },
     "output_type": "display_data"
    }
   ],
   "source": [
    "distances, indexes = kn.kneighbors([new])\n",
    "plt.figure(figsize=(5,5))\n",
    "plt.scatter(train_scaled[:,0], train_scaled[:,1])\n",
    "plt.scatter(new[0], new[1], marker='^')\n",
    "plt.scatter(train_scaled[indexes,0], train_scaled[indexes,1], marker='D')\n",
    "plt.xlabel('length')\n",
    "plt.ylabel('weight')\n",
    "plt.show()"
   ]
  }
 ],
 "metadata": {
  "kernelspec": {
   "display_name": "Python 3 (ipykernel)",
   "language": "python",
   "name": "python3"
  },
  "language_info": {
   "codemirror_mode": {
    "name": "ipython",
    "version": 3
   },
   "file_extension": ".py",
   "mimetype": "text/x-python",
   "name": "python",
   "nbconvert_exporter": "python",
   "pygments_lexer": "ipython3",
   "version": "3.9.12"
  }
 },
 "nbformat": 4,
 "nbformat_minor": 5
}
