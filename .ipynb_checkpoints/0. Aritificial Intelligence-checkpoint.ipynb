{
 "cells": [
  {
   "cell_type": "markdown",
   "id": "7cba4ecd-c64d-484b-901f-7099b2597ad4",
   "metadata": {},
   "source": [
    "# 인공지능\n",
    "**인공지능(Aritificial Intelligence)** 란?<br>\n",
    "사람처럼 학습하고 추론할 수 있는 **지능을 가진 컴퓨터 시스템 기술** 이라고 말할 수 있다.\n",
    "\n",
    "1943년 — 워런 매컬러(Warren McCulloch)와 윝터 피츠(Walter Pitts)가 최초로 노의 뉴런 개념을 발표\r",
    " 1950년 — 앨런 튜링(Alan Turing)이 인공지능이 사람과 같은 지능을 가졌는지 테스트할 수 있는** 튜링 테스트(Turing Test**)를 발표\n",
    " 1957년 — 프랑크 로젠블라트(Frank Rosenblatt)가 로지스틱 회귀의 초기버전으로 볼 수 있**는 퍼셉트론(Perceptro**n)을 표 "
   ]
  },
  {
   "attachments": {},
   "cell_type": "markdown",
   "id": "5e2fdfe1-5b13-47db-bbb8-e340b77ad4fe",
   "metadata": {},
   "source": [
    "## 1. 머신러닝과 딥러닝\n",
    "\n",
    "### 1-1. 머신러닝 (Machine Learning)\n",
    " 머신러닝은 규칙을 일일이 프로그래밍하지 않아도 자동으로 데이터에서 규칙을 학습하는 알고리즘을 말한다.<br>\n",
    "\r\n",
    " 머신러닝은 통계학에서 유래된 알고리즘이 많으며, 통계학과 컴퓨터 과학 분야가 상호 작용하고 있다. 대표적인 오픈소스 통계 소프트웨어인 R에도 다양한 머신러알고리즘이 구현되어 있다. <br>다."
   ]
  },
  {
   "cell_type": "code",
   "execution_count": null,
   "id": "06965e61-9c62-4530-9b4e-f0c96aaef122",
   "metadata": {},
   "outputs": [],
   "source": []
  }
 ],
 "metadata": {
  "kernelspec": {
   "display_name": "Python 3 (ipykernel)",
   "language": "python",
   "name": "python3"
  },
  "language_info": {
   "codemirror_mode": {
    "name": "ipython",
    "version": 3
   },
   "file_extension": ".py",
   "mimetype": "text/x-python",
   "name": "python",
   "nbconvert_exporter": "python",
   "pygments_lexer": "ipython3",
   "version": "3.9.19"
  }
 },
 "nbformat": 4,
 "nbformat_minor": 5
}
