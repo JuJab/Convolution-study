{
 "cells": [
  {
   "cell_type": "markdown",
   "id": "7cba4ecd-c64d-484b-901f-7099b2597ad4",
   "metadata": {},
   "source": [
    "# 인공지능\n",
    "**인공지능(Aritificial Intelligence)** 란?<br>\n",
    "사람처럼 학습하고 추론할 수 있는 **지능을 가진 컴퓨터 시스템 기술** 이라고 말할 수 있다.\n",
    "\n",
    "1943년 — 워런 매컬러(Warren McCulloch)와 윝터 피츠(Walter Pitts)가 최초로 노의 뉴런 개념을 발표\r",
    " 1950년 — 앨런 튜링(Alan Turing)이 인공지능이 사람과 같은 지능을 가졌는지 테스트할 수 있는 튜링 테스트(Turing Test)를 발표\n",
    " 1957년 — 프랑크 로젠블라트(Frank Rosenblatt)가 로지스틱 회귀의 초기버전으로 볼 수 있는 퍼셉트론(Perceptron)을 표 "
   ]
  },
  {
   "attachments": {},
   "cell_type": "markdown",
   "id": "5e2fdfe1-5b13-47db-bbb8-e340b77ad4fe",
   "metadata": {},
   "source": [
    "## 1. 머신러닝과 딥러닝\n",
    "\n",
    "### 1-1. 머신러닝 (Machine Learning)\n",
    " 머신러닝은 규칙을 일일이 프로그래밍하지 않아도 자동으로 데이터에서 규칙을 학습하는 알고리즘을 말한다.<br>\n",
    "\r\n",
    " 머신러닝은 통계학에서 유래된 알고리즘이 많으며, 통계학과 컴퓨터 과학 분야가 상호 작용하고 있다. 대표적인 오픈소스 통계 소프트웨어인 R에도 다양한 머신러알고리즘이 구현되어 있다<br>\n",
    "\n",
    " <img src='img/scikit.png' width='250'/>\n",
    "\n",
    " 머신러닝의 발달은 컴퓨터 과학 분야가 이끄는 경우가 많은데, 여기서 대표적인 머신러닝 라이브러리가 <span style=\"color:blue\">**사이킷런(Scikit-Learn)**</span> 이다.<br>\r",
    "  사이킷런은 파이썬 API를 사용하는 라이브러리로, 어떤 머신러닝 라이브러리보다도 큰 인기를 끌고 있다.."
   ]
  },
  {
   "cell_type": "markdown",
   "id": "2d58c02b-632f-48f6-bcce-0b3b813b5932",
   "metadata": {},
   "source": [
    "## 1-2. 딥러닝 (Deep Learning)\n",
    " 많은 머신러닝 알고리즘이 존재하는데, 그 중에 인공신경망(Aritificial Neural Network)을 기반으로 한 방법들을 통칭하여 <span style=\"color:blue\">딥러닝(Deep-Learning)</span>이라 부른다.\n",
    " \n",
    "\r\n",
    " 1998년 얀 르쿤(Yann Lecun)이 신경망 모델을 만들어 손글씨 숫자 인식에 성공한다. 이 신경망의 이름을 Net-5라고 하며 최초의 합성곱 신경망이  다.\r\n",
    " 이후 2012년에 제프리 힌턴(Geffrey Hinton)의 팀이 AlexNet 이라는 합성곱 신경망을 사용하여 우승하였다. 이후 이미지 분류 작업에 합성곱 신경망이 널리 사용되기 시작\n",
    " 다.\r\n",
    "\r\n",
    " 또한 유명한 이야기로 2016년 알파고와 이세돌의 대국을 빼놓을 수 없다. 이 사건은 대중들에게 딥러닝의 기억을 강렬하게   남겼다.\r\n",
    "\r\n",
    " 딥러닝은 복잡한 알고리즘을 훈련할 수 있는 풍부한 데이터와 컴퓨터 성능의 향상, 그리고 혁신적인 알고리즘 개발로 엄청난 발전을 이루었다. 최근도 딥러닝의 발전은 매우 긍정적이고 지속 가  능해 보인다."
   ]
  },
  {
   "cell_type": "markdown",
   "id": "5268f74d-3112-44e3-a051-36876db54921",
   "metadata": {},
   "source": [
    " 구글은 2015년 딥러닝 라이브러리인 텐서플로(TensorFlow)를 오픈소스로 공개하였다. 텐서플로는 공개와 동시에 큰 인기를 얻었고 이를 의식한 걸까. 페이스북도 2018년 파이토치(PyTorch) 딥러닝 라이브러리를 오픈소스로 발표하였다.  \r\n",
    " 두 라이브러리 모두 인공 신경망 알고리즘을 전문으로 다루고 있으며, 모두 사용하기 쉬운 파이썬 API를 제공한다. 때문에 인공지능의 프로그래밍 언어는 파이썬이 주를 이루고 있다."
   ]
  },
  {
   "cell_type": "markdown",
   "id": "e4f994ea-5dea-4db2-a482-ce4d62fd71a5",
   "metadata": {},
   "source": [
    "<img src='img/pytorch.png' width='300'/> PyTorch\n",
    "\n",
    "<img src='img/tensorflow.png' width='500'/> TensorFlow"
   ]
  }
 ],
 "metadata": {
  "kernelspec": {
   "display_name": "Python 3 (ipykernel)",
   "language": "python",
   "name": "python3"
  },
  "language_info": {
   "codemirror_mode": {
    "name": "ipython",
    "version": 3
   },
   "file_extension": ".py",
   "mimetype": "text/x-python",
   "name": "python",
   "nbconvert_exporter": "python",
   "pygments_lexer": "ipython3",
   "version": "3.9.19"
  }
 },
 "nbformat": 4,
 "nbformat_minor": 5
}
