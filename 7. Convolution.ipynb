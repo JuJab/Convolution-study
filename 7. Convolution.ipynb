{
 "cells": [
  {
   "cell_type": "markdown",
   "id": "baad81f8",
   "metadata": {},
   "source": [
    "# 1. 합성곱 (Convolution)"
   ]
  },
  {
   "cell_type": "markdown",
   "id": "d35365b8",
   "metadata": {},
   "source": [
    "### 1-1. 합성곱 (Convolutino)\n",
    " **합성곱(Convolution)** 은 입력 데이터에 유용한 특성만 드러나게 하는 것이라 볼 수 있다.\n",
    " \n",
    " <img src='https://github.com/JuJab/Convolution-study/assets/98221614/90880ffa-04f0-4587-80a0-3c2923f44164' width='600'> "
   ]
  },
  {
   "cell_type": "markdown",
   "id": "21a9f562",
   "metadata": {},
   "source": [
    " 밀집층에는 뉴런마다 입력 개수만큼의 가중치가 있다. 인공 신경망의 경우 w1 ~ w10 과 절편 d를 랜덤하게 초기화한 다음 에포크를 반복하면서 경사 하강법 알고리즘을 사용해 손실이 낮아지도록 최적의 가중치와 절편을 찾아간다. 위의 경우 1개의 출력이 존재하고, 다른 10개의 출력이 있다면 각 출력마다 최적의 가중치와 절편을 찾는 것이다. 그 출력을 뉴런이라고 부를 수 있는데, 784개의 픽셀을 입력받는 은닉층의 뉴런이 100개면 뉴런마다 하나씩 출력도 100개가 된다.\n",
    " \n",
    " <img src='https://github.com/JuJab/Convolution-study/assets/98221614/d1edaf5b-3810-42bf-871d-857b6c9f9089' width='800' align='left'/> "
   ]
  },
  {
   "cell_type": "markdown",
   "id": "74519445",
   "metadata": {},
   "source": [
    " 위의 그림을 보면 3개의 특성과 3개의 가중치를 곱하고 절편 b를 더해 1개의 출력을 만든다. 그리고 한 칸 내려가 다음 뉴런이 2 ~ 4번째 특성과 곱해져 새로운 출력을 만든다. 여기서 첫 번째 뉴런에서 사용된 가중치와, 두 번째 뉴런에서 사용된 가중치는 모두 동일하게 사용되며, 그림에서는 총 8개의 출력이 만들어진다.\n",
    " \n",
    " 합성곱 층의 뉴런에 있는 가중치의 개수는 또 다른 하이퍼파라미터이다.\n",
    " \n",
    " 합성곱의 뉴런은 입력을 이동하면서 출력을 만들기에 밀집층처럼 표현하기 어렵고, 뉴런이라 부르기에 어색하다. 그래서 **합성곱 신경망(Convolution Neural Network, CNN)** 은 완전 연결 신경망과 달리 뉴런을 **필터(Filter)** 라 부르며, 혹은 **커널(Kernel)** 이라 부른다.\n",
    " > 완전 연결층(밀집층)만 사용하여 만든 신경망을 완전 연결 신경망(밀집 신경망) 이라 부른다."
   ]
  },
  {
   "cell_type": "markdown",
   "id": "3b1fb7a8",
   "metadata": {},
   "source": [
    " 합성곱의 장점은 2차원 데이터를 그대로 입력할 수 있다는 점이다.\n",
    " \n",
    " <img src='https://github.com/JuJab/Convolution-study/assets/98221614/eef1d28e-1d89-48b7-8b93-8005cb683f5e' width='800'/> "
   ]
  },
  {
   "cell_type": "markdown",
   "id": "875541a9",
   "metadata": {},
   "source": [
    " 입력이 2차원 배열인 경우 필터(뉴런)의 커널(가중치)은 동일한 2차원 형태여야 한다. 커널은 보통 입력보다 크기가 작고, 왼쪽 위 모서리부터 시작하여 오른쪽에서 아래 방향으로 순차적으로 이동하여 출력을 만든다.\n",
    " \n",
    " 커널 또한 우리가 지정할 하이퍼파라미터이며, 합성곱 시 절편을 더하는 것은 동일하다.\n",
    " \n",
    " <img src='https://github.com/JuJab/Convolution-study/assets/98221614/82e8b18d-b643-4c29-a15f-d429a6247dcb' width='500'/> "
   ]
  },
  {
   "cell_type": "markdown",
   "id": "3dcf964f",
   "metadata": {},
   "source": [
    " 계산법은 밀집층과 크게 다르지 않다. 가중치를 행과 열에 맞추아 곱하고 절편과 모두 더한다. 그림에서는 필터가 4번 이동하였기에 4개의 출력을 만든다.\n",
    " \n",
    " 4개의 출력을 필터가 입력에 놓인 위치에 맞게 2차원으로 배열하여 표현하면 (4,4) 크기의 입력을 (2,2) 크기로 압축한 것처럼 된다. 이 출력을 **특성 맵(Feature Map)** 이라고 부른다. 혹은 **특징 맵** 이라 부르기도 한다.\n",
    " \n",
    ">합성곱도 마찬가지로 출력에서 활성화 함수를 사용하며, 보통 relu 함수가 많이 사용된다. 다만 활성화 출력이란 표현을 합성곱에서는 잘 쓰지 않는다.\n",
    "\n",
    " 필터는 여러 개를 사용할 수 있다. 그러면 2차원의 특성 맵이 쌓이면서 (2,2,n) 형태의 3차원 배열이 된다. 아래의 그림처럼 3개의 필터를 사용한다면 (2,2,3) 형태의 3차원 배열이 출력된다.\n",
    " \n",
    " <img src='img/7/3dimension.jpg' width='700'/> "
   ]
  },
  {
   "cell_type": "markdown",
   "id": "b6edb920",
   "metadata": {},
   "source": [
    " 밀집층의 뉴런의 가중치와 절편이 모두 다른 것처럼 필터의 커널(가중치)와 절편도 모두 다르다. 이렇게 2차원 구조를 그대로 사용하기에 합성곱 신경망은 이미지 처리 분야에서 뛰어난 성능을 발휘한다."
   ]
  },
  {
   "cell_type": "markdown",
   "id": "c0d46324",
   "metadata": {},
   "source": [
    "### 1-2. 케라스 합성곱 층\n",
    " 합성곱은 합성곱 층을 1개 이상 사용한 인공 신경망을 말한다."
   ]
  },
  {
   "cell_type": "code",
   "execution_count": 1,
   "id": "99a95dd1",
   "metadata": {},
   "outputs": [
    {
     "data": {
      "text/plain": [
       "<keras.layers.convolutional.conv2d.Conv2D at 0x1eefa1d04f0>"
      ]
     },
     "execution_count": 1,
     "metadata": {},
     "output_type": "execute_result"
    }
   ],
   "source": [
    "from tensorflow import keras\n",
    "keras.layers.Conv2D(10, kernel_size=(3,3), activation='relu')\n",
    "# kernel_size 의 경우 정사이즈가 아닌 (3,4) 와 같은 형태도 사용할 수 있으나 보통 성능이 떨여져 잘 사용되지 않음\n",
    "# 대개 (3,3) 이나 (5,5) 크기가 권장됨"
   ]
  },
  {
   "cell_type": "markdown",
   "id": "32ca5c79",
   "metadata": {},
   "source": [
    "### 패딩 (Padding)"
   ]
  },
  {
   "cell_type": "markdown",
   "id": "04564a7b",
   "metadata": {},
   "source": [
    " 만약 위와 같은 경우에서 입력과 같은 크기의 (4,4) 특성 맵을 만들고 싶다면 입력 데이터에 값이 0인 더미 픽셀을 두르는 방법이 있다. 이렇게 더미 픽셀로 특성 맵의 크기를 늘리는 방식을 **패딩(Padding)** 이라고 하며, 입력과 특성 맵의 크기가 같은 패딩 방식을 **세임 패딩(Same Padding)** 이라고 한다. 반대로 패딩 없이 순수한 입력 배열에서만 특성 맵을 만드는 경우를 **밸리드 패딩(Valid Padding)** 이라 한다.\n",
    " \n",
    " 패딩은 특성 맵의 크기를 늘려줄 뿐, 실제 값은 0이기에 계산에 영향을 미치지 않는다.\n",
    " \n",
    " <img src='https://github.com/JuJab/Convolution-study/assets/98221614/91a2f77d-2135-48c1-a89d-5b673a9b8a93' width='800'/> "
   ]
  },
  {
   "cell_type": "markdown",
   "id": "f9df93f8",
   "metadata": {},
   "source": [
    " 모서리의 데이터는 커널에 한 번밖에 입력되지 않기에 참여도가 적다. 그런 데이터의 기여도를 늘리기 위해 패딩을 통해 가장자리의 데이터의 참여도를 늘리는 것이 패딩의 목적이다.\n",
    " \n",
    " <img src='https://github.com/JuJab/Convolution-study/assets/98221614/061e72bd-c88a-4089-85fa-c13520e93845' width='450'/> "
   ]
  },
  {
   "cell_type": "code",
   "execution_count": 2,
   "id": "7d52471f",
   "metadata": {},
   "outputs": [
    {
     "data": {
      "text/plain": [
       "<keras.layers.convolutional.conv2d.Conv2D at 0x1ee86616580>"
      ]
     },
     "execution_count": 2,
     "metadata": {},
     "output_type": "execute_result"
    }
   ],
   "source": [
    "keras.layers.Conv2D(10, kernel_size=(3,3), activation='relu', padding='same') \n",
    "# 밸리드패딩은 valid (default)\n",
    "# same 패딩의 사용이 훨씬 많음"
   ]
  },
  {
   "cell_type": "markdown",
   "id": "d912ac33",
   "metadata": {},
   "source": [
    "### 스트라이드 (Stride)"
   ]
  },
  {
   "cell_type": "markdown",
   "id": "6c41ce90",
   "metadata": {},
   "source": [
    " 커널의 이동을 한 칸씩이 아니라 두 칸씩 이동하는 방법을 **스트라이드(Stride)** 라고 한다. default 값은 당연히 1이다.\n",
    " \n",
    " <img src='https://github.com/JuJab/Convolution-study/assets/98221614/b3c3cc2f-e35f-4fd0-93af-f808f387d9a9' width='500'/> "
   ]
  },
  {
   "cell_type": "code",
   "execution_count": 3,
   "id": "adc04d60",
   "metadata": {},
   "outputs": [
    {
     "data": {
      "text/plain": [
       "<keras.layers.convolutional.conv2d.Conv2D at 0x1ee86616e80>"
      ]
     },
     "execution_count": 3,
     "metadata": {},
     "output_type": "execute_result"
    }
   ],
   "source": [
    "keras.layers.Conv2D(10, kernel_size=(3,3), activation='relu', padding='same', strides=1)"
   ]
  },
  {
   "cell_type": "markdown",
   "id": "f9e4fe56",
   "metadata": {},
   "source": [
    "### 풀링 (Pooling)"
   ]
  },
  {
   "cell_type": "markdown",
   "id": "d5add107",
   "metadata": {},
   "source": [
    " **풀링(Pooling)** 은 특성 맵의 크기를 다시 한 번 필터를 통과해 크기를 줄이는 방법을 말한다.\n",
    " \n",
    " <img src='https://github.com/JuJab/Convolution-study/assets/98221614/aedc03f4-9d75-46d7-b9f3-27c463b1b410' width='800'/> "
   ]
  },
  {
   "cell_type": "markdown",
   "id": "5ea78b2f",
   "metadata": {},
   "source": [
    " 여기서 고려할 점은 이 필터에는 커널(가중치)가 없다는 점이다. 대신 도장을 찍은 영역에서 가장 큰 값을 고르거나, 평균값을 계산하는데 이를 각각 **최대 풀링(Max Pooling)** 과 **평균 풀링(Average Pooling)** 이라 부른다. 풀링은 합성층과 뚜렷이 구분되기에 풀링 층이라고 부른다.\n",
    " \n",
    " 대부분 평균 풀링보다 최대 풀링을 더 많이 사용한다. 평균 풀링의 경우 특성 맵의 중요한 정보를 평균하는 것으로 희석시킬 수 있기 때문이다.\n",
    " \n",
    " 풀링은 무조건 겹치지 않고 이동한다."
   ]
  },
  {
   "cell_type": "code",
   "execution_count": 4,
   "id": "a2cf5349",
   "metadata": {},
   "outputs": [
    {
     "data": {
      "text/plain": [
       "<keras.layers.pooling.max_pooling2d.MaxPooling2D at 0x1ee86616910>"
      ]
     },
     "execution_count": 4,
     "metadata": {},
     "output_type": "execute_result"
    }
   ],
   "source": [
    "keras.layers.MaxPooling2D(2)\n",
    "# keras.layers.MaxPooling2D(2, strides=2, padding='valid')\n",
    "# strides 의 경우 default 값이 크기에 맞춰서 설정되니 넣지 않아도 좋음"
   ]
  },
  {
   "cell_type": "code",
   "execution_count": 5,
   "id": "5e9230c2",
   "metadata": {},
   "outputs": [
    {
     "data": {
      "text/plain": [
       "<keras.layers.pooling.average_pooling2d.AveragePooling2D at 0x1ee866b5c70>"
      ]
     },
     "execution_count": 5,
     "metadata": {},
     "output_type": "execute_result"
    }
   ],
   "source": [
    "keras.layers.AveragePooling2D(2, strides=2, padding='valid')"
   ]
  },
  {
   "cell_type": "markdown",
   "id": "e6fc0120",
   "metadata": {},
   "source": [
    " **합성곱 신경망(Convolution Neural Network, CNN)** 은 결국 아래의 그림 형태의 구조를 띠게 된다.\n",
    " \n",
    " <img src='https://github.com/JuJab/Convolution-study/assets/98221614/99cc9344-9107-45e4-9e57-69b770fe3e22' width='800'/> "
   ]
  },
  {
   "cell_type": "markdown",
   "id": "a96a2126",
   "metadata": {},
   "source": [
    " 필터마다 다른 커널(가중치)와 절편을 가지고 있으며, 풀링층을 통해 더 작은 특성 맵으로 압축되고, 마지막으로 밀집층을 통과하여 예측값을 출력하게 된다.\n",
    " \n",
    " 합성곱 층에서 스트라이드의 경우 언급하지 않으면 default 값 1을 가지게 되고, 스트라이드를 크게 하여 특성 맵을 줄이는 것보다 풀링 층으로 크기를 줄이는 것이 더 나은 성능을 내기에 스트라이드는 잘 사용되지 않는다.\n",
    " \n",
    " 그림에서는 3개의 뉴런을 두었는데, 이는 3개의 클래스를 분류하는 다중 분류 문제로 추측할 수 있다."
   ]
  },
  {
   "cell_type": "markdown",
   "id": "4ad070a6",
   "metadata": {},
   "source": [
    "### 3차원 합성곱\n",
    " 흑백 이미지는 2차원 배열로 표현할 수 있지만 컬러 이미지의 경우 RGB(빨강, 초록, 파랑) 채널로 구성되어 있기에 3차원 배열로 표시한다. 채널은 깊이, 즉 3번째 차원을 의미한다.\n",
    " \n",
    " <img src='https://github.com/JuJab/Convolution-study/assets/98221614/f33f8a98-4a23-467b-b21f-395a175aaf32' width='800'/>"
   ]
  },
  {
   "cell_type": "markdown",
   "id": "e8dac8de",
   "metadata": {},
   "source": [
    " 이런 경우 필터의 커널 또한 같은 깊이로 구성하면 되는데, 입력값이 (4,4,3) 의 경우 커널도 (3,3) 이 아니라 (3,3,3) 의 형태가 된다. 그렇게 특성 맵은 (2,2,1) 처럼 3차원의 배열이 출력된다. 원소의 개수는 동일하면서 차원만 맞춘 것이다.\n",
    " \n",
    " <img src='https://github.com/JuJab/Convolution-study/assets/98221614/62b1a6a1-29b1-46eb-88d9-895a83e16c05' width='600'/>"
   ]
  },
  {
   "cell_type": "markdown",
   "id": "73f226d5",
   "metadata": {},
   "source": [
    " 채널이 5인 입력의 경우 커널 또한 5 채널의 형태를 띠고, 그림과 같이 (3,3,5) 크기 커널의 10개의 필터가 있다고 하면 (2,2,10) 크기의 특성 맵이 출력된다."
   ]
  },
  {
   "cell_type": "markdown",
   "id": "5ce1594c",
   "metadata": {},
   "source": [
    "# 2. 이미지 분류"
   ]
  },
  {
   "cell_type": "code",
   "execution_count": 6,
   "id": "85819def",
   "metadata": {},
   "outputs": [],
   "source": [
    "from tensorflow import keras\n",
    "from sklearn.model_selection  import train_test_split\n",
    "\n",
    "(train_input, train_target), (test_input, test_target) =\\\n",
    "    keras.datasets.fashion_mnist.load_data()\n",
    "train_scaled = train_input.reshape(-1, 28, 28, 1) / 255.0\n",
    "train_scaled, val_scaled, train_target, val_target = train_test_split(\n",
    "    train_scaled, train_target, test_size=0.2, random_state=42)"
   ]
  },
  {
   "cell_type": "markdown",
   "id": "f290867e",
   "metadata": {},
   "source": [
    " (48000, 28, 28) 크기인 train_input 을 (48000, 28, 28, 1) 크기로 재배열한다. 즉 (28, 28, 1) 의 입력을 48000개로 나열한 형태가 되는 것이다.\n",
    "\n",
    " <img src='https://github.com/JuJab/Convolution-study/assets/98221614/17723584-b263-4f0e-abf3-34316f6ef13f' width='500' align='left'/>"
   ]
  },
  {
   "cell_type": "code",
   "execution_count": 7,
   "id": "34274723",
   "metadata": {},
   "outputs": [],
   "source": [
    "# 합성곱 신경망 구성\n",
    "model = keras.Sequential()\n",
    "model.add(keras.layers.Conv2D(32, kernel_size=3, activation='relu', padding='same', input_shape=(28,28,1)))"
   ]
  },
  {
   "cell_type": "code",
   "execution_count": 8,
   "id": "5f2d60c7",
   "metadata": {},
   "outputs": [],
   "source": [
    "# 최대 풀링층 생성 (2,2) size\n",
    "model.add(keras.layers.MaxPooling2D(2))"
   ]
  },
  {
   "cell_type": "markdown",
   "id": "b3a927b6",
   "metadata": {},
   "source": [
    " 세임 패딩 후, (2,2) 풀링을 적용했기에 특성 맵의 크기는 절반으로 줄어든다. 또한 합성곱 층에서 32개의 필터를 사용했으므로 깊이는 32가 된다. 즉, 최대 풀링을 통과한 특성 맵의 크기는 (14,14,32) 의 형태이다."
   ]
  },
  {
   "cell_type": "code",
   "execution_count": 9,
   "id": "23b84e74",
   "metadata": {},
   "outputs": [
    {
     "name": "stdout",
     "output_type": "stream",
     "text": [
      "Model: \"sequential\"\n",
      "_________________________________________________________________\n",
      " Layer (type)                Output Shape              Param #   \n",
      "=================================================================\n",
      " conv2d_3 (Conv2D)           (None, 28, 28, 32)        320       \n",
      "                                                                 \n",
      " max_pooling2d_1 (MaxPooling  (None, 14, 14, 32)       0         \n",
      " 2D)                                                             \n",
      "                                                                 \n",
      "=================================================================\n",
      "Total params: 320\n",
      "Trainable params: 320\n",
      "Non-trainable params: 0\n",
      "_________________________________________________________________\n"
     ]
    }
   ],
   "source": [
    "# summary() 메서드로 확인 가능\n",
    "model.summary()"
   ]
  },
  {
   "cell_type": "code",
   "execution_count": 10,
   "id": "662d9d79",
   "metadata": {},
   "outputs": [],
   "source": [
    "model.add(keras.layers.Conv2D(64, kernel_size=3, activation='relu', padding='same'))\n",
    "model.add(keras.layers.MaxPooling2D(2))"
   ]
  },
  {
   "cell_type": "markdown",
   "id": "469b4545",
   "metadata": {},
   "source": [
    " 64개의 필터와 (2,2) 풀링을 적용하여 최종적으로 (7,7,64) 의 특성 맵이 출력된다.\n",
    " \n",
    " 이제 이 3차원 특성 맵을 일렬로 펼친다. 이유는 마지막에 10개의 뉴런을 가진 출력(밀집)층에서 확률을 계산하기 때문이다. 여기에서는 특성 맵을 일렬로 펼쳐서 바로 출력층에 전달하지 않고 중간에 하나의 밀집 은닉층을 추가할 것이다.\n",
    " \n",
    " 즉 Flatten 클래스 다음에 Dense 은닉층, 마지막으로 Dense 출력층이 순서대로 구성한다."
   ]
  },
  {
   "cell_type": "code",
   "execution_count": 11,
   "id": "09438d0a",
   "metadata": {},
   "outputs": [],
   "source": [
    "model.add(keras.layers.Flatten())\n",
    "model.add(keras.layers.Dense(100, activation='relu'))\n",
    "model.add(keras.layers.Dropout(0.4))\n",
    "model.add(keras.layers.Dense(10, activation='softmax'))"
   ]
  },
  {
   "cell_type": "code",
   "execution_count": 12,
   "id": "9e5323bc",
   "metadata": {},
   "outputs": [
    {
     "name": "stdout",
     "output_type": "stream",
     "text": [
      "Model: \"sequential\"\n",
      "_________________________________________________________________\n",
      " Layer (type)                Output Shape              Param #   \n",
      "=================================================================\n",
      " conv2d_3 (Conv2D)           (None, 28, 28, 32)        320       \n",
      "                                                                 \n",
      " max_pooling2d_1 (MaxPooling  (None, 14, 14, 32)       0         \n",
      " 2D)                                                             \n",
      "                                                                 \n",
      " conv2d_4 (Conv2D)           (None, 14, 14, 64)        18496     \n",
      "                                                                 \n",
      " max_pooling2d_2 (MaxPooling  (None, 7, 7, 64)         0         \n",
      " 2D)                                                             \n",
      "                                                                 \n",
      " flatten (Flatten)           (None, 3136)              0         \n",
      "                                                                 \n",
      " dense (Dense)               (None, 100)               313700    \n",
      "                                                                 \n",
      " dropout (Dropout)           (None, 100)               0         \n",
      "                                                                 \n",
      " dense_1 (Dense)             (None, 10)                1010      \n",
      "                                                                 \n",
      "=================================================================\n",
      "Total params: 333,526\n",
      "Trainable params: 333,526\n",
      "Non-trainable params: 0\n",
      "_________________________________________________________________\n"
     ]
    }
   ],
   "source": [
    "model.summary()"
   ]
  },
  {
   "cell_type": "markdown",
   "id": "cb9de94f",
   "metadata": {},
   "source": [
    " 첫 번째 합성곱 층은 32개의 필터를 사용하고, 크기가 (3,3), 깊이가 1이다. 또한 필터마다 하나의 절편이 있다.\n",
    " \n",
    " $3 × 3 × 1 × 32 + 32 = 320$ 으로 320개의 파라미터를 가진다. (2,2) 크기의 풀링을 사용하기에 (14, 14, 32)의 특성 맵을 가진다.\n",
    " \n",
    " 두 번째 합성곱 층은 64개의 필터를 사용하고 크기가 (3,3), 깊이가 32이다. 앞선 층에서 32개의 특성 맵을 가졌기에 깊이 또한 차원을 맞추어 32가 된다. 마찬가지로 필터마다 하나의 절편이 있다.\n",
    " \n",
    " $3 × 3 × 32 × 64 + 64 = 18,496$ 으로 18,497개의 파라미터를 가진다. 앞의 층과 똑같이 (2,2) 크기의 풀링을 사용하여 (7, 7, 64) 의 특성 맵을 가진다.\n",
    " \n",
    " Flatten 클래스에서 (7, 7, 64) 크기의 특성 맵을 1차원 배열로 펼쳐 (3136,) 배열의 형태를 취한다. 다음 100개의 뉴런을 연결하여,\n",
    " \n",
    " $3136 × 100 + 100 = 313,700$ 의 모델 파라미터 개수를 가진다.\n",
    " \n",
    " 마찬가지로 계산하여 마지막 모델 파라미터 개수는,\n",
    " \n",
    " $100 × 10 + 10 = 1,010$ 개가 된다."
   ]
  },
  {
   "cell_type": "code",
   "execution_count": 13,
   "id": "92cc53c4",
   "metadata": {},
   "outputs": [
    {
     "data": {
      "image/png": "[encoded data removed]",
      "text/plain": [
       "<IPython.core.display.Image object>"
      ]
     },
     "execution_count": 13,
     "metadata": {},
     "output_type": "execute_result"
    }
   ],
   "source": [
    "# keras 층의 구성을 그림으로 표현\n",
    "keras.utils.plot_model(model)\n",
    "\n",
    "# InputLayer 클래스는 케라스가 자동으로 추가해주는 입력층"
   ]
  },
  {
   "cell_type": "code",
   "execution_count": 14,
   "id": "7f9625bc",
   "metadata": {},
   "outputs": [
    {
     "data": {
      "image/png": "[encoded data removed]",
      "text/plain": [
       "<IPython.core.display.Image object>"
      ]
     },
     "execution_count": 14,
     "metadata": {},
     "output_type": "execute_result"
    }
   ],
   "source": [
    "# show_shapes 을 True 로 지정하면 입력과 출력의 크기 표시\n",
    "keras.utils.plot_model(model, show_shapes=True)"
   ]
  },
  {
   "cell_type": "markdown",
   "id": "d3bdbca0",
   "metadata": {},
   "source": [
    " 여기까지의 신경망 과정을 그림으로 나타내면 다음과 같다.\n",
    " \n",
    " <img src='https://github.com/JuJab/Convolution-study/assets/98221614/70d08c13-6377-4492-8b79-acba7ba9441b' width='600'/>\n",
    " \n",
    " <img src='https://github.com/JuJab/Convolution-study/assets/98221614/92c9ce4b-8bbc-45aa-b403-8397219f70ef'/>"
   ]
  },
  {
   "cell_type": "markdown",
   "id": "531f269f",
   "metadata": {},
   "source": [
    "### 2-1. 모델 컴파일과 훈련"
   ]
  },
  {
   "cell_type": "code",
   "execution_count": 15,
   "id": "70b71b5a",
   "metadata": {},
   "outputs": [
    {
     "name": "stdout",
     "output_type": "stream",
     "text": [
      "Epoch 1/20\n",
      "1500/1500 [==============================] - 23s 15ms/step - loss: 0.5226 - accuracy: 0.8099 - val_loss: 0.3334 - val_accuracy: 0.8770\n",
      "Epoch 2/20\n",
      "1500/1500 [==============================] - 22s 14ms/step - loss: 0.3485 - accuracy: 0.8750 - val_loss: 0.2801 - val_accuracy: 0.8976\n",
      "Epoch 3/20\n",
      "1500/1500 [==============================] - 22s 15ms/step - loss: 0.2943 - accuracy: 0.8935 - val_loss: 0.2484 - val_accuracy: 0.9093\n",
      "Epoch 4/20\n",
      "1500/1500 [==============================] - 22s 15ms/step - loss: 0.2613 - accuracy: 0.9042 - val_loss: 0.2341 - val_accuracy: 0.9131\n",
      "Epoch 5/20\n",
      "1500/1500 [==============================] - 22s 15ms/step - loss: 0.2382 - accuracy: 0.9138 - val_loss: 0.2323 - val_accuracy: 0.9142\n",
      "Epoch 6/20\n",
      "1500/1500 [==============================] - 22s 14ms/step - loss: 0.2142 - accuracy: 0.9211 - val_loss: 0.2218 - val_accuracy: 0.9195\n",
      "Epoch 7/20\n",
      "1500/1500 [==============================] - 22s 14ms/step - loss: 0.2002 - accuracy: 0.9260 - val_loss: 0.2265 - val_accuracy: 0.9181\n",
      "Epoch 8/20\n",
      "1500/1500 [==============================] - 22s 14ms/step - loss: 0.1825 - accuracy: 0.9321 - val_loss: 0.2205 - val_accuracy: 0.9231\n",
      "Epoch 9/20\n",
      "1500/1500 [==============================] - 21s 14ms/step - loss: 0.1671 - accuracy: 0.9382 - val_loss: 0.2235 - val_accuracy: 0.9211\n",
      "Epoch 10/20\n",
      "1500/1500 [==============================] - 22s 14ms/step - loss: 0.1556 - accuracy: 0.9414 - val_loss: 0.2195 - val_accuracy: 0.9234\n",
      "Epoch 11/20\n",
      "1500/1500 [==============================] - 22s 14ms/step - loss: 0.1471 - accuracy: 0.9448 - val_loss: 0.2163 - val_accuracy: 0.9280\n",
      "Epoch 12/20\n",
      "1500/1500 [==============================] - 22s 14ms/step - loss: 0.1363 - accuracy: 0.9482 - val_loss: 0.2227 - val_accuracy: 0.9276\n",
      "Epoch 13/20\n",
      "1500/1500 [==============================] - 22s 14ms/step - loss: 0.1251 - accuracy: 0.9523 - val_loss: 0.2439 - val_accuracy: 0.9234\n"
     ]
    }
   ],
   "source": [
    "model.compile(optimizer='adam', loss='sparse_categorical_crossentropy', metrics='accuracy')\n",
    "checkpoint_cb = keras.callbacks.ModelCheckpoint('best-cnn-model.h5', save_best_only=True)\n",
    "early_stopping_cb = keras.callbacks.EarlyStopping(patience=2, restore_best_weights=True)\n",
    "history = model.fit(train_scaled, train_target, epochs=20,\n",
    "                   validation_data=(val_scaled, val_target),\n",
    "                   callbacks=[checkpoint_cb, early_stopping_cb])"
   ]
  },
  {
   "cell_type": "code",
   "execution_count": 16,
   "id": "c00e20ef",
   "metadata": {},
   "outputs": [
    {
     "data": {
      "image/png": "[encoded data removed]",
      "text/plain": [
       "<Figure size 432x288 with 1 Axes>"
      ]
     },
     "metadata": {
      "needs_background": "light"
     },
     "output_type": "display_data"
    }
   ],
   "source": [
    "import matplotlib.pyplot as plt\n",
    "plt.plot(history.history['loss'])\n",
    "plt.plot(history.history['val_loss'])\n",
    "plt.xlabel('epoch')\n",
    "plt.ylabel('loss')\n",
    "plt.legend(['train','val'])\n",
    "plt.show()"
   ]
  },
  {
   "cell_type": "markdown",
   "id": "9a9204c5",
   "metadata": {},
   "source": [
    " 검증 세트에 대한 손실이 낮아지다가 올라가려는 기점에서 조기 종료되었다.\n",
    " \n",
    " EarlyStopping 클래스에서 restore_best_weights 매개변수를 True 로 지정했기에 현재 model 객체가 최적의 모델 파라미터로 복원되어 있다. 즉 ModelCheckpoing 콜백이 저장한 best-cnn-model.h5 파일을 다시 읽을 필요가 없다."
   ]
  },
  {
   "cell_type": "code",
   "execution_count": 17,
   "id": "0456a991",
   "metadata": {},
   "outputs": [
    {
     "name": "stdout",
     "output_type": "stream",
     "text": [
      "375/375 [==============================] - 1s 4ms/step - loss: 0.2163 - accuracy: 0.9280\n"
     ]
    },
    {
     "data": {
      "text/plain": [
       "[0.21627357602119446, 0.9279999732971191]"
      ]
     },
     "execution_count": 17,
     "metadata": {},
     "output_type": "execute_result"
    }
   ],
   "source": [
    "model.evaluate(val_scaled, val_target)\n",
    "\n",
    "# 결과를 보아 EarlyStopping 콜백에서 최상의 모델 파라미터 복원이 잘 이뤄졌음을 알 수 있음"
   ]
  },
  {
   "cell_type": "code",
   "execution_count": 18,
   "id": "1f30b7b3",
   "metadata": {},
   "outputs": [
    {
     "data": {
      "image/png": "[encoded data removed]",
      "text/plain": [
       "<Figure size 432x288 with 1 Axes>"
      ]
     },
     "metadata": {
      "needs_background": "light"
     },
     "output_type": "display_data"
    }
   ],
   "source": [
    "plt.imshow(val_scaled[0].reshape(28, 28), cmap='gray_r')\n",
    "plt.show()"
   ]
  },
  {
   "cell_type": "code",
   "execution_count": 19,
   "id": "fcc74644",
   "metadata": {},
   "outputs": [
    {
     "name": "stdout",
     "output_type": "stream",
     "text": [
      "1/1 [==============================] - 0s 82ms/step\n",
      "[[7.5586022e-22 2.6255618e-28 1.6334436e-26 1.2397691e-20 1.6243210e-27\n",
      "  1.9906678e-20 5.6410216e-21 1.6111252e-22 1.0000000e+00 3.6122818e-23]]\n"
     ]
    }
   ],
   "source": [
    "preds = model.predict(val_scaled[0:1])\n",
    "print(preds)"
   ]
  },
  {
   "cell_type": "markdown",
   "id": "a870d450",
   "metadata": {},
   "source": [
    "> 메서드 데이터 전달 시 val_scaled[0:1] 과 같이 슬라이싱을 사용했다. 케라스의 fit(), predict(), evaluate() 메서드는 모두 입력의 첫 번째 차원이 배치 차원일 것으로 기대한다. 따라서 샘플 하나를 전달할 때, (28, 28, 1) 이 아니라 (1, 28, 28, 1) 크기를 전달해야 한다. 배열 슬라이싱은 인덱싱과 달리 선택된 원소가 하나이더라도 전체 차원이 유지되어 (1, 28, 28, 1) 크기를 만든다."
   ]
  },
  {
   "cell_type": "code",
   "execution_count": 20,
   "id": "a49eb376",
   "metadata": {},
   "outputs": [
    {
     "data": {
      "image/png": "[encoded data removed]",
      "text/plain": [
       "<Figure size 432x288 with 1 Axes>"
      ]
     },
     "metadata": {
      "needs_background": "light"
     },
     "output_type": "display_data"
    }
   ],
   "source": [
    "plt.bar(range(1, 11), preds[0])\n",
    "plt.xlabel('class')\n",
    "plt.ylabel('prob.')\n",
    "plt.show()\n",
    "# 아홉 번째 값 외의 값이 모두 0에 가까움을 알 수 있음\n",
    "# 원 핫 인코딩과 유사"
   ]
  },
  {
   "cell_type": "code",
   "execution_count": 21,
   "id": "367af6db",
   "metadata": {},
   "outputs": [],
   "source": [
    "# 참고하기 쉽도록 이름으로 레이블을 다루기 위해 리스트로 저장\n",
    "classes = ['티셔츠','바지','스웨터','드레스','코트','샌달','셔츠','스니커즈','가방','앵클 부츠']"
   ]
  },
  {
   "cell_type": "code",
   "execution_count": 22,
   "id": "ae0933f6",
   "metadata": {},
   "outputs": [
    {
     "name": "stdout",
     "output_type": "stream",
     "text": [
      "가방\n"
     ]
    }
   ],
   "source": [
    "import numpy as np\n",
    "print(classes[np.argmax(preds)])"
   ]
  },
  {
   "cell_type": "code",
   "execution_count": 23,
   "id": "9951300a",
   "metadata": {},
   "outputs": [],
   "source": [
    "test_scaled = test_input.reshape(-1, 28, 28, 1) / 255.0"
   ]
  },
  {
   "cell_type": "code",
   "execution_count": 24,
   "id": "d98fb210",
   "metadata": {},
   "outputs": [
    {
     "name": "stdout",
     "output_type": "stream",
     "text": [
      "313/313 [==============================] - 1s 4ms/step - loss: 0.2533 - accuracy: 0.9173\n"
     ]
    },
    {
     "data": {
      "text/plain": [
       "[0.2533087134361267, 0.9172999858856201]"
      ]
     },
     "execution_count": 24,
     "metadata": {},
     "output_type": "execute_result"
    }
   ],
   "source": [
    "model.evaluate(test_scaled, test_target)"
   ]
  },
  {
   "cell_type": "markdown",
   "id": "6d7f196d",
   "metadata": {},
   "source": [
    "# 3. 시각화"
   ]
  },
  {
   "cell_type": "markdown",
   "id": "da1d977f",
   "metadata": {},
   "source": [
    "### 3-1. 가중치 시각화\n",
    " 커널에서 절편은 일반적으로 시각적인 의미가 있지 않으나, 가중치는 입력 이미지의 2차원 영역에 적용되어 어떤 특징을 크게 두드러지게 표현하는 역할을 맡는다.\n",
    " \n",
    " 예를 들어 다음과 같은 가중치는 둥근 모서리 영역에서 크게 활성화되고, 그렇지 않은 영역에서 낮은 값을 만든다.\n",
    " \n",
    " <img src='https://github.com/JuJab/Convolution-study/assets/98221614/ee9c6883-1272-494b-b83f-63b6df19c6bd' width='600'/>"
   ]
  },
  {
   "cell_type": "code",
   "execution_count": 25,
   "id": "472ca1d1",
   "metadata": {},
   "outputs": [],
   "source": [
    "from tensorflow import keras\n",
    "model = keras.models.load_model('best-cnn-model.h5')"
   ]
  },
  {
   "cell_type": "code",
   "execution_count": 26,
   "id": "336aa5d5",
   "metadata": {},
   "outputs": [
    {
     "data": {
      "text/plain": [
       "[<keras.layers.convolutional.conv2d.Conv2D at 0x1eea11a4430>,\n",
       " <keras.layers.pooling.max_pooling2d.MaxPooling2D at 0x1eea11a45b0>,\n",
       " <keras.layers.convolutional.conv2d.Conv2D at 0x1eea11b7fa0>,\n",
       " <keras.layers.pooling.max_pooling2d.MaxPooling2D at 0x1eea11b7dc0>,\n",
       " <keras.layers.reshaping.flatten.Flatten at 0x1eea11dd400>,\n",
       " <keras.layers.core.dense.Dense at 0x1eea11e36d0>,\n",
       " <keras.layers.regularization.dropout.Dropout at 0x1eea11ec280>,\n",
       " <keras.layers.core.dense.Dense at 0x1eea11e3190>]"
      ]
     },
     "execution_count": 26,
     "metadata": {},
     "output_type": "execute_result"
    }
   ],
   "source": [
    "# 층 확인\n",
    "model.layers"
   ]
  },
  {
   "cell_type": "code",
   "execution_count": 27,
   "id": "0907491a",
   "metadata": {},
   "outputs": [
    {
     "name": "stdout",
     "output_type": "stream",
     "text": [
      "(3, 3, 1, 32) (32,)\n"
     ]
    }
   ],
   "source": [
    "conv = model.layers[0]\n",
    "print(conv.weights[0].shape, conv.weights[1].shape)\n",
    "# 첫 번째 원소 : 가중치의 크기 (3, 3, 1, 32)\n",
    "# 두 번째 원소 : 절편의 개수 (32,)"
   ]
  },
  {
   "cell_type": "markdown",
   "id": "92643935",
   "metadata": {},
   "source": [
    " weights 속성은 텐서플로의 다차원 배열인 Tensor 클래스의 객체이다."
   ]
  },
  {
   "cell_type": "code",
   "execution_count": 28,
   "id": "580a8272",
   "metadata": {},
   "outputs": [
    {
     "name": "stdout",
     "output_type": "stream",
     "text": [
      "-0.038718995 0.29062197\n"
     ]
    }
   ],
   "source": [
    "conv_weights = conv.weights[0].numpy()\n",
    "print(conv_weights.mean(), conv_weights.std()) # 평균, 표준편차"
   ]
  },
  {
   "cell_type": "code",
   "execution_count": 29,
   "id": "960ab963",
   "metadata": {},
   "outputs": [
    {
     "data": {
      "image/png": "[encoded data removed]",
      "text/plain": [
       "<Figure size 432x288 with 1 Axes>"
      ]
     },
     "metadata": {
      "needs_background": "light"
     },
     "output_type": "display_data"
    }
   ],
   "source": [
    "import matplotlib.pyplot as plt\n",
    "plt.hist(conv_weights.reshape(-1, 1))\n",
    "plt.xlabel('weight')\n",
    "plt.ylabel('count')\n",
    "plt.show()\n",
    "# 한쪽으로 치우쳐져 있는 것을 보아 특정 특성을 강조하기 위해 학습되었음을 알 수 있음"
   ]
  },
  {
   "cell_type": "markdown",
   "id": "c82ad5e4",
   "metadata": {},
   "source": [
    " 히스토그램으로 표현하기 위해서는 1차원 배열로 재배열이 필요하다. 수정하여 표현한 그래프는 위와 같다."
   ]
  },
  {
   "cell_type": "code",
   "execution_count": 30,
   "id": "f5350702",
   "metadata": {},
   "outputs": [
    {
     "data": {
      "image/png": "[encoded data removed]",
      "text/plain": [
       "<Figure size 1080x144 with 32 Axes>"
      ]
     },
     "metadata": {
      "needs_background": "light"
     },
     "output_type": "display_data"
    }
   ],
   "source": [
    "# 32 개의 커널을 출력\n",
    "fig, axs = plt.subplots(2, 16, figsize=(15,2))\n",
    "for i in range(2):\n",
    "    for j in range(16):\n",
    "        axs[i, j].imshow(conv_weights[:, :, 0, i*16+j], vmin=-0.5, vmax=0.5)\n",
    "        axs[i, j].axis('off')\n",
    "plt.show()\n",
    "\n",
    "# conv_weights 의 3x3 pixel 에서 32개의 커널을 모두 출력 (밝은 곳이 높은 값)"
   ]
  },
  {
   "cell_type": "markdown",
   "id": "0c401615",
   "metadata": {},
   "source": [
    " imshow() 함수는 배열에 있는 최댓값과 최솟값을 사용하여 픽셀의 강도를 표현한다. 즉 어떤 값이든 그 배열의 최댓값이면 가장 밝은 노란색으로 그린다. 그렇기에 다른 배열을 imshow() 함수로 비교할 시 강도의 구분이 어렵다.\n",
    " \n",
    " 이를 위해 vmin 과 vmax 에서 컬러맵(Colormap)으로 표현할 범위를 지정해주었다."
   ]
  },
  {
   "cell_type": "code",
   "execution_count": 31,
   "id": "6b77a07b",
   "metadata": {},
   "outputs": [],
   "source": [
    "no_training_model = keras.Sequential()\n",
    "no_training_model.add(keras.layers.Conv2D(32, kernel_size=3, activation='relu',\n",
    "                                        padding='same', input_shape=(28,28,1)))"
   ]
  },
  {
   "cell_type": "code",
   "execution_count": 32,
   "id": "cd1e30a2",
   "metadata": {},
   "outputs": [
    {
     "name": "stdout",
     "output_type": "stream",
     "text": [
      "(3, 3, 1, 32)\n"
     ]
    }
   ],
   "source": [
    "# 첫 번째 층(Conv2D 층)의 가중치를 no_training_conv 변수에 저장\n",
    "no_training_conv = no_training_model.layers[0]\n",
    "print(no_training_conv.weights[0].shape)"
   ]
  },
  {
   "cell_type": "code",
   "execution_count": 33,
   "id": "7fa68eb9",
   "metadata": {},
   "outputs": [
    {
     "name": "stdout",
     "output_type": "stream",
     "text": [
      "-0.0025109083 0.081073195\n"
     ]
    }
   ],
   "source": [
    "no_training_weights = no_training_conv.weights[0].numpy()\n",
    "print(no_training_weights.mean(), no_training_weights.std())"
   ]
  },
  {
   "cell_type": "code",
   "execution_count": 34,
   "id": "0df57b95",
   "metadata": {},
   "outputs": [
    {
     "data": {
      "image/png": "[encoded data removed]",
      "text/plain": [
       "<Figure size 432x288 with 1 Axes>"
      ]
     },
     "metadata": {
      "needs_background": "light"
     },
     "output_type": "display_data"
    }
   ],
   "source": [
    "plt.hist(no_training_weights.reshape(-1, 1))\n",
    "plt.xlabel('weight')\n",
    "plt.ylabel('count')\n",
    "plt.show()\n",
    "# 학습되지 않은 층만 형성된 형태\n",
    "# 초기 형성 시 가중치가 균등하게 랜덤 분포됨 (신경망의 가중치 초기 초기화 과정)"
   ]
  },
  {
   "cell_type": "code",
   "execution_count": 35,
   "id": "505d6e9a",
   "metadata": {},
   "outputs": [
    {
     "data": {
      "image/png": "[encoded data removed]",
      "text/plain": [
       "<Figure size 1080x144 with 32 Axes>"
      ]
     },
     "metadata": {
      "needs_background": "light"
     },
     "output_type": "display_data"
    }
   ],
   "source": [
    "fig, axs = plt.subplots(2, 16, figsize=(15,2))\n",
    "for i in range(2):\n",
    "    for j in range(16):\n",
    "        axs[i, j].imshow(no_training_weights[:,:,0,i*16+j], vmin=-0.5, vmax=0.5)\n",
    "        axs[i, j].axis('off')\n",
    "plt.show()\n",
    "# 히스토그램의 정보와 마찬가지로 가중치가 밋밋하게 시각화 됨"
   ]
  },
  {
   "cell_type": "markdown",
   "id": "6c26aa07",
   "metadata": {},
   "source": [
    "### 3-2. 함수형 API"
   ]
  },
  {
   "cell_type": "markdown",
   "id": "56504c70",
   "metadata": {},
   "source": [
    " 딥러닝에서는 입력 혹은 출력이 다수인 복잡한 모델이 존재한다. 이 때는 Sequential 클래스가 아닌 **함수형 API(Function API)** 를 사용한다.\n",
    " \n",
    " 함수형 API는 케라스 Model 클래스를 이용하여 만든다. 2개의 완전 연결 신경망을 함수형 API로 구현해보자."
   ]
  },
  {
   "cell_type": "code",
   "execution_count": 38,
   "id": "afb6f829",
   "metadata": {},
   "outputs": [],
   "source": [
    "dense1 = keras.layers.Dense(100, activation='sigmoid')\n",
    "dense2 = keras.layers.Dense(10, activation='softmax')\n",
    "\n",
    "# 위에서 만든 층을 아래의 객체 호출을 통해 입력값 inputs 을 Dense 층에 통과시켜 hidden 을 출력\n",
    "hidden = dense1(inputs)\n",
    "\n",
    "# 마찬가지로 다음을 통해 첫 번째 층의 출력을 입력으로 사용하여 outputs 라는 출력을 생성\n",
    "outputs = dense2(hidden)\n",
    "\n",
    "# 다음 모델은 Sequential 클래스를 통해 만든 모델과 동일\n",
    "model = keras.Model(inputs, outputs)"
   ]
  },
  {
   "cell_type": "markdown",
   "id": "be9b49e1",
   "metadata": {},
   "source": [
    " <img src='https://github.com/JuJab/Convolution-study/assets/98221614/e978a6dd-24da-4e9d-ba6a-2c40f9bf4a7f' width='400' align='left'/>"
   ]
  },
  {
   "cell_type": "markdown",
   "id": "ce052da8",
   "metadata": {},
   "source": [
    " 여기서 inputs 은 plot_model() 로 모델을 도식화 했을 때 InputLayer 클래스와 동일하다. Sequential 클래스는 InputLayer 클래스를 자동으로 추가 및 호출하지만 Model 클래스에서는 우리가 수동으로 만들어 호출해야한다.\n",
    " \n",
    " 즉 inputs 가 InputLayer 클래스의 출력값이 되어야 한다.\n",
    " \n",
    " > 케라스 모델은 layers 속성 외에 _self_tracked_trackables 리스트 속성을 가진다. Sequential 클래스 객체의 _self_tracked_trackables 속성의 첫 번째 항목이 바로 InputLayer 클래스의 객체이다.\n",
    " \n",
    " > InputLayer 클래스는 신경망의 입력층 역할을 한다. 모델의 입력을 첫 번째 은닉층에 전달하는 역할을 수행하기에 입력과 출력이 동일하다."
   ]
  },
  {
   "cell_type": "code",
   "execution_count": 37,
   "id": "4424d06a",
   "metadata": {},
   "outputs": [],
   "source": [
    "# 은닉층에 입력을 전달하는 Input 함수\n",
    "inputs = keras.Input(shape=(784,))"
   ]
  },
  {
   "cell_type": "markdown",
   "id": "945e6635",
   "metadata": {},
   "source": [
    " <img src='https://github.com/JuJab/Convolution-study/assets/98221614/f69bff2a-e66f-44a9-9b90-3481b6562728' width='650'/>"
   ]
  },
  {
   "cell_type": "markdown",
   "id": "168eba2b",
   "metadata": {},
   "source": [
    "model 객체의 predict() 메서드를 호출 시 마지막 출력층까지 거친 후 최종값을 반환한다. 만약 우리가 첫 번째 Conv2D 층이 출력한 특성맵이 필요하다면 함수형 API 를 사용하여 output 속성값에서 구할 수 있다. model.layers[0].ouput 처럼 참조하는 것이 가능하다."
   ]
  },
  {
   "cell_type": "code",
   "execution_count": 39,
   "id": "c176c583",
   "metadata": {},
   "outputs": [
    {
     "name": "stdout",
     "output_type": "stream",
     "text": [
      "KerasTensor(type_spec=TensorSpec(shape=(None, 784), dtype=tf.float32, name='input_1'), name='input_1', description=\"created by layer 'input_1'\")\n"
     ]
    }
   ],
   "source": [
    "# 모델의 입력 또한 다음으로 간단히 얻을 수 있음\n",
    "print(model.input)"
   ]
  },
  {
   "cell_type": "code",
   "execution_count": 40,
   "id": "14b497b3",
   "metadata": {},
   "outputs": [],
   "source": [
    "# model.input 과 model.layers[0].output 을 연결하는 모델 생성\n",
    "conv_acti = keras.Model(model.input, model.layers[0].output)"
   ]
  },
  {
   "cell_type": "code",
   "execution_count": 41,
   "id": "42f869bf",
   "metadata": {},
   "outputs": [
    {
     "data": {
      "text/plain": [
       "<keras.engine.input_layer.InputLayer at 0x1ee9a4cebe0>"
      ]
     },
     "execution_count": 41,
     "metadata": {},
     "output_type": "execute_result"
    }
   ],
   "source": [
    "model.layers[0]"
   ]
  },
  {
   "cell_type": "markdown",
   "id": "d7acbf48",
   "metadata": {},
   "source": [
    "### 3-3. 특성 맵 시각화"
   ]
  },
  {
   "cell_type": "code",
   "execution_count": 42,
   "id": "baef5a30",
   "metadata": {},
   "outputs": [
    {
     "data": {
      "image/png": "[encoded data removed]",
      "text/plain": [
       "<Figure size 432x288 with 1 Axes>"
      ]
     },
     "metadata": {
      "needs_background": "light"
     },
     "output_type": "display_data"
    }
   ],
   "source": [
    "(train_input, train_target), (test_input, test_target) = keras.datasets.fashion_mnist.load_data()\n",
    "plt.imshow(train_input[0], cmap='gray_r')\n",
    "plt.show()"
   ]
  },
  {
   "cell_type": "code",
   "execution_count": 43,
   "id": "61db2cc2",
   "metadata": {},
   "outputs": [
    {
     "ename": "ValueError",
     "evalue": "in user code:\n\n    File \"C:\\Users\\hsmin\\anaconda3\\lib\\site-packages\\keras\\engine\\training.py\", line 2137, in predict_function  *\n        return step_function(self, iterator)\n    File \"C:\\Users\\hsmin\\anaconda3\\lib\\site-packages\\keras\\engine\\training.py\", line 2123, in step_function  **\n        outputs = model.distribute_strategy.run(run_step, args=(data,))\n    File \"C:\\Users\\hsmin\\anaconda3\\lib\\site-packages\\keras\\engine\\training.py\", line 2111, in run_step  **\n        outputs = model.predict_step(data)\n    File \"C:\\Users\\hsmin\\anaconda3\\lib\\site-packages\\keras\\engine\\training.py\", line 2079, in predict_step\n        return self(x, training=False)\n    File \"C:\\Users\\hsmin\\anaconda3\\lib\\site-packages\\keras\\utils\\traceback_utils.py\", line 70, in error_handler\n        raise e.with_traceback(filtered_tb) from None\n    File \"C:\\Users\\hsmin\\anaconda3\\lib\\site-packages\\keras\\engine\\input_spec.py\", line 295, in assert_input_compatibility\n        raise ValueError(\n\n    ValueError: Input 0 of layer \"model_1\" is incompatible with the layer: expected shape=(None, 784), found shape=(None, 28, 28, 1)\n",
     "output_type": "error",
     "traceback": [
      "\u001b[1;31m---------------------------------------------------------------------------\u001b[0m",
      "\u001b[1;31mValueError\u001b[0m                                Traceback (most recent call last)",
      "Input \u001b[1;32mIn [43]\u001b[0m, in \u001b[0;36m<cell line: 2>\u001b[1;34m()\u001b[0m\n\u001b[0;32m      1\u001b[0m inputs \u001b[38;5;241m=\u001b[39m train_input[\u001b[38;5;241m0\u001b[39m:\u001b[38;5;241m1\u001b[39m]\u001b[38;5;241m.\u001b[39mreshape(\u001b[38;5;241m-\u001b[39m\u001b[38;5;241m1\u001b[39m, \u001b[38;5;241m28\u001b[39m, \u001b[38;5;241m28\u001b[39m, \u001b[38;5;241m1\u001b[39m) \u001b[38;5;241m/\u001b[39m \u001b[38;5;241m255.0\u001b[39m\n\u001b[1;32m----> 2\u001b[0m feature_maps \u001b[38;5;241m=\u001b[39m \u001b[43mconv_acti\u001b[49m\u001b[38;5;241;43m.\u001b[39;49m\u001b[43mpredict\u001b[49m\u001b[43m(\u001b[49m\u001b[43minputs\u001b[49m\u001b[43m)\u001b[49m\n",
      "File \u001b[1;32m~\\anaconda3\\lib\\site-packages\\keras\\utils\\traceback_utils.py:70\u001b[0m, in \u001b[0;36mfilter_traceback.<locals>.error_handler\u001b[1;34m(*args, **kwargs)\u001b[0m\n\u001b[0;32m     67\u001b[0m     filtered_tb \u001b[38;5;241m=\u001b[39m _process_traceback_frames(e\u001b[38;5;241m.\u001b[39m__traceback__)\n\u001b[0;32m     68\u001b[0m     \u001b[38;5;66;03m# To get the full stack trace, call:\u001b[39;00m\n\u001b[0;32m     69\u001b[0m     \u001b[38;5;66;03m# `tf.debugging.disable_traceback_filtering()`\u001b[39;00m\n\u001b[1;32m---> 70\u001b[0m     \u001b[38;5;28;01mraise\u001b[39;00m e\u001b[38;5;241m.\u001b[39mwith_traceback(filtered_tb) \u001b[38;5;28;01mfrom\u001b[39;00m \u001b[38;5;28mNone\u001b[39m\n\u001b[0;32m     71\u001b[0m \u001b[38;5;28;01mfinally\u001b[39;00m:\n\u001b[0;32m     72\u001b[0m     \u001b[38;5;28;01mdel\u001b[39;00m filtered_tb\n",
      "File \u001b[1;32m~\\AppData\\Local\\Temp\\__autograph_generated_filew9gjtown.py:15\u001b[0m, in \u001b[0;36mouter_factory.<locals>.inner_factory.<locals>.tf__predict_function\u001b[1;34m(iterator)\u001b[0m\n\u001b[0;32m     13\u001b[0m \u001b[38;5;28;01mtry\u001b[39;00m:\n\u001b[0;32m     14\u001b[0m     do_return \u001b[38;5;241m=\u001b[39m \u001b[38;5;28;01mTrue\u001b[39;00m\n\u001b[1;32m---> 15\u001b[0m     retval_ \u001b[38;5;241m=\u001b[39m ag__\u001b[38;5;241m.\u001b[39mconverted_call(ag__\u001b[38;5;241m.\u001b[39mld(step_function), (ag__\u001b[38;5;241m.\u001b[39mld(\u001b[38;5;28mself\u001b[39m), ag__\u001b[38;5;241m.\u001b[39mld(iterator)), \u001b[38;5;28;01mNone\u001b[39;00m, fscope)\n\u001b[0;32m     16\u001b[0m \u001b[38;5;28;01mexcept\u001b[39;00m:\n\u001b[0;32m     17\u001b[0m     do_return \u001b[38;5;241m=\u001b[39m \u001b[38;5;28;01mFalse\u001b[39;00m\n",
      "\u001b[1;31mValueError\u001b[0m: in user code:\n\n    File \"C:\\Users\\hsmin\\anaconda3\\lib\\site-packages\\keras\\engine\\training.py\", line 2137, in predict_function  *\n        return step_function(self, iterator)\n    File \"C:\\Users\\hsmin\\anaconda3\\lib\\site-packages\\keras\\engine\\training.py\", line 2123, in step_function  **\n        outputs = model.distribute_strategy.run(run_step, args=(data,))\n    File \"C:\\Users\\hsmin\\anaconda3\\lib\\site-packages\\keras\\engine\\training.py\", line 2111, in run_step  **\n        outputs = model.predict_step(data)\n    File \"C:\\Users\\hsmin\\anaconda3\\lib\\site-packages\\keras\\engine\\training.py\", line 2079, in predict_step\n        return self(x, training=False)\n    File \"C:\\Users\\hsmin\\anaconda3\\lib\\site-packages\\keras\\utils\\traceback_utils.py\", line 70, in error_handler\n        raise e.with_traceback(filtered_tb) from None\n    File \"C:\\Users\\hsmin\\anaconda3\\lib\\site-packages\\keras\\engine\\input_spec.py\", line 295, in assert_input_compatibility\n        raise ValueError(\n\n    ValueError: Input 0 of layer \"model_1\" is incompatible with the layer: expected shape=(None, 784), found shape=(None, 28, 28, 1)\n"
     ]
    }
   ],
   "source": [
    "inputs = train_input[0:1].reshape(-1, 28, 28, 1) / 255.0\n",
    "feature_maps = conv_acti.predict(inputs)"
   ]
  },
  {
   "cell_type": "code",
   "execution_count": null,
   "id": "69453355",
   "metadata": {},
   "outputs": [],
   "source": [
    "# 세임 패딩과 32개의 필터를 사용하였기에 (28, 28, 32)\n",
    "print(feature_maps.shape)"
   ]
  },
  {
   "cell_type": "code",
   "execution_count": 44,
   "id": "1f601d15",
   "metadata": {},
   "outputs": [
    {
     "ename": "NameError",
     "evalue": "name 'feature_maps' is not defined",
     "output_type": "error",
     "traceback": [
      "\u001b[1;31m---------------------------------------------------------------------------\u001b[0m",
      "\u001b[1;31mNameError\u001b[0m                                 Traceback (most recent call last)",
      "Input \u001b[1;32mIn [44]\u001b[0m, in \u001b[0;36m<cell line: 2>\u001b[1;34m()\u001b[0m\n\u001b[0;32m      2\u001b[0m \u001b[38;5;28;01mfor\u001b[39;00m i \u001b[38;5;129;01min\u001b[39;00m \u001b[38;5;28mrange\u001b[39m(\u001b[38;5;241m4\u001b[39m):\n\u001b[0;32m      3\u001b[0m     \u001b[38;5;28;01mfor\u001b[39;00m j \u001b[38;5;129;01min\u001b[39;00m \u001b[38;5;28mrange\u001b[39m(\u001b[38;5;241m8\u001b[39m):\n\u001b[1;32m----> 4\u001b[0m         axs[i, j]\u001b[38;5;241m.\u001b[39mimshow(\u001b[43mfeature_maps\u001b[49m[\u001b[38;5;241m0\u001b[39m,:,:,i\u001b[38;5;241m*\u001b[39m\u001b[38;5;241m8\u001b[39m\u001b[38;5;241m+\u001b[39mj])\n\u001b[0;32m      5\u001b[0m         axs[i, j]\u001b[38;5;241m.\u001b[39maxis(\u001b[38;5;124m'\u001b[39m\u001b[38;5;124moff\u001b[39m\u001b[38;5;124m'\u001b[39m)\n\u001b[0;32m      6\u001b[0m plt\u001b[38;5;241m.\u001b[39mshow()\n",
      "\u001b[1;31mNameError\u001b[0m: name 'feature_maps' is not defined"
     ]
    },
    {
     "data": {
      "image/png": "[encoded data removed]",
      "text/plain": [
       "<Figure size 1080x576 with 32 Axes>"
      ]
     },
     "metadata": {
      "needs_background": "light"
     },
     "output_type": "display_data"
    }
   ],
   "source": [
    "fig, axs = plt.subplots(4, 8, figsize=(15,8))\n",
    "for i in range(4):\n",
    "    for j in range(8):\n",
    "        axs[i, j].imshow(feature_maps[0,:,:,i*8+j])\n",
    "        axs[i, j].axis('off')\n",
    "plt.show()"
   ]
  },
  {
   "cell_type": "code",
   "execution_count": null,
   "id": "610c1ee2",
   "metadata": {},
   "outputs": [],
   "source": []
  },
  {
   "cell_type": "code",
   "execution_count": null,
   "id": "f7f1689a",
   "metadata": {},
   "outputs": [],
   "source": []
  },
  {
   "cell_type": "code",
   "execution_count": null,
   "id": "14cc13bd",
   "metadata": {},
   "outputs": [],
   "source": []
  },
  {
   "cell_type": "code",
   "execution_count": null,
   "id": "ca097ce6",
   "metadata": {},
   "outputs": [],
   "source": []
  }
 ],
 "metadata": {
  "kernelspec": {
   "display_name": "Python 3 (ipykernel)",
   "language": "python",
   "name": "python3"
  },
  "language_info": {
   "codemirror_mode": {
    "name": "ipython",
    "version": 3
   },
   "file_extension": ".py",
   "mimetype": "text/x-python",
   "name": "python",
   "nbconvert_exporter": "python",
   "pygments_lexer": "ipython3",
   "version": "3.9.19"
  }
 },
 "nbformat": 4,
 "nbformat_minor": 5
}
